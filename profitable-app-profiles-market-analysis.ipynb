{
 "cells": [
  {
   "cell_type": "markdown",
   "id": "9779d08b",
   "metadata": {
    "papermill": {
     "duration": 0.052076,
     "end_time": "2021-12-15T19:59:03.344928",
     "exception": false,
     "start_time": "2021-12-15T19:59:03.292852",
     "status": "completed"
    },
    "tags": []
   },
   "source": [
    "# Profitable App Profiles for the App Store and Google Play Markets\n",
    "## Business Task and Data Source\n",
    "\n",
    "- The project is an analysis about the profitable App profiles for both the App Store and Google Paly market. \n",
    "- We will find out what type of free apps are likely to attract more users, in other words, the most common genres for each market.\n",
    "- To do this, we'll need to collect and analyze data about mobile apps available on Google Play and the App Store.\n",
    "- [The data set](https://www.kaggle.com/lava18/google-play-store-apps) from Kaggle containing data about approximately 10,000 Android apps from Google Play; the data was collected in August 2018. It can be downloaded directly from [this link](https://dq-content.s3.amazonaws.com/350/googleplaystore.csv).\n",
    "- [The data set](https://www.kaggle.com/ramamet4/app-store-apple-data-set-10k-apps) from Kaggle containing data about approximately 7,000 iOS apps from the App Store; the data was collected in July 2017. It can be downloaded directly from [this link](https://dq-content.s3.amazonaws.com/350/AppleStore.csv).\n",
    "\n",
    "## Opening and Exploring the Data\n",
    "- In this project, data set from Apple Store is loaded and named `Appstore_data`, and data set for Android apps is named `Googleplay_data`"
   ]
  },
  {
   "cell_type": "code",
   "execution_count": 1,
   "id": "2aa33b46",
   "metadata": {
    "execution": {
     "iopub.execute_input": "2021-12-15T19:59:03.456805Z",
     "iopub.status.busy": "2021-12-15T19:59:03.456124Z",
     "iopub.status.idle": "2021-12-15T19:59:03.595111Z",
     "shell.execute_reply": "2021-12-15T19:59:03.593983Z",
     "shell.execute_reply.started": "2021-12-15T19:42:40.046119Z"
    },
    "papermill": {
     "duration": 0.198185,
     "end_time": "2021-12-15T19:59:03.595317",
     "exception": false,
     "start_time": "2021-12-15T19:59:03.397132",
     "status": "completed"
    },
    "tags": []
   },
   "outputs": [],
   "source": [
    "from csv import reader\n",
    "##Appstore data\n",
    "opened_file1=open('../input/app-store-apple-data-set-10k-apps/AppleStore.csv')\n",
    "Apple_list=reader(opened_file1)\n",
    "Appstore_data=list(Apple_list)\n",
    "\n",
    "##Googleplay data\n",
    "opened_file2=open('../input/google-play-store-apps/googleplaystore.csv')\n",
    "google_list=reader(opened_file2)\n",
    "Googleplay_data=list(google_list)"
   ]
  },
  {
   "cell_type": "markdown",
   "id": "29bbff26",
   "metadata": {
    "papermill": {
     "duration": 0.050462,
     "end_time": "2021-12-15T19:59:03.696531",
     "exception": false,
     "start_time": "2021-12-15T19:59:03.646069",
     "status": "completed"
    },
    "tags": []
   },
   "source": [
    "Using the function `explore_data()` to check number of apps in each dataset. \n",
    "- Takes in four parameters:\n",
    "1) `dataset`, which is expected to be a list of lists.\n",
    "2) `start` and `end`, which are both expected to be integers and represent the starting and the ending indices of a slice from the data set.\n",
    "3) `rows_and_columns`, which is expected to be a Boolean and has False as a default argument.\n",
    "- Slices the data set using `dataset[start:end]`.\n",
    "- Loops through the slice, and for each iteration, prints a row and adds a new line after that row using print('\\n').\n",
    "- Prints the number of rows and columns if `rows_and_columns` is True."
   ]
  },
  {
   "cell_type": "code",
   "execution_count": 2,
   "id": "0efb7a79",
   "metadata": {
    "collapsed": false,
    "execution": {
     "iopub.execute_input": "2021-12-15T19:59:03.804637Z",
     "iopub.status.busy": "2021-12-15T19:59:03.803934Z",
     "iopub.status.idle": "2021-12-15T19:59:03.807100Z",
     "shell.execute_reply": "2021-12-15T19:59:03.806424Z",
     "shell.execute_reply.started": "2021-12-15T19:42:40.217679Z"
    },
    "jupyter": {
     "outputs_hidden": false
    },
    "papermill": {
     "duration": 0.060204,
     "end_time": "2021-12-15T19:59:03.807240",
     "exception": false,
     "start_time": "2021-12-15T19:59:03.747036",
     "status": "completed"
    },
    "tags": []
   },
   "outputs": [],
   "source": [
    "def explore_data(dataset, start, end, rows_and_columns=False):\n",
    "    dataset_slice = dataset[start:end]    \n",
    "    for row in dataset_slice:\n",
    "        print(row)\n",
    "        print('\\n') # adds a new (empty) line after each row\n",
    "\n",
    "    if rows_and_columns:\n",
    "        print('Number of rows:', len(dataset))\n",
    "        print('Number of columns:', len(dataset[0]))\n",
    "        print('\\n')"
   ]
  },
  {
   "cell_type": "code",
   "execution_count": 3,
   "id": "bb2bba3e",
   "metadata": {
    "collapsed": false,
    "execution": {
     "iopub.execute_input": "2021-12-15T19:59:03.914143Z",
     "iopub.status.busy": "2021-12-15T19:59:03.911532Z",
     "iopub.status.idle": "2021-12-15T19:59:03.918040Z",
     "shell.execute_reply": "2021-12-15T19:59:03.918675Z",
     "shell.execute_reply.started": "2021-12-15T19:42:40.224913Z"
    },
    "jupyter": {
     "outputs_hidden": false
    },
    "papermill": {
     "duration": 0.060501,
     "end_time": "2021-12-15T19:59:03.918853",
     "exception": false,
     "start_time": "2021-12-15T19:59:03.858352",
     "status": "completed"
    },
    "tags": []
   },
   "outputs": [
    {
     "name": "stdout",
     "output_type": "stream",
     "text": [
      "['', 'id', 'track_name', 'size_bytes', 'currency', 'price', 'rating_count_tot', 'rating_count_ver', 'user_rating', 'user_rating_ver', 'ver', 'cont_rating', 'prime_genre', 'sup_devices.num', 'ipadSc_urls.num', 'lang.num', 'vpp_lic']\n",
      "\n",
      "\n",
      "Number of rows: 7198\n",
      "Number of columns: 17\n",
      "\n",
      "\n"
     ]
    }
   ],
   "source": [
    "explore_data(Appstore_data, 0,1,True)  "
   ]
  },
  {
   "cell_type": "code",
   "execution_count": 4,
   "id": "7613e112",
   "metadata": {
    "execution": {
     "iopub.execute_input": "2021-12-15T19:59:04.083973Z",
     "iopub.status.busy": "2021-12-15T19:59:04.083007Z",
     "iopub.status.idle": "2021-12-15T19:59:04.088815Z",
     "shell.execute_reply": "2021-12-15T19:59:04.089263Z",
     "shell.execute_reply.started": "2021-12-15T19:42:40.240248Z"
    },
    "papermill": {
     "duration": 0.118259,
     "end_time": "2021-12-15T19:59:04.089422",
     "exception": false,
     "start_time": "2021-12-15T19:59:03.971163",
     "status": "completed"
    },
    "tags": []
   },
   "outputs": [
    {
     "name": "stdout",
     "output_type": "stream",
     "text": [
      "['App', 'Category', 'Rating', 'Reviews', 'Size', 'Installs', 'Type', 'Price', 'Content Rating', 'Genres', 'Last Updated', 'Current Ver', 'Android Ver']\n",
      "\n",
      "\n",
      "Number of rows: 10842\n",
      "Number of columns: 13\n",
      "\n",
      "\n"
     ]
    }
   ],
   "source": [
    "explore_data(Googleplay_data, 0,1,True) "
   ]
  },
  {
   "cell_type": "markdown",
   "id": "c17d407d",
   "metadata": {
    "papermill": {
     "duration": 0.050816,
     "end_time": "2021-12-15T19:59:04.192205",
     "exception": false,
     "start_time": "2021-12-15T19:59:04.141389",
     "status": "completed"
    },
    "tags": []
   },
   "source": [
    "Appstore has 7197 apps and Google play has 10841 apps."
   ]
  },
  {
   "cell_type": "markdown",
   "id": "b0ae1d6f",
   "metadata": {
    "papermill": {
     "duration": 0.051315,
     "end_time": "2021-12-15T19:59:04.294814",
     "exception": false,
     "start_time": "2021-12-15T19:59:04.243499",
     "status": "completed"
    },
    "tags": []
   },
   "source": [
    "## Data Cleaning\n",
    "\n",
    "Before beginning our analysis, we need to make sure the data we analyze is accurate, otherwise the results of our analysis will be wrong. This means that we need to:\n",
    "\n",
    "- Detect inaccurate data, and correct or remove it.\n",
    "- Detect duplicate data, and remove the duplicates.\n",
    "\n",
    "Recall that at our company, we only build apps that are free to download and install, and that are directed toward an English-speaking audience. This means that we'll need to:\n",
    "\n",
    "- Remove non-English apps like 爱奇艺PPS -《欢乐颂2》电视剧热播.\n",
    "- Remove apps that aren't free."
   ]
  },
  {
   "cell_type": "markdown",
   "id": "4da95a30",
   "metadata": {
    "papermill": {
     "duration": 0.051286,
     "end_time": "2021-12-15T19:59:04.397621",
     "exception": false,
     "start_time": "2021-12-15T19:59:04.346335",
     "status": "completed"
    },
    "tags": []
   },
   "source": [
    "### Step 1. Deleting Incorrect Data \n",
    "#### Google Play Data\n",
    "From the discussion https://www.kaggle.com/lava18/google-play-store-apps/discussion we know that there is a missing data.\n",
    "- Row 10473 in Googleplay_data is not correct. Category is missing.\n",
    "- delete row 10473"
   ]
  },
  {
   "cell_type": "code",
   "execution_count": 5,
   "id": "869359b1",
   "metadata": {
    "collapsed": false,
    "execution": {
     "iopub.execute_input": "2021-12-15T19:59:04.505565Z",
     "iopub.status.busy": "2021-12-15T19:59:04.504823Z",
     "iopub.status.idle": "2021-12-15T19:59:04.507527Z",
     "shell.execute_reply": "2021-12-15T19:59:04.508066Z",
     "shell.execute_reply.started": "2021-12-15T19:42:40.253362Z"
    },
    "jupyter": {
     "outputs_hidden": false
    },
    "papermill": {
     "duration": 0.059482,
     "end_time": "2021-12-15T19:59:04.508232",
     "exception": false,
     "start_time": "2021-12-15T19:59:04.448750",
     "status": "completed"
    },
    "tags": []
   },
   "outputs": [
    {
     "name": "stdout",
     "output_type": "stream",
     "text": [
      "['App', 'Category', 'Rating', 'Reviews', 'Size', 'Installs', 'Type', 'Price', 'Content Rating', 'Genres', 'Last Updated', 'Current Ver', 'Android Ver']\n"
     ]
    }
   ],
   "source": [
    "print(Googleplay_data[0])"
   ]
  },
  {
   "cell_type": "code",
   "execution_count": 6,
   "id": "0baa7344",
   "metadata": {
    "collapsed": false,
    "execution": {
     "iopub.execute_input": "2021-12-15T19:59:04.615610Z",
     "iopub.status.busy": "2021-12-15T19:59:04.614991Z",
     "iopub.status.idle": "2021-12-15T19:59:04.619677Z",
     "shell.execute_reply": "2021-12-15T19:59:04.620304Z",
     "shell.execute_reply.started": "2021-12-15T19:42:40.263515Z"
    },
    "jupyter": {
     "outputs_hidden": false
    },
    "papermill": {
     "duration": 0.060819,
     "end_time": "2021-12-15T19:59:04.620501",
     "exception": false,
     "start_time": "2021-12-15T19:59:04.559682",
     "status": "completed"
    },
    "tags": []
   },
   "outputs": [
    {
     "name": "stdout",
     "output_type": "stream",
     "text": [
      "['Life Made WI-Fi Touchscreen Photo Frame', '1.9', '19', '3.0M', '1,000+', 'Free', '0', 'Everyone', '', 'February 11, 2018', '1.0.19', '4.0 and up']\n"
     ]
    }
   ],
   "source": [
    "print(Googleplay_data[10473])"
   ]
  },
  {
   "cell_type": "code",
   "execution_count": 7,
   "id": "70769064",
   "metadata": {
    "collapsed": false,
    "execution": {
     "iopub.execute_input": "2021-12-15T19:59:04.728367Z",
     "iopub.status.busy": "2021-12-15T19:59:04.727404Z",
     "iopub.status.idle": "2021-12-15T19:59:04.734954Z",
     "shell.execute_reply": "2021-12-15T19:59:04.735536Z",
     "shell.execute_reply.started": "2021-12-15T19:42:40.273441Z"
    },
    "jupyter": {
     "outputs_hidden": false
    },
    "papermill": {
     "duration": 0.063056,
     "end_time": "2021-12-15T19:59:04.735693",
     "exception": false,
     "start_time": "2021-12-15T19:59:04.672637",
     "status": "completed"
    },
    "tags": []
   },
   "outputs": [
    {
     "data": {
      "text/plain": [
       "12"
      ]
     },
     "execution_count": 7,
     "metadata": {},
     "output_type": "execute_result"
    }
   ],
   "source": [
    "len(Googleplay_data[10473])"
   ]
  },
  {
   "cell_type": "code",
   "execution_count": 8,
   "id": "b5cbf1a1",
   "metadata": {
    "execution": {
     "iopub.execute_input": "2021-12-15T19:59:04.844710Z",
     "iopub.status.busy": "2021-12-15T19:59:04.843671Z",
     "iopub.status.idle": "2021-12-15T19:59:04.847498Z",
     "shell.execute_reply": "2021-12-15T19:59:04.848069Z",
     "shell.execute_reply.started": "2021-12-15T19:42:40.288229Z"
    },
    "papermill": {
     "duration": 0.060355,
     "end_time": "2021-12-15T19:59:04.848227",
     "exception": false,
     "start_time": "2021-12-15T19:59:04.787872",
     "status": "completed"
    },
    "tags": []
   },
   "outputs": [],
   "source": [
    "del Googleplay_data[10473]"
   ]
  },
  {
   "cell_type": "markdown",
   "id": "f598001b",
   "metadata": {
    "papermill": {
     "duration": 0.052445,
     "end_time": "2021-12-15T19:59:04.954479",
     "exception": false,
     "start_time": "2021-12-15T19:59:04.902034",
     "status": "completed"
    },
    "tags": []
   },
   "source": [
    "### Step2. Removing Duplicate Entries \n",
    "  \n",
    "- Created two lists: one for storing the name of duplicate apps, and one for storing the name of unique apps.\n",
    "- Looped through the data set, and for each iteration:\n",
    "    1) We saved the app name to a variable named `name`.\n",
    "    2) If `name` was already in the `unique_apps` list, we appended name to the `duplicate_apps` list.\n",
    "    3) Else (if name wasn't already in the `unique_apps` list), we appended name to the `unique_apps` list."
   ]
  },
  {
   "cell_type": "markdown",
   "id": "1b3f0a69",
   "metadata": {
    "papermill": {
     "duration": 0.053346,
     "end_time": "2021-12-15T19:59:05.060501",
     "exception": false,
     "start_time": "2021-12-15T19:59:05.007155",
     "status": "completed"
    },
    "tags": []
   },
   "source": [
    "#### Google Play Data\n",
    "- 1181 duplicated entries are found"
   ]
  },
  {
   "cell_type": "code",
   "execution_count": 9,
   "id": "6c79a6b6",
   "metadata": {
    "collapsed": false,
    "execution": {
     "iopub.execute_input": "2021-12-15T19:59:05.241922Z",
     "iopub.status.busy": "2021-12-15T19:59:05.205352Z",
     "iopub.status.idle": "2021-12-15T19:59:05.875862Z",
     "shell.execute_reply": "2021-12-15T19:59:05.876562Z",
     "shell.execute_reply.started": "2021-12-15T19:42:40.295324Z"
    },
    "jupyter": {
     "outputs_hidden": false
    },
    "papermill": {
     "duration": 0.76377,
     "end_time": "2021-12-15T19:59:05.876745",
     "exception": false,
     "start_time": "2021-12-15T19:59:05.112975",
     "status": "completed"
    },
    "scrolled": true,
    "tags": []
   },
   "outputs": [
    {
     "name": "stdout",
     "output_type": "stream",
     "text": [
      "Number of duplicate apps in Google Play is 1181\n",
      "Examples of duplicate apps ['Quick PDF Scanner + OCR FREE', 'Box', 'Google My Business', 'ZOOM Cloud Meetings', 'join.me - Simple Meetings', 'Box', 'Zenefits', 'Google Ads', 'Google My Business', 'Slack']\n",
      "Number of unique apps 9659\n"
     ]
    }
   ],
   "source": [
    "duplicate_apps = []\n",
    "unique_apps = []\n",
    "\n",
    "for app in Googleplay_data[1:]:\n",
    "    name = app[0]\n",
    "    if name in unique_apps:\n",
    "        duplicate_apps.append(name)\n",
    "    else:\n",
    "        unique_apps.append(name)\n",
    "print('Number of duplicate apps in Google Play is', len(duplicate_apps))\n",
    "print('Examples of duplicate apps', duplicate_apps[:10])\n",
    "print('Number of unique apps', len(Googleplay_data)-1-len(duplicate_apps))        "
   ]
  },
  {
   "cell_type": "markdown",
   "id": "a3aa062b",
   "metadata": {
    "papermill": {
     "duration": 0.052921,
     "end_time": "2021-12-15T19:59:05.983919",
     "exception": false,
     "start_time": "2021-12-15T19:59:05.930998",
     "status": "completed"
    },
    "tags": []
   },
   "source": [
    "#### App Store Data\n",
    "- doesn't have duplicate entry"
   ]
  },
  {
   "cell_type": "code",
   "execution_count": 10,
   "id": "672ab26b",
   "metadata": {
    "collapsed": false,
    "execution": {
     "iopub.execute_input": "2021-12-15T19:59:06.139039Z",
     "iopub.status.busy": "2021-12-15T19:59:06.123162Z",
     "iopub.status.idle": "2021-12-15T19:59:06.682153Z",
     "shell.execute_reply": "2021-12-15T19:59:06.682696Z",
     "shell.execute_reply.started": "2021-12-15T19:42:40.987240Z"
    },
    "jupyter": {
     "outputs_hidden": false
    },
    "papermill": {
     "duration": 0.643986,
     "end_time": "2021-12-15T19:59:06.682874",
     "exception": false,
     "start_time": "2021-12-15T19:59:06.038888",
     "status": "completed"
    },
    "tags": []
   },
   "outputs": [
    {
     "name": "stdout",
     "output_type": "stream",
     "text": [
      "Number of duplicate apps in Apple Store is  0\n",
      "Examples of duplicate apps []\n",
      "Number of unique apps 7197\n"
     ]
    }
   ],
   "source": [
    "duplicate_apps2 = []\n",
    "unique_apps2 = []\n",
    "\n",
    "for app in Appstore_data[1:]:\n",
    "    name = app[0]\n",
    "    if name in unique_apps2:\n",
    "        duplicate_apps2.append(name)\n",
    "    else:\n",
    "        unique_apps2.append(name)\n",
    "print('Number of duplicate apps in Apple Store is ', len(duplicate_apps2))\n",
    "print('Examples of duplicate apps', duplicate_apps2[:10])\n",
    "print('Number of unique apps', len(Appstore_data)-1-len(duplicate_apps2))"
   ]
  },
  {
   "cell_type": "markdown",
   "id": "fc30f689",
   "metadata": {
    "papermill": {
     "duration": 0.053061,
     "end_time": "2021-12-15T19:59:06.789286",
     "exception": false,
     "start_time": "2021-12-15T19:59:06.736225",
     "status": "completed"
    },
    "tags": []
   },
   "source": [
    "We don't want to count certain apps more than once when we analyze data, so we need to remove the duplicate entries and keep only one entry per app. One thing we could do is remove the duplicate rows randomly, but we could probably find a better way.\n",
    "\n",
    "By examining the rows we printed for the *Slack* app, the main difference happens on the fourth position of each row, which corresponds to the number of reviews. The different numbers show the data was collected at different times."
   ]
  },
  {
   "cell_type": "code",
   "execution_count": 11,
   "id": "7dec9cd7",
   "metadata": {
    "collapsed": false,
    "execution": {
     "iopub.execute_input": "2021-12-15T19:59:06.905041Z",
     "iopub.status.busy": "2021-12-15T19:59:06.904116Z",
     "iopub.status.idle": "2021-12-15T19:59:06.908198Z",
     "shell.execute_reply": "2021-12-15T19:59:06.907543Z",
     "shell.execute_reply.started": "2021-12-15T19:42:41.588868Z"
    },
    "jupyter": {
     "outputs_hidden": false
    },
    "papermill": {
     "duration": 0.065363,
     "end_time": "2021-12-15T19:59:06.908342",
     "exception": false,
     "start_time": "2021-12-15T19:59:06.842979",
     "status": "completed"
    },
    "tags": []
   },
   "outputs": [
    {
     "name": "stdout",
     "output_type": "stream",
     "text": [
      "['Slack', 'BUSINESS', '4.4', '51507', 'Varies with device', '5,000,000+', 'Free', '0', 'Everyone', 'Business', 'August 2, 2018', 'Varies with device', 'Varies with device']\n",
      "['Slack', 'BUSINESS', '4.4', '51507', 'Varies with device', '5,000,000+', 'Free', '0', 'Everyone', 'Business', 'August 2, 2018', 'Varies with device', 'Varies with device']\n",
      "['Slack', 'BUSINESS', '4.4', '51510', 'Varies with device', '5,000,000+', 'Free', '0', 'Everyone', 'Business', 'August 2, 2018', 'Varies with device', 'Varies with device']\n"
     ]
    }
   ],
   "source": [
    "for app in Googleplay_data:\n",
    "    name = app[0]\n",
    "    if name == 'Slack':\n",
    "        print(app)"
   ]
  },
  {
   "cell_type": "markdown",
   "id": "a29d5ca7",
   "metadata": {
    "papermill": {
     "duration": 0.053903,
     "end_time": "2021-12-15T19:59:07.017509",
     "exception": false,
     "start_time": "2021-12-15T19:59:06.963606",
     "status": "completed"
    },
    "tags": []
   },
   "source": [
    "- We can use this information to build a criterion for removing the duplicates. The higher the number of reviews, the more recent the data should be. Rather than removing duplicates randomly, we'll only keep the row with the highest number of reviews and remove the other entries for any given app.\n",
    "\n",
    "- To remove the duplicates, we will:\n",
    "\n",
    "    - Create a dictionary, where each dictionary key is a unique app name and the corresponding dictionary value is the highest number of reviews of that app. We use `reviews_max` as the dictionary. The length of dictionary is 9659 which is as expected.\n",
    "    - Use the information stored in the dictionary and create a new data set, which will have only one entry per app (and for each app, we'll only select the entry with the highest number of reviews)."
   ]
  },
  {
   "cell_type": "code",
   "execution_count": 12,
   "id": "d7ec1188",
   "metadata": {
    "collapsed": false,
    "execution": {
     "iopub.execute_input": "2021-12-15T19:59:07.134263Z",
     "iopub.status.busy": "2021-12-15T19:59:07.128371Z",
     "iopub.status.idle": "2021-12-15T19:59:07.147074Z",
     "shell.execute_reply": "2021-12-15T19:59:07.146434Z",
     "shell.execute_reply.started": "2021-12-15T19:42:41.598733Z"
    },
    "jupyter": {
     "outputs_hidden": false
    },
    "papermill": {
     "duration": 0.076136,
     "end_time": "2021-12-15T19:59:07.147211",
     "exception": false,
     "start_time": "2021-12-15T19:59:07.071075",
     "status": "completed"
    },
    "tags": []
   },
   "outputs": [
    {
     "name": "stdout",
     "output_type": "stream",
     "text": [
      "9659\n"
     ]
    }
   ],
   "source": [
    "reviews_max = {}\n",
    "for app in Googleplay_data[1:]:\n",
    "    n_reviews = float(app[3])\n",
    "    name = app[0]\n",
    "    if name in reviews_max and reviews_max[name] < n_reviews:\n",
    "        reviews_max[name] = n_reviews\n",
    "    elif name not in reviews_max:\n",
    "        reviews_max[name] = n_reviews\n",
    "print(len(reviews_max))  "
   ]
  },
  {
   "cell_type": "markdown",
   "id": "83a1512d",
   "metadata": {
    "papermill": {
     "duration": 0.053959,
     "end_time": "2021-12-15T19:59:07.255770",
     "exception": false,
     "start_time": "2021-12-15T19:59:07.201811",
     "status": "completed"
    },
    "tags": []
   },
   "source": [
    "### Use the dictionary `reviews_max` to remove the duplicate rows:\n",
    "\n",
    "- Start by creating two empty lists: android_clean (which will store our new cleaned data set) and already_added (which will just store app names).\n",
    "- Loop through the Google Play data set (make sure you don't include the header row), and for each iteration:\n",
    "    - Assign the app name to a variable named name.\n",
    "    - Convert the number of reviews to float, and assign it to a variable named n_reviews.\n",
    "- If n_reviews is the same as the number of maximum reviews of the app name (the number can be found in the reviews_max dictionary) and name is not already in the list already_added (read the solution notebook to find out why we need this supplementary condition):\n",
    "- Append the entire row to the android_clean list (which will eventually be a list of list and store our cleaned data set).\n",
    "- Append the name of the app name to the already_added list — this helps us to keep track of apps that we already added."
   ]
  },
  {
   "cell_type": "code",
   "execution_count": 13,
   "id": "c30413a1",
   "metadata": {
    "collapsed": false,
    "execution": {
     "iopub.execute_input": "2021-12-15T19:59:07.429676Z",
     "iopub.status.busy": "2021-12-15T19:59:07.393534Z",
     "iopub.status.idle": "2021-12-15T19:59:08.074313Z",
     "shell.execute_reply": "2021-12-15T19:59:08.074884Z",
     "shell.execute_reply.started": "2021-12-15T19:42:41.623161Z"
    },
    "jupyter": {
     "outputs_hidden": false
    },
    "papermill": {
     "duration": 0.765187,
     "end_time": "2021-12-15T19:59:08.075083",
     "exception": false,
     "start_time": "2021-12-15T19:59:07.309896",
     "status": "completed"
    },
    "tags": []
   },
   "outputs": [
    {
     "name": "stdout",
     "output_type": "stream",
     "text": [
      "9659\n"
     ]
    }
   ],
   "source": [
    "android_clean=[]\n",
    "already_added=[]\n",
    "for app in Googleplay_data[1:]:\n",
    "    n_reviews = float(app[3])\n",
    "    name = app[0]\n",
    "    if n_reviews == reviews_max[name] and name not in already_added:\n",
    "        android_clean.append(app)\n",
    "        already_added.append(name)\n",
    "        \n",
    "print(len(android_clean))"
   ]
  },
  {
   "cell_type": "markdown",
   "id": "7678f3d8",
   "metadata": {
    "papermill": {
     "duration": 0.053737,
     "end_time": "2021-12-15T19:59:08.182763",
     "exception": false,
     "start_time": "2021-12-15T19:59:08.129026",
     "status": "completed"
    },
    "tags": []
   },
   "source": [
    "### Step 3. Removing Non-English Apps\n",
    "- According to the ASCII (American Standard Code for Information Interchange) system, The numbers corresponding to the characters we commonly use in an English text are all in the range 0 to 127\n",
    "- Based on this number range, we can build a function that detects whether a character belongs to the set of common English characters or not. If the number is equal to or less than 127, then the character belongs to the set of common English characters.\n",
    "- We can get the corresponding number of each character using the `ord()` built-in function.\n",
    "- It's very important to minimize the impact of data loss. We will only remove an app if its name has more than 3 non ASCII characters.\n",
    "\n",
    "#### Google Play Data\n",
    "- The new dataset after removing duplicate entries from Googleplay data set is named `android_clean`\n",
    "- I'd like to analyze only the apps that are directed toward an English-speaking audience. However, after exploring the data long enough, I find that both data sets have apps with names that suggest they are not directed toward an English-speaking audience.\n",
    "- After removing non-English apps from the list, the data set is named `Googleplay_english`"
   ]
  },
  {
   "cell_type": "code",
   "execution_count": 14,
   "id": "475a7fb4",
   "metadata": {
    "collapsed": false,
    "execution": {
     "iopub.execute_input": "2021-12-15T19:59:08.296996Z",
     "iopub.status.busy": "2021-12-15T19:59:08.296302Z",
     "iopub.status.idle": "2021-12-15T19:59:08.298929Z",
     "shell.execute_reply": "2021-12-15T19:59:08.299406Z",
     "shell.execute_reply.started": "2021-12-15T19:42:42.316439Z"
    },
    "jupyter": {
     "outputs_hidden": false
    },
    "papermill": {
     "duration": 0.062442,
     "end_time": "2021-12-15T19:59:08.299595",
     "exception": false,
     "start_time": "2021-12-15T19:59:08.237153",
     "status": "completed"
    },
    "tags": []
   },
   "outputs": [
    {
     "name": "stdout",
     "output_type": "stream",
     "text": [
      "中国語 AQリスニング\n",
      "لعبة تقدر تربح DZ\n"
     ]
    }
   ],
   "source": [
    "print(android_clean[4412][0])\n",
    "print(android_clean[7940][0])"
   ]
  },
  {
   "cell_type": "code",
   "execution_count": 15,
   "id": "f2979c4d",
   "metadata": {
    "execution": {
     "iopub.execute_input": "2021-12-15T19:59:08.415172Z",
     "iopub.status.busy": "2021-12-15T19:59:08.414540Z",
     "iopub.status.idle": "2021-12-15T19:59:08.416640Z",
     "shell.execute_reply": "2021-12-15T19:59:08.417140Z",
     "shell.execute_reply.started": "2021-12-15T19:42:42.323205Z"
    },
    "papermill": {
     "duration": 0.063174,
     "end_time": "2021-12-15T19:59:08.417302",
     "exception": false,
     "start_time": "2021-12-15T19:59:08.354128",
     "status": "completed"
    },
    "tags": []
   },
   "outputs": [],
   "source": [
    "def char_check(string):\n",
    "    non_ascii=0\n",
    "    for char in string:\n",
    "        if ord(char)>127:\n",
    "            non_ascii += 1\n",
    "    if non_ascii >3:\n",
    "        return False\n",
    "    else:\n",
    "        return True"
   ]
  },
  {
   "cell_type": "code",
   "execution_count": 16,
   "id": "afc44acc",
   "metadata": {
    "collapsed": false,
    "execution": {
     "iopub.execute_input": "2021-12-15T19:59:08.532611Z",
     "iopub.status.busy": "2021-12-15T19:59:08.531938Z",
     "iopub.status.idle": "2021-12-15T19:59:08.534483Z",
     "shell.execute_reply": "2021-12-15T19:59:08.534965Z",
     "shell.execute_reply.started": "2021-12-15T19:42:42.334335Z"
    },
    "jupyter": {
     "outputs_hidden": false
    },
    "papermill": {
     "duration": 0.062353,
     "end_time": "2021-12-15T19:59:08.535132",
     "exception": false,
     "start_time": "2021-12-15T19:59:08.472779",
     "status": "completed"
    },
    "tags": []
   },
   "outputs": [
    {
     "data": {
      "text/plain": [
       "True"
      ]
     },
     "execution_count": 16,
     "metadata": {},
     "output_type": "execute_result"
    }
   ],
   "source": [
    "char_check('Instagram')"
   ]
  },
  {
   "cell_type": "code",
   "execution_count": 17,
   "id": "3a05e640",
   "metadata": {
    "collapsed": false,
    "execution": {
     "iopub.execute_input": "2021-12-15T19:59:08.650577Z",
     "iopub.status.busy": "2021-12-15T19:59:08.649589Z",
     "iopub.status.idle": "2021-12-15T19:59:08.654221Z",
     "shell.execute_reply": "2021-12-15T19:59:08.654839Z",
     "shell.execute_reply.started": "2021-12-15T19:42:42.347075Z"
    },
    "jupyter": {
     "outputs_hidden": false
    },
    "papermill": {
     "duration": 0.065024,
     "end_time": "2021-12-15T19:59:08.655001",
     "exception": false,
     "start_time": "2021-12-15T19:59:08.589977",
     "status": "completed"
    },
    "tags": []
   },
   "outputs": [
    {
     "data": {
      "text/plain": [
       "False"
      ]
     },
     "execution_count": 17,
     "metadata": {},
     "output_type": "execute_result"
    }
   ],
   "source": [
    "char_check('爱奇艺PPS -《欢乐颂2》电视剧热播')"
   ]
  },
  {
   "cell_type": "code",
   "execution_count": 18,
   "id": "16a5d419",
   "metadata": {
    "collapsed": false,
    "execution": {
     "iopub.execute_input": "2021-12-15T19:59:08.768303Z",
     "iopub.status.busy": "2021-12-15T19:59:08.767703Z",
     "iopub.status.idle": "2021-12-15T19:59:08.772017Z",
     "shell.execute_reply": "2021-12-15T19:59:08.772641Z",
     "shell.execute_reply.started": "2021-12-15T19:42:42.359019Z"
    },
    "jupyter": {
     "outputs_hidden": false
    },
    "papermill": {
     "duration": 0.062595,
     "end_time": "2021-12-15T19:59:08.772804",
     "exception": false,
     "start_time": "2021-12-15T19:59:08.710209",
     "status": "completed"
    },
    "tags": []
   },
   "outputs": [
    {
     "data": {
      "text/plain": [
       "True"
      ]
     },
     "execution_count": 18,
     "metadata": {},
     "output_type": "execute_result"
    }
   ],
   "source": [
    "char_check('Docs To Go™ Free Office Suite')"
   ]
  },
  {
   "cell_type": "code",
   "execution_count": 19,
   "id": "04936526",
   "metadata": {
    "collapsed": false,
    "execution": {
     "iopub.execute_input": "2021-12-15T19:59:08.887242Z",
     "iopub.status.busy": "2021-12-15T19:59:08.886540Z",
     "iopub.status.idle": "2021-12-15T19:59:08.891105Z",
     "shell.execute_reply": "2021-12-15T19:59:08.891720Z",
     "shell.execute_reply.started": "2021-12-15T19:42:42.369795Z"
    },
    "jupyter": {
     "outputs_hidden": false
    },
    "papermill": {
     "duration": 0.063348,
     "end_time": "2021-12-15T19:59:08.891920",
     "exception": false,
     "start_time": "2021-12-15T19:59:08.828572",
     "status": "completed"
    },
    "tags": []
   },
   "outputs": [
    {
     "data": {
      "text/plain": [
       "True"
      ]
     },
     "execution_count": 19,
     "metadata": {},
     "output_type": "execute_result"
    }
   ],
   "source": [
    "char_check('Instachat 😜')"
   ]
  },
  {
   "cell_type": "markdown",
   "id": "4eec8d1c",
   "metadata": {
    "papermill": {
     "duration": 0.055521,
     "end_time": "2021-12-15T19:59:09.003375",
     "exception": false,
     "start_time": "2021-12-15T19:59:08.947854",
     "status": "completed"
    },
    "tags": []
   },
   "source": [
    "Use the function `char_check()` to filter out non-English apps from both data sets. Loop through each data set. If an app name is identified as English, append the whole row to a separate list."
   ]
  },
  {
   "cell_type": "code",
   "execution_count": 20,
   "id": "5cb0d85b",
   "metadata": {
    "collapsed": false,
    "execution": {
     "iopub.execute_input": "2021-12-15T19:59:09.119376Z",
     "iopub.status.busy": "2021-12-15T19:59:09.118725Z",
     "iopub.status.idle": "2021-12-15T19:59:09.146967Z",
     "shell.execute_reply": "2021-12-15T19:59:09.146378Z",
     "shell.execute_reply.started": "2021-12-15T19:42:42.383243Z"
    },
    "jupyter": {
     "outputs_hidden": false
    },
    "papermill": {
     "duration": 0.087801,
     "end_time": "2021-12-15T19:59:09.147130",
     "exception": false,
     "start_time": "2021-12-15T19:59:09.059329",
     "status": "completed"
    },
    "tags": []
   },
   "outputs": [
    {
     "name": "stdout",
     "output_type": "stream",
     "text": [
      "9614\n"
     ]
    }
   ],
   "source": [
    "Googleplay_english = []\n",
    "for row in android_clean:\n",
    "    if char_check(row[0]):\n",
    "        Googleplay_english.append(row)\n",
    "\n",
    "print(len(Googleplay_english))"
   ]
  },
  {
   "cell_type": "markdown",
   "id": "6fdf174e",
   "metadata": {
    "papermill": {
     "duration": 0.056043,
     "end_time": "2021-12-15T19:59:09.259762",
     "exception": false,
     "start_time": "2021-12-15T19:59:09.203719",
     "status": "completed"
    },
    "tags": []
   },
   "source": [
    "### App Store Data\n",
    "- After removing non-English apps from the list, the data set is named `Appstore_english`"
   ]
  },
  {
   "cell_type": "code",
   "execution_count": 21,
   "id": "e9069da6",
   "metadata": {
    "execution": {
     "iopub.execute_input": "2021-12-15T19:59:09.375473Z",
     "iopub.status.busy": "2021-12-15T19:59:09.374801Z",
     "iopub.status.idle": "2021-12-15T19:59:09.399421Z",
     "shell.execute_reply": "2021-12-15T19:59:09.400210Z",
     "shell.execute_reply.started": "2021-12-15T19:42:42.418323Z"
    },
    "papermill": {
     "duration": 0.084474,
     "end_time": "2021-12-15T19:59:09.400431",
     "exception": false,
     "start_time": "2021-12-15T19:59:09.315957",
     "status": "completed"
    },
    "tags": []
   },
   "outputs": [
    {
     "name": "stdout",
     "output_type": "stream",
     "text": [
      "6184\n"
     ]
    }
   ],
   "source": [
    "Appstore_english = []\n",
    "for row in Appstore_data:\n",
    "    if char_check(row[2]):\n",
    "        Appstore_english.append(row)\n",
    "\n",
    "print(len(Appstore_english))"
   ]
  },
  {
   "cell_type": "markdown",
   "id": "893851ff",
   "metadata": {
    "papermill": {
     "duration": 0.055987,
     "end_time": "2021-12-15T19:59:09.514053",
     "exception": false,
     "start_time": "2021-12-15T19:59:09.458066",
     "status": "completed"
    },
    "tags": []
   },
   "source": [
    "### Step 4. Isolating the Free Apps\n",
    "- we only build apps that are free to download and install, and our main source of revenue consists of in-app ads. Our data sets contain both free and non-free apps; I'll isolate only the free apps for our analysis.\n",
    "\n",
    "#### Google Play Data\n",
    "- According to index number 6 we can isolate the free apps.\n",
    "- new data set is named `Googleplay_final` and there are 8847 free apps"
   ]
  },
  {
   "cell_type": "code",
   "execution_count": 22,
   "id": "82073a3e",
   "metadata": {
    "collapsed": false,
    "execution": {
     "iopub.execute_input": "2021-12-15T19:59:09.630314Z",
     "iopub.status.busy": "2021-12-15T19:59:09.629660Z",
     "iopub.status.idle": "2021-12-15T19:59:09.633662Z",
     "shell.execute_reply": "2021-12-15T19:59:09.634393Z",
     "shell.execute_reply.started": "2021-12-15T19:42:42.446725Z"
    },
    "jupyter": {
     "outputs_hidden": false
    },
    "papermill": {
     "duration": 0.063607,
     "end_time": "2021-12-15T19:59:09.634633",
     "exception": false,
     "start_time": "2021-12-15T19:59:09.571026",
     "status": "completed"
    },
    "tags": []
   },
   "outputs": [
    {
     "name": "stdout",
     "output_type": "stream",
     "text": [
      "Free\n"
     ]
    }
   ],
   "source": [
    "print(Googleplay_english[0][6])"
   ]
  },
  {
   "cell_type": "code",
   "execution_count": 23,
   "id": "fb130284",
   "metadata": {
    "collapsed": false,
    "execution": {
     "iopub.execute_input": "2021-12-15T19:59:09.752751Z",
     "iopub.status.busy": "2021-12-15T19:59:09.752029Z",
     "iopub.status.idle": "2021-12-15T19:59:09.759651Z",
     "shell.execute_reply": "2021-12-15T19:59:09.759121Z",
     "shell.execute_reply.started": "2021-12-15T19:42:42.452966Z"
    },
    "jupyter": {
     "outputs_hidden": false
    },
    "papermill": {
     "duration": 0.067229,
     "end_time": "2021-12-15T19:59:09.759785",
     "exception": false,
     "start_time": "2021-12-15T19:59:09.692556",
     "status": "completed"
    },
    "tags": []
   },
   "outputs": [
    {
     "name": "stdout",
     "output_type": "stream",
     "text": [
      "8864\n"
     ]
    }
   ],
   "source": [
    "Googleplay_final = []\n",
    "for row in Googleplay_english:\n",
    "    if row[7] == '0':\n",
    "        Googleplay_final.append(row)\n",
    "        \n",
    "print(len(Googleplay_final))"
   ]
  },
  {
   "cell_type": "markdown",
   "id": "b36fac14",
   "metadata": {
    "papermill": {
     "duration": 0.058045,
     "end_time": "2021-12-15T19:59:09.875025",
     "exception": false,
     "start_time": "2021-12-15T19:59:09.816980",
     "status": "completed"
    },
    "tags": []
   },
   "source": [
    "#### Apple Store Data\n",
    "- Index 5 shows the price. \n",
    "- Free apps are isolated by price equals 0\n",
    "- New dataset is named Appstore_final and the number of free apps is 4056"
   ]
  },
  {
   "cell_type": "code",
   "execution_count": 24,
   "id": "18929d77",
   "metadata": {
    "collapsed": false,
    "execution": {
     "iopub.execute_input": "2021-12-15T19:59:09.995503Z",
     "iopub.status.busy": "2021-12-15T19:59:09.994856Z",
     "iopub.status.idle": "2021-12-15T19:59:09.998670Z",
     "shell.execute_reply": "2021-12-15T19:59:09.999173Z",
     "shell.execute_reply.started": "2021-12-15T19:42:42.470171Z"
    },
    "jupyter": {
     "outputs_hidden": false
    },
    "papermill": {
     "duration": 0.0662,
     "end_time": "2021-12-15T19:59:09.999337",
     "exception": false,
     "start_time": "2021-12-15T19:59:09.933137",
     "status": "completed"
    },
    "tags": []
   },
   "outputs": [
    {
     "name": "stdout",
     "output_type": "stream",
     "text": [
      "['', 'id', 'track_name', 'size_bytes', 'currency', 'price', 'rating_count_tot', 'rating_count_ver', 'user_rating', 'user_rating_ver', 'ver', 'cont_rating', 'prime_genre', 'sup_devices.num', 'ipadSc_urls.num', 'lang.num', 'vpp_lic']\n"
     ]
    }
   ],
   "source": [
    "print(Appstore_data[0])"
   ]
  },
  {
   "cell_type": "code",
   "execution_count": 25,
   "id": "fbe5b9e0",
   "metadata": {
    "collapsed": false,
    "execution": {
     "iopub.execute_input": "2021-12-15T19:59:10.118848Z",
     "iopub.status.busy": "2021-12-15T19:59:10.118173Z",
     "iopub.status.idle": "2021-12-15T19:59:10.121926Z",
     "shell.execute_reply": "2021-12-15T19:59:10.122800Z",
     "shell.execute_reply.started": "2021-12-15T19:42:42.482959Z"
    },
    "jupyter": {
     "outputs_hidden": false
    },
    "papermill": {
     "duration": 0.064659,
     "end_time": "2021-12-15T19:59:10.122986",
     "exception": false,
     "start_time": "2021-12-15T19:59:10.058327",
     "status": "completed"
    },
    "tags": []
   },
   "outputs": [
    {
     "name": "stdout",
     "output_type": "stream",
     "text": [
      "0\n"
     ]
    }
   ],
   "source": [
    "print(Appstore_english[5][5])"
   ]
  },
  {
   "cell_type": "code",
   "execution_count": 26,
   "id": "74fe7516",
   "metadata": {
    "collapsed": false,
    "execution": {
     "iopub.execute_input": "2021-12-15T19:59:10.246496Z",
     "iopub.status.busy": "2021-12-15T19:59:10.245762Z",
     "iopub.status.idle": "2021-12-15T19:59:10.248824Z",
     "shell.execute_reply": "2021-12-15T19:59:10.249538Z",
     "shell.execute_reply.started": "2021-12-15T19:42:42.496731Z"
    },
    "jupyter": {
     "outputs_hidden": false
    },
    "papermill": {
     "duration": 0.069093,
     "end_time": "2021-12-15T19:59:10.249749",
     "exception": false,
     "start_time": "2021-12-15T19:59:10.180656",
     "status": "completed"
    },
    "tags": []
   },
   "outputs": [
    {
     "name": "stdout",
     "output_type": "stream",
     "text": [
      "3222\n"
     ]
    }
   ],
   "source": [
    "Appstore_final=[]\n",
    "for row in Appstore_english:\n",
    "    if row[5]=='0':\n",
    "        Appstore_final.append(row)\n",
    "        \n",
    "print(len(Appstore_final))"
   ]
  },
  {
   "cell_type": "markdown",
   "id": "75b083ea",
   "metadata": {
    "papermill": {
     "duration": 0.058134,
     "end_time": "2021-12-15T19:59:10.366747",
     "exception": false,
     "start_time": "2021-12-15T19:59:10.308613",
     "status": "completed"
    },
    "tags": []
   },
   "source": [
    "## Most Common Apps by Genre\n",
    "Our aim is to determine the kinds of apps that are likely to attract more users because our revenue is highly influenced by the number of people using our apps.\n",
    "\n",
    "To minimize risks and overhead, the validation strategy for an app idea is comprised of three steps:\n",
    "\n",
    "- Build a minimal Android version of the app, and add it to Google Play.\n",
    "- If the app has a good response from users, we develop it further.\n",
    "- If the app is profitable after six months, we build an iOS version of the app and add it to the App Store.\n",
    "\n",
    "First, let's begin the analysis by getting a sense of what are the most common genres for each market. I'll build a frequency table for the `prime_genre` column of the App Store data set, and for the `Genres`(index 9) and `Category`(index 1) columns of the Google Play data set."
   ]
  },
  {
   "cell_type": "code",
   "execution_count": 27,
   "id": "8cafb17b",
   "metadata": {
    "collapsed": false,
    "execution": {
     "iopub.execute_input": "2021-12-15T19:59:10.487603Z",
     "iopub.status.busy": "2021-12-15T19:59:10.486868Z",
     "iopub.status.idle": "2021-12-15T19:59:10.489881Z",
     "shell.execute_reply": "2021-12-15T19:59:10.490324Z",
     "shell.execute_reply.started": "2021-12-15T19:42:42.510301Z"
    },
    "jupyter": {
     "outputs_hidden": false
    },
    "papermill": {
     "duration": 0.065848,
     "end_time": "2021-12-15T19:59:10.490509",
     "exception": false,
     "start_time": "2021-12-15T19:59:10.424661",
     "status": "completed"
    },
    "tags": []
   },
   "outputs": [
    {
     "name": "stdout",
     "output_type": "stream",
     "text": [
      "['App', 'Category', 'Rating', 'Reviews', 'Size', 'Installs', 'Type', 'Price', 'Content Rating', 'Genres', 'Last Updated', 'Current Ver', 'Android Ver']\n"
     ]
    }
   ],
   "source": [
    "print(Googleplay_data[0])"
   ]
  },
  {
   "cell_type": "code",
   "execution_count": 28,
   "id": "a8eed164",
   "metadata": {
    "collapsed": false,
    "execution": {
     "iopub.execute_input": "2021-12-15T19:59:10.610629Z",
     "iopub.status.busy": "2021-12-15T19:59:10.610026Z",
     "iopub.status.idle": "2021-12-15T19:59:10.614953Z",
     "shell.execute_reply": "2021-12-15T19:59:10.615542Z",
     "shell.execute_reply.started": "2021-12-15T19:42:42.525628Z"
    },
    "jupyter": {
     "outputs_hidden": false
    },
    "papermill": {
     "duration": 0.066354,
     "end_time": "2021-12-15T19:59:10.615701",
     "exception": false,
     "start_time": "2021-12-15T19:59:10.549347",
     "status": "completed"
    },
    "tags": []
   },
   "outputs": [
    {
     "name": "stdout",
     "output_type": "stream",
     "text": [
      "['Photo Editor & Candy Camera & Grid & ScrapBook', 'ART_AND_DESIGN', '4.1', '159', '19M', '10,000+', 'Free', '0', 'Everyone', 'Art & Design', 'January 7, 2018', '1.0.0', '4.0.3 and up']\n"
     ]
    }
   ],
   "source": [
    "print(Googleplay_final[0])"
   ]
  },
  {
   "cell_type": "markdown",
   "id": "f4ce5da1",
   "metadata": {
    "papermill": {
     "duration": 0.058183,
     "end_time": "2021-12-15T19:59:10.733455",
     "exception": false,
     "start_time": "2021-12-15T19:59:10.675272",
     "status": "completed"
    },
    "tags": []
   },
   "source": [
    "There are two functions used to analyze the frequency tables:\n",
    "\n",
    "- One function to generate frequency tables that show percentages\n",
    "- Another function we can use to display the percentages in a descending order"
   ]
  },
  {
   "cell_type": "code",
   "execution_count": 29,
   "id": "d202a245",
   "metadata": {
    "collapsed": false,
    "execution": {
     "iopub.execute_input": "2021-12-15T19:59:10.852968Z",
     "iopub.status.busy": "2021-12-15T19:59:10.852300Z",
     "iopub.status.idle": "2021-12-15T19:59:10.859569Z",
     "shell.execute_reply": "2021-12-15T19:59:10.860073Z",
     "shell.execute_reply.started": "2021-12-15T19:42:42.538080Z"
    },
    "jupyter": {
     "outputs_hidden": false
    },
    "papermill": {
     "duration": 0.068016,
     "end_time": "2021-12-15T19:59:10.860236",
     "exception": false,
     "start_time": "2021-12-15T19:59:10.792220",
     "status": "completed"
    },
    "tags": []
   },
   "outputs": [],
   "source": [
    "def freq_table(dataset,index):\n",
    "    temp_table = {}\n",
    "    total = 0\n",
    "    for row in dataset:\n",
    "        temp = row[index]\n",
    "        total += 1\n",
    "        if temp in temp_table:\n",
    "            temp_table[temp] += 1\n",
    "        else:\n",
    "            temp_table[temp] = 1\n",
    "            \n",
    "    table_percentages = {}\n",
    "    for key in temp_table:\n",
    "        percent = (temp_table[key] / total) * 100\n",
    "        table_percentages[key] = percent \n",
    "    \n",
    "    return table_percentages"
   ]
  },
  {
   "cell_type": "code",
   "execution_count": 30,
   "id": "20b3745d",
   "metadata": {
    "execution": {
     "iopub.execute_input": "2021-12-15T19:59:10.981862Z",
     "iopub.status.busy": "2021-12-15T19:59:10.980900Z",
     "iopub.status.idle": "2021-12-15T19:59:10.986343Z",
     "shell.execute_reply": "2021-12-15T19:59:10.986935Z",
     "shell.execute_reply.started": "2021-12-15T19:42:42.554570Z"
    },
    "papermill": {
     "duration": 0.067997,
     "end_time": "2021-12-15T19:59:10.987114",
     "exception": false,
     "start_time": "2021-12-15T19:59:10.919117",
     "status": "completed"
    },
    "tags": []
   },
   "outputs": [],
   "source": [
    "def display_table(dataset, index):\n",
    "    table = freq_table(dataset, index)\n",
    "    table_display = []\n",
    "    for key in table:\n",
    "        key_val_as_tuple = (table[key], key)\n",
    "        table_display.append(key_val_as_tuple)\n",
    "\n",
    "    table_sorted = sorted(table_display, reverse = True)\n",
    "    for entry in table_sorted:\n",
    "        print(entry[1], ':', entry[0])"
   ]
  },
  {
   "cell_type": "markdown",
   "id": "f1da16cb",
   "metadata": {
    "papermill": {
     "duration": 0.058562,
     "end_time": "2021-12-15T19:59:11.112599",
     "exception": false,
     "start_time": "2021-12-15T19:59:11.054037",
     "status": "completed"
    },
    "tags": []
   },
   "source": [
    "### Most Common Genre in App Store"
   ]
  },
  {
   "cell_type": "code",
   "execution_count": 31,
   "id": "afa8106f",
   "metadata": {
    "collapsed": false,
    "execution": {
     "iopub.execute_input": "2021-12-15T19:59:11.239914Z",
     "iopub.status.busy": "2021-12-15T19:59:11.239244Z",
     "iopub.status.idle": "2021-12-15T19:59:11.251708Z",
     "shell.execute_reply": "2021-12-15T19:59:11.250970Z",
     "shell.execute_reply.started": "2021-12-15T19:42:42.564922Z"
    },
    "jupyter": {
     "outputs_hidden": false
    },
    "papermill": {
     "duration": 0.080831,
     "end_time": "2021-12-15T19:59:11.251871",
     "exception": false,
     "start_time": "2021-12-15T19:59:11.171040",
     "status": "completed"
    },
    "tags": []
   },
   "outputs": [
    {
     "name": "stdout",
     "output_type": "stream",
     "text": [
      "Games : 58.16263190564867\n",
      "Entertainment : 7.883302296710118\n",
      "Photo & Video : 4.9658597144630665\n",
      "Education : 3.662321539416512\n",
      "Social Networking : 3.2898820608317814\n",
      "Shopping : 2.60707635009311\n",
      "Utilities : 2.5139664804469275\n",
      "Sports : 2.1415270018621975\n",
      "Music : 2.0484171322160147\n",
      "Health & Fitness : 2.0173805090006205\n",
      "Productivity : 1.7380509000620732\n",
      "Lifestyle : 1.5828677839851024\n",
      "News : 1.3345747982619491\n",
      "Travel : 1.2414649286157666\n",
      "Finance : 1.1173184357541899\n",
      "Weather : 0.8690254500310366\n",
      "Food & Drink : 0.8069522036002483\n",
      "Reference : 0.5586592178770949\n",
      "Business : 0.5276225946617008\n",
      "Book : 0.4345127250155183\n",
      "Navigation : 0.186219739292365\n",
      "Medical : 0.186219739292365\n",
      "Catalogs : 0.12414649286157665\n"
     ]
    }
   ],
   "source": [
    "display_table(Appstore_final,-5)"
   ]
  },
  {
   "cell_type": "markdown",
   "id": "a8b14960",
   "metadata": {
    "papermill": {
     "duration": 0.059172,
     "end_time": "2021-12-15T19:59:11.370468",
     "exception": false,
     "start_time": "2021-12-15T19:59:11.311296",
     "status": "completed"
    },
    "tags": []
   },
   "source": [
    "We can see that more than half (58.1%) of the apps are in the Games genre, which makes it the most common genre of the App Store.\n",
    "\n",
    "This is followed by Entertainment (7.9%), then Photo & Video(5.0%), etc...\n",
    "\n",
    "Most of the free apps designed are dominated by entertainment use such as Games, Photo & Video, Social Networking and Sports. Apps that are designed for practical purposes such as Education, Utilities and Finance are rare and less."
   ]
  },
  {
   "cell_type": "markdown",
   "id": "81b6a9be",
   "metadata": {
    "papermill": {
     "duration": 0.059092,
     "end_time": "2021-12-15T19:59:11.488496",
     "exception": false,
     "start_time": "2021-12-15T19:59:11.429404",
     "status": "completed"
    },
    "tags": []
   },
   "source": [
    "### Most Common Category and Genre in Google Play"
   ]
  },
  {
   "cell_type": "code",
   "execution_count": 32,
   "id": "43f5cc35",
   "metadata": {
    "collapsed": false,
    "execution": {
     "iopub.execute_input": "2021-12-15T19:59:11.617908Z",
     "iopub.status.busy": "2021-12-15T19:59:11.617218Z",
     "iopub.status.idle": "2021-12-15T19:59:11.625180Z",
     "shell.execute_reply": "2021-12-15T19:59:11.624654Z",
     "shell.execute_reply.started": "2021-12-15T19:42:42.585699Z"
    },
    "jupyter": {
     "outputs_hidden": false
    },
    "papermill": {
     "duration": 0.077717,
     "end_time": "2021-12-15T19:59:11.625327",
     "exception": false,
     "start_time": "2021-12-15T19:59:11.547610",
     "status": "completed"
    },
    "tags": []
   },
   "outputs": [
    {
     "name": "stdout",
     "output_type": "stream",
     "text": [
      "FAMILY : 18.907942238267147\n",
      "GAME : 9.724729241877256\n",
      "TOOLS : 8.461191335740072\n",
      "BUSINESS : 4.591606498194946\n",
      "LIFESTYLE : 3.9034296028880866\n",
      "PRODUCTIVITY : 3.892148014440433\n",
      "FINANCE : 3.7003610108303246\n",
      "MEDICAL : 3.531137184115524\n",
      "SPORTS : 3.395758122743682\n",
      "PERSONALIZATION : 3.3167870036101084\n",
      "COMMUNICATION : 3.2378158844765346\n",
      "HEALTH_AND_FITNESS : 3.0798736462093865\n",
      "PHOTOGRAPHY : 2.944494584837545\n",
      "NEWS_AND_MAGAZINES : 2.7978339350180503\n",
      "SOCIAL : 2.6624548736462095\n",
      "TRAVEL_AND_LOCAL : 2.33528880866426\n",
      "SHOPPING : 2.2450361010830324\n",
      "BOOKS_AND_REFERENCE : 2.1435018050541514\n",
      "DATING : 1.861462093862816\n",
      "VIDEO_PLAYERS : 1.7937725631768955\n",
      "MAPS_AND_NAVIGATION : 1.3989169675090252\n",
      "FOOD_AND_DRINK : 1.2409747292418771\n",
      "EDUCATION : 1.1620036101083033\n",
      "ENTERTAINMENT : 0.9589350180505415\n",
      "LIBRARIES_AND_DEMO : 0.9363718411552346\n",
      "AUTO_AND_VEHICLES : 0.9250902527075812\n",
      "HOUSE_AND_HOME : 0.8235559566787004\n",
      "WEATHER : 0.8009927797833934\n",
      "EVENTS : 0.7107400722021661\n",
      "PARENTING : 0.6543321299638989\n",
      "ART_AND_DESIGN : 0.6430505415162455\n",
      "COMICS : 0.6204873646209386\n",
      "BEAUTY : 0.5979241877256317\n"
     ]
    }
   ],
   "source": [
    "display_table(Googleplay_final,1) #Category"
   ]
  },
  {
   "cell_type": "markdown",
   "id": "11ec91a3",
   "metadata": {
    "papermill": {
     "duration": 0.059196,
     "end_time": "2021-12-15T19:59:11.744116",
     "exception": false,
     "start_time": "2021-12-15T19:59:11.684920",
     "status": "completed"
    },
    "tags": []
   },
   "source": [
    "The Google Play store has a more significant stand with apps that are designed for practical purposes(family, tools, Business, etc..).\n",
    "\n",
    "The leading category is family at 18.9%, followed by Game at 9.7% and so on."
   ]
  },
  {
   "cell_type": "code",
   "execution_count": 33,
   "id": "3d6a7f61",
   "metadata": {
    "collapsed": false,
    "execution": {
     "iopub.execute_input": "2021-12-15T19:59:11.875708Z",
     "iopub.status.busy": "2021-12-15T19:59:11.874426Z",
     "iopub.status.idle": "2021-12-15T19:59:11.929849Z",
     "shell.execute_reply": "2021-12-15T19:59:11.928858Z",
     "shell.execute_reply.started": "2021-12-15T19:42:42.608163Z"
    },
    "jupyter": {
     "outputs_hidden": false
    },
    "papermill": {
     "duration": 0.126329,
     "end_time": "2021-12-15T19:59:11.930060",
     "exception": false,
     "start_time": "2021-12-15T19:59:11.803731",
     "status": "completed"
    },
    "tags": []
   },
   "outputs": [
    {
     "name": "stdout",
     "output_type": "stream",
     "text": [
      "Tools : 8.449909747292418\n",
      "Entertainment : 6.069494584837545\n",
      "Education : 5.347472924187725\n",
      "Business : 4.591606498194946\n",
      "Productivity : 3.892148014440433\n",
      "Lifestyle : 3.892148014440433\n",
      "Finance : 3.7003610108303246\n",
      "Medical : 3.531137184115524\n",
      "Sports : 3.463447653429603\n",
      "Personalization : 3.3167870036101084\n",
      "Communication : 3.2378158844765346\n",
      "Action : 3.1024368231046933\n",
      "Health & Fitness : 3.0798736462093865\n",
      "Photography : 2.944494584837545\n",
      "News & Magazines : 2.7978339350180503\n",
      "Social : 2.6624548736462095\n",
      "Travel & Local : 2.3240072202166067\n",
      "Shopping : 2.2450361010830324\n",
      "Books & Reference : 2.1435018050541514\n",
      "Simulation : 2.0419675090252705\n",
      "Dating : 1.861462093862816\n",
      "Arcade : 1.8501805054151623\n",
      "Video Players & Editors : 1.7712093862815883\n",
      "Casual : 1.7599277978339352\n",
      "Maps & Navigation : 1.3989169675090252\n",
      "Food & Drink : 1.2409747292418771\n",
      "Puzzle : 1.128158844765343\n",
      "Racing : 0.9927797833935018\n",
      "Role Playing : 0.9363718411552346\n",
      "Libraries & Demo : 0.9363718411552346\n",
      "Auto & Vehicles : 0.9250902527075812\n",
      "Strategy : 0.9138086642599278\n",
      "House & Home : 0.8235559566787004\n",
      "Weather : 0.8009927797833934\n",
      "Events : 0.7107400722021661\n",
      "Adventure : 0.6768953068592057\n",
      "Comics : 0.6092057761732852\n",
      "Beauty : 0.5979241877256317\n",
      "Art & Design : 0.5979241877256317\n",
      "Parenting : 0.4963898916967509\n",
      "Card : 0.45126353790613716\n",
      "Casino : 0.42870036101083037\n",
      "Trivia : 0.41741877256317694\n",
      "Educational;Education : 0.39485559566787\n",
      "Board : 0.3835740072202166\n",
      "Educational : 0.3722924187725632\n",
      "Education;Education : 0.33844765342960287\n",
      "Word : 0.2594765342960289\n",
      "Casual;Pretend Play : 0.236913357400722\n",
      "Music : 0.2030685920577617\n",
      "Racing;Action & Adventure : 0.16922382671480143\n",
      "Puzzle;Brain Games : 0.16922382671480143\n",
      "Entertainment;Music & Video : 0.16922382671480143\n",
      "Casual;Brain Games : 0.13537906137184114\n",
      "Casual;Action & Adventure : 0.13537906137184114\n",
      "Arcade;Action & Adventure : 0.12409747292418773\n",
      "Action;Action & Adventure : 0.10153429602888085\n",
      "Educational;Pretend Play : 0.09025270758122744\n",
      "Simulation;Action & Adventure : 0.078971119133574\n",
      "Parenting;Education : 0.078971119133574\n",
      "Entertainment;Brain Games : 0.078971119133574\n",
      "Board;Brain Games : 0.078971119133574\n",
      "Parenting;Music & Video : 0.06768953068592057\n",
      "Educational;Brain Games : 0.06768953068592057\n",
      "Casual;Creativity : 0.06768953068592057\n",
      "Art & Design;Creativity : 0.06768953068592057\n",
      "Education;Pretend Play : 0.056407942238267145\n",
      "Role Playing;Pretend Play : 0.04512635379061372\n",
      "Education;Creativity : 0.04512635379061372\n",
      "Role Playing;Action & Adventure : 0.033844765342960284\n",
      "Puzzle;Action & Adventure : 0.033844765342960284\n",
      "Entertainment;Creativity : 0.033844765342960284\n",
      "Entertainment;Action & Adventure : 0.033844765342960284\n",
      "Educational;Creativity : 0.033844765342960284\n",
      "Educational;Action & Adventure : 0.033844765342960284\n",
      "Education;Music & Video : 0.033844765342960284\n",
      "Education;Brain Games : 0.033844765342960284\n",
      "Education;Action & Adventure : 0.033844765342960284\n",
      "Adventure;Action & Adventure : 0.033844765342960284\n",
      "Video Players & Editors;Music & Video : 0.02256317689530686\n",
      "Sports;Action & Adventure : 0.02256317689530686\n",
      "Simulation;Pretend Play : 0.02256317689530686\n",
      "Puzzle;Creativity : 0.02256317689530686\n",
      "Music;Music & Video : 0.02256317689530686\n",
      "Entertainment;Pretend Play : 0.02256317689530686\n",
      "Casual;Education : 0.02256317689530686\n",
      "Board;Action & Adventure : 0.02256317689530686\n",
      "Video Players & Editors;Creativity : 0.01128158844765343\n",
      "Trivia;Education : 0.01128158844765343\n",
      "Travel & Local;Action & Adventure : 0.01128158844765343\n",
      "Tools;Education : 0.01128158844765343\n",
      "Strategy;Education : 0.01128158844765343\n",
      "Strategy;Creativity : 0.01128158844765343\n",
      "Strategy;Action & Adventure : 0.01128158844765343\n",
      "Simulation;Education : 0.01128158844765343\n",
      "Role Playing;Brain Games : 0.01128158844765343\n",
      "Racing;Pretend Play : 0.01128158844765343\n",
      "Puzzle;Education : 0.01128158844765343\n",
      "Parenting;Brain Games : 0.01128158844765343\n",
      "Music & Audio;Music & Video : 0.01128158844765343\n",
      "Lifestyle;Pretend Play : 0.01128158844765343\n",
      "Lifestyle;Education : 0.01128158844765343\n",
      "Health & Fitness;Education : 0.01128158844765343\n",
      "Health & Fitness;Action & Adventure : 0.01128158844765343\n",
      "Entertainment;Education : 0.01128158844765343\n",
      "Communication;Creativity : 0.01128158844765343\n",
      "Comics;Creativity : 0.01128158844765343\n",
      "Casual;Music & Video : 0.01128158844765343\n",
      "Card;Action & Adventure : 0.01128158844765343\n",
      "Books & Reference;Education : 0.01128158844765343\n",
      "Art & Design;Pretend Play : 0.01128158844765343\n",
      "Art & Design;Action & Adventure : 0.01128158844765343\n",
      "Arcade;Pretend Play : 0.01128158844765343\n",
      "Adventure;Education : 0.01128158844765343\n"
     ]
    }
   ],
   "source": [
    "display_table(Googleplay_final,9) #Genre"
   ]
  },
  {
   "cell_type": "markdown",
   "id": "f8cc0fdb",
   "metadata": {
    "papermill": {
     "duration": 0.059585,
     "end_time": "2021-12-15T19:59:12.050300",
     "exception": false,
     "start_time": "2021-12-15T19:59:11.990715",
     "status": "completed"
    },
    "tags": []
   },
   "source": [
    "The difference between the Category column and the Genre column is that the genre column has more categories. As we move forward and looking at the bigger picture, we will only be using the Category column.\n",
    "\n",
    "Now lets summarize what we know. The App Store is domniated by apps for entertainment purposes and fun, while Google Play store is more diversed and balanced between entertainment apps and practical use apps.\n",
    "\n",
    "Is this implying a profitable market in the entertainment app develoment? We need to check the number of users."
   ]
  },
  {
   "cell_type": "markdown",
   "id": "af780d9a",
   "metadata": {
    "papermill": {
     "duration": 0.060138,
     "end_time": "2021-12-15T19:59:12.172163",
     "exception": false,
     "start_time": "2021-12-15T19:59:12.112025",
     "status": "completed"
    },
    "tags": []
   },
   "source": [
    "## Most Popular Apps by Genre on the App Store\n",
    "\n",
    "- One way to find out what genres are the most popular (have the most users) is to calculate the average number of installs for each app genre. For the Google Play data set, we can find this information in the `Installs` column, but this information is missing for the App Store data set. As a workaround, we'll take the total number of user ratings as a proxy, which we can find in the `rating_count_tot` app.\n",
    "- Let's start with calculating the average number of user ratings per app genre on the App Store. To do that, we'll need to:\n",
    "\n",
    "    - Isolate the apps of each genre.\n",
    "    - Sum up the user ratings for the apps of that genre.\n",
    "    - Divide the sum by the number of apps belonging to that genre (not by the total number of apps)."
   ]
  },
  {
   "cell_type": "markdown",
   "id": "03171ce2",
   "metadata": {
    "papermill": {
     "duration": 0.060447,
     "end_time": "2021-12-15T19:59:12.292697",
     "exception": false,
     "start_time": "2021-12-15T19:59:12.232250",
     "status": "completed"
    },
    "tags": []
   },
   "source": [
    "### Number of Apps in Each Genre"
   ]
  },
  {
   "cell_type": "code",
   "execution_count": 34,
   "id": "56174593",
   "metadata": {
    "execution": {
     "iopub.execute_input": "2021-12-15T19:59:12.423224Z",
     "iopub.status.busy": "2021-12-15T19:59:12.422535Z",
     "iopub.status.idle": "2021-12-15T19:59:12.432040Z",
     "shell.execute_reply": "2021-12-15T19:59:12.431357Z",
     "shell.execute_reply.started": "2021-12-15T19:42:42.654470Z"
    },
    "papermill": {
     "duration": 0.079243,
     "end_time": "2021-12-15T19:59:12.432181",
     "exception": false,
     "start_time": "2021-12-15T19:59:12.352938",
     "status": "completed"
    },
    "tags": []
   },
   "outputs": [
    {
     "name": "stdout",
     "output_type": "stream",
     "text": [
      "Games : 1874\n",
      "Entertainment : 254\n",
      "Photo & Video : 160\n",
      "Education : 118\n",
      "Social Networking : 106\n",
      "Shopping : 84\n",
      "Utilities : 81\n",
      "Sports : 69\n",
      "Music : 66\n",
      "Health & Fitness : 65\n",
      "Productivity : 56\n",
      "Lifestyle : 51\n",
      "News : 43\n",
      "Travel : 40\n",
      "Finance : 36\n",
      "Weather : 28\n",
      "Food & Drink : 26\n",
      "Reference : 18\n",
      "Business : 17\n",
      "Book : 14\n",
      "Navigation : 6\n",
      "Medical : 6\n",
      "Catalogs : 4\n"
     ]
    }
   ],
   "source": [
    "def genre_freq_table(dataset,index):\n",
    "    temp_table = {}\n",
    "    for row in dataset:\n",
    "        temp = row[index]\n",
    "        if temp in temp_table:\n",
    "            temp_table[temp] += 1\n",
    "        else:\n",
    "            temp_table[temp] = 1\n",
    "    return temp_table\n",
    "\n",
    "prime_genre_table=genre_freq_table(Appstore_final,-5)\n",
    "\n",
    "for key, val in sorted(prime_genre_table.items(),key=lambda x:x[1],reverse=True):\n",
    "    print(key, ':', val)"
   ]
  },
  {
   "cell_type": "markdown",
   "id": "d8c6d548",
   "metadata": {
    "papermill": {
     "duration": 0.060033,
     "end_time": "2021-12-15T19:59:12.552906",
     "exception": false,
     "start_time": "2021-12-15T19:59:12.492873",
     "status": "completed"
    },
    "tags": []
   },
   "source": [
    "### Average Number of User Reviews"
   ]
  },
  {
   "cell_type": "code",
   "execution_count": 35,
   "id": "a18516e3",
   "metadata": {
    "collapsed": false,
    "execution": {
     "iopub.execute_input": "2021-12-15T19:59:12.686302Z",
     "iopub.status.busy": "2021-12-15T19:59:12.685667Z",
     "iopub.status.idle": "2021-12-15T19:59:12.694552Z",
     "shell.execute_reply": "2021-12-15T19:59:12.693890Z",
     "shell.execute_reply.started": "2021-12-15T19:42:42.674850Z"
    },
    "jupyter": {
     "outputs_hidden": false
    },
    "papermill": {
     "duration": 0.081063,
     "end_time": "2021-12-15T19:59:12.694693",
     "exception": false,
     "start_time": "2021-12-15T19:59:12.613630",
     "status": "completed"
    },
    "tags": []
   },
   "outputs": [
    {
     "name": "stdout",
     "output_type": "stream",
     "text": [
      "Navigation : 86090.33333333333\n",
      "Reference : 74942.11111111111\n",
      "Social Networking : 71548.34905660378\n",
      "Music : 57326.530303030304\n",
      "Weather : 52279.892857142855\n",
      "Book : 39758.5\n",
      "Food & Drink : 33333.92307692308\n",
      "Finance : 31467.944444444445\n",
      "Photo & Video : 28441.54375\n",
      "Travel : 28243.8\n",
      "Shopping : 26919.690476190477\n",
      "Health & Fitness : 23298.015384615384\n",
      "Sports : 23008.898550724636\n",
      "Games : 22788.6696905016\n",
      "News : 21248.023255813954\n",
      "Productivity : 21028.410714285714\n",
      "Utilities : 18684.456790123455\n",
      "Lifestyle : 16485.764705882353\n",
      "Entertainment : 14029.830708661417\n",
      "Business : 7491.117647058823\n",
      "Education : 7003.983050847458\n",
      "Catalogs : 4004.0\n",
      "Medical : 612.0\n"
     ]
    }
   ],
   "source": [
    "count_table={}\n",
    "\n",
    "for row in Appstore_final:\n",
    "    rating=float(row[6])\n",
    "    genre=row[-5]\n",
    "    if genre in count_table:\n",
    "        count_table[genre]+=rating\n",
    "    else:\n",
    "        count_table[genre]=rating\n",
    "\n",
    "for genre in count_table:    \n",
    "    count_table[genre] = count_table[genre]/ prime_genre_table[genre]\n",
    "    \n",
    "for g, val in sorted(count_table.items(),key=lambda x:x[1],reverse=True):\n",
    "    print(g,':',val)"
   ]
  },
  {
   "cell_type": "markdown",
   "id": "2ed740db",
   "metadata": {
    "papermill": {
     "duration": 0.060645,
     "end_time": "2021-12-15T19:59:12.816229",
     "exception": false,
     "start_time": "2021-12-15T19:59:12.755584",
     "status": "completed"
    },
    "tags": []
   },
   "source": [
    "The genre \"Navigation\" has the most reviews but from the frequency table `prime_genre_table` we can see that only 6 apps in this genre.\n",
    "\n",
    "Navigation is so popular due to the needs of GPS and Car navigation. Waze and Google Maps are dominant."
   ]
  },
  {
   "cell_type": "code",
   "execution_count": 36,
   "id": "7066c3af",
   "metadata": {
    "collapsed": false,
    "execution": {
     "iopub.execute_input": "2021-12-15T19:59:12.947069Z",
     "iopub.status.busy": "2021-12-15T19:59:12.946372Z",
     "iopub.status.idle": "2021-12-15T19:59:12.950690Z",
     "shell.execute_reply": "2021-12-15T19:59:12.949902Z",
     "shell.execute_reply.started": "2021-12-15T19:42:42.702678Z"
    },
    "jupyter": {
     "outputs_hidden": false
    },
    "papermill": {
     "duration": 0.071757,
     "end_time": "2021-12-15T19:59:12.950865",
     "exception": false,
     "start_time": "2021-12-15T19:59:12.879108",
     "status": "completed"
    },
    "tags": []
   },
   "outputs": [
    {
     "name": "stdout",
     "output_type": "stream",
     "text": [
      "Waze - GPS Navigation, Maps & Real-time Traffic : 345046\n",
      "Geocaching® : 12811\n",
      "ImmobilienScout24: Real Estate Search in Germany : 187\n",
      "Railway Route Search : 5\n",
      "CoPilot GPS – Car Navigation & Offline Maps : 3582\n",
      "Google Maps - Navigation & Transit : 154911\n"
     ]
    }
   ],
   "source": [
    "for row in Appstore_final:\n",
    "    if row[-5]=='Navigation':\n",
    "        print(row[2],':',row[6])"
   ]
  },
  {
   "cell_type": "markdown",
   "id": "d3bd827e",
   "metadata": {
    "papermill": {
     "duration": 0.061619,
     "end_time": "2021-12-15T19:59:13.074799",
     "exception": false,
     "start_time": "2021-12-15T19:59:13.013180",
     "status": "completed"
    },
    "tags": []
   },
   "source": [
    "The second most common genre is Reference due to the App 'Bible'."
   ]
  },
  {
   "cell_type": "code",
   "execution_count": 37,
   "id": "ffb7f8df",
   "metadata": {
    "execution": {
     "iopub.execute_input": "2021-12-15T19:59:13.205774Z",
     "iopub.status.busy": "2021-12-15T19:59:13.205123Z",
     "iopub.status.idle": "2021-12-15T19:59:13.209929Z",
     "shell.execute_reply": "2021-12-15T19:59:13.214989Z",
     "shell.execute_reply.started": "2021-12-15T19:42:42.717323Z"
    },
    "papermill": {
     "duration": 0.079101,
     "end_time": "2021-12-15T19:59:13.215167",
     "exception": false,
     "start_time": "2021-12-15T19:59:13.136066",
     "status": "completed"
    },
    "tags": []
   },
   "outputs": [
    {
     "name": "stdout",
     "output_type": "stream",
     "text": [
      "Bible : 985920\n",
      "Dictionary.com Dictionary & Thesaurus : 200047\n",
      "Dictionary.com Dictionary & Thesaurus for iPad : 54175\n",
      "Muslim Pro: Ramadan 2017 Prayer Times, Azan, Quran : 18418\n",
      "Merriam-Webster Dictionary : 16849\n",
      "Google Translate : 26786\n",
      "Night Sky : 12122\n",
      "WWDC : 762\n",
      "Jishokun-Japanese English Dictionary & Translator : 0\n",
      "教えて!goo : 0\n",
      "VPN Express : 14\n",
      "New Furniture Mods - Pocket Wiki & Game Tools for Minecraft PC Edition : 17588\n",
      "LUCKY BLOCK MOD ™ for Minecraft PC Edition - The Best Pocket Wiki & Mods Installer Tools : 4693\n",
      "Guides for Pokémon GO - Pokemon GO News and Cheats : 826\n",
      "Horror Maps for Minecraft PE - Download The Scariest Maps for Minecraft Pocket Edition (MCPE) Free : 718\n",
      "City Maps for Minecraft PE - The Best Maps for Minecraft Pocket Edition (MCPE) : 8535\n",
      "GUNS MODS for Minecraft PC Edition - Mods Tools : 1497\n",
      "Real Bike Traffic Rider Virtual Reality Glasses : 8\n"
     ]
    }
   ],
   "source": [
    "for row in Appstore_final:\n",
    "    if row[-5]=='Reference':\n",
    "        print(row[2],':',row[6])"
   ]
  },
  {
   "cell_type": "code",
   "execution_count": 38,
   "id": "b63a8ff0",
   "metadata": {
    "execution": {
     "iopub.execute_input": "2021-12-15T19:59:13.341941Z",
     "iopub.status.busy": "2021-12-15T19:59:13.340938Z",
     "iopub.status.idle": "2021-12-15T19:59:13.384889Z",
     "shell.execute_reply": "2021-12-15T19:59:13.383950Z",
     "shell.execute_reply.started": "2021-12-15T19:49:59.186622Z"
    },
    "papermill": {
     "duration": 0.108127,
     "end_time": "2021-12-15T19:59:13.385086",
     "exception": false,
     "start_time": "2021-12-15T19:59:13.276959",
     "status": "completed"
    },
    "tags": []
   },
   "outputs": [
    {
     "name": "stdout",
     "output_type": "stream",
     "text": [
      "Facebook : 2974676\n",
      "LinkedIn : 71856\n",
      "Skype for iPhone : 373519\n",
      "Tumblr : 334293\n",
      "Match™ - #1 Dating App. : 60659\n",
      "WhatsApp Messenger : 287589\n",
      "TextNow - Unlimited Text + Calls : 164963\n",
      "Grindr - Gay and same sex guys chat, meet and date : 23201\n",
      "imo video calls and chat : 18841\n",
      "Ameba : 269\n",
      "Weibo : 7265\n",
      "Badoo - Meet New People, Chat, Socialize. : 34428\n",
      "Kik : 260965\n",
      "Qzone : 1649\n",
      "Fake-A-Location Free ™ : 354\n",
      "Tango - Free Video Call, Voice and Chat : 75412\n",
      "MeetMe - Chat and Meet New People : 97072\n",
      "SimSimi : 23530\n",
      "Viber Messenger – Text & Call : 164249\n",
      "Find My Family, Friends & iPhone - Life360 Locator : 43877\n",
      "Weibo HD : 16772\n",
      "POF - Best Dating App for Conversations : 52642\n",
      "GroupMe : 28260\n",
      "Lobi : 36\n",
      "WeChat : 34584\n",
      "ooVoo – Free Video Call, Text and Voice : 177501\n",
      "Pinterest : 1061624\n",
      "知乎 : 397\n",
      "Qzone HD : 458\n",
      "Skype for iPad : 60163\n",
      "LINE : 11437\n",
      "QQ : 9109\n",
      "LOVOO - Dating Chat : 1985\n",
      "QQ HD : 5058\n",
      "Messenger : 351466\n",
      "eHarmony™ Dating App - Meet Singles : 11124\n",
      "YouNow: Live Stream Video Chat : 12079\n",
      "Cougar Dating & Life Style App for Mature Women : 213\n",
      "Battlefield™ Companion : 689\n",
      "Whisper - Share, Express, Meet : 39819\n",
      "We Heart It - Fashion, wallpapers, quotes, tattoos : 90414\n",
      "Followers - Social Analytics For Instagram : 112778\n",
      "InsTrack for Instagram - Analytics Plus More : 85535\n",
      "Followers + for Instagram - Follower Analytics : 28633\n",
      "Timehop : 49510\n",
      "Repost for Instagram : 15185\n",
      "LINE PLAY - Your Avatar World : 34677\n",
      "Nextdoor : 14402\n",
      "Hangouts : 36404\n",
      "FollowMeter for Instagram - Followers Tracking : 11976\n",
      "Telegram Messenger : 7573\n",
      "Chatous - Chat with new people : 1609\n",
      "QQ International : 274\n",
      "FireChat : 1037\n",
      "Jodel : 1193\n",
      "Wishbone - Compare Anything : 20649\n",
      "Zenly - Locate your friends in realtime : 427\n",
      "Tantan : 235\n",
      "Flinch - Video Chat Staring Contest : 2134\n",
      "botman - Real time video chat : 7\n",
      "豆瓣 : 407\n",
      "Marco Polo Video Walkie Talkie : 27662\n",
      "After School - Funny Anonymous School News : 18482\n",
      "Highrise - Your Avatar Community : 2011\n",
      "Quick Reposter - Repost, Regram and Reshare Photos : 17694\n",
      "Kiwi - Q&A : 1538\n",
      "Periscope - Live Video Streaming Around the World : 6062\n",
      "Inke—Broadcast an amazing life : 147\n",
      "Discord - Chat for Gamers : 9152\n",
      "Candid - Speak Your Mind Freely : 398\n",
      "Down To Lunch : 2535\n",
      "SOMA Messenger : 3232\n",
      "Rawr Messenger - Dab your chat : 180\n",
      "Popcorn Buzz - Free Group Calls : 281\n",
      "Chain: Collaborate On MyVideo Story/Group Video : 35\n",
      "BestieBox : 0\n",
      "Selfeo : 366\n",
      "Followers Analysis Tool For Instagram App Free : 4253\n",
      "Hey! VINA - Where Women Meet New Friends : 719\n",
      "PlayStation®Messages : 1918\n",
      "WhenToPost: Best Time to Post Photos for Instagram : 158\n",
      "MATCH ON LINE chat : 0\n",
      "Fiesta by Tango - Chat & Meet New People : 885\n",
      "Houseparty - Group Video Chat : 3991\n",
      "All Devices for WhatsApp - Messenger for iPad : 682\n",
      "Peach — share vividly : 727\n",
      "bit-tube - Live Stream Video Chat : 0\n",
      "Miitomo : 23965\n",
      "SoundCloud Pulse: for creators : 240\n",
      "IAmNaughty – Dating App to Meet New People Online : 463\n",
      "League of Legends Friends : 420\n",
      "GhostCodes - a discovery app for Snapchat : 1313\n",
      "live.ly - live video streaming : 4145\n",
      "Live.me – Live Video Chat & Make Friends Nearby : 14724\n",
      "BOO! - Video chat camera with filters & stickers : 1805\n",
      "Google Allo — smart messaging : 862\n",
      "Google Duo - simple video calling : 1033\n",
      "Chat for Whatsapp - iPad Version : 5060\n",
      "Chat for Pokemon Go - GoChat : 500\n",
      "niconico ch : 0\n",
      "Followers Analytics for Instagram - InstaReport : 13914\n",
      "Monkey : 3060\n",
      "LINE BLOG : 0\n",
      "Mustknow - anonymous video Q&A : 53\n",
      "CTFxCmoji : 39\n",
      "Fam — Group video calling for iMessage : 279\n"
     ]
    }
   ],
   "source": [
    "for row in Appstore_final:\n",
    "    if row[-5]=='Social Networking':\n",
    "        print(row[2],':',row[6])"
   ]
  },
  {
   "cell_type": "code",
   "execution_count": 39,
   "id": "ed0856c8",
   "metadata": {
    "execution": {
     "iopub.execute_input": "2021-12-15T19:59:13.520414Z",
     "iopub.status.busy": "2021-12-15T19:59:13.519361Z",
     "iopub.status.idle": "2021-12-15T19:59:13.539741Z",
     "shell.execute_reply": "2021-12-15T19:59:13.539160Z",
     "shell.execute_reply.started": "2021-12-15T19:50:50.094504Z"
    },
    "papermill": {
     "duration": 0.091839,
     "end_time": "2021-12-15T19:59:13.539889",
     "exception": false,
     "start_time": "2021-12-15T19:59:13.448050",
     "status": "completed"
    },
    "tags": []
   },
   "outputs": [
    {
     "name": "stdout",
     "output_type": "stream",
     "text": [
      "Pandora - Music & Radio : 1126879\n",
      "Shazam - Discover music, artists, videos & lyrics : 402925\n",
      "iHeartRadio – Free Music & Radio Stations : 293228\n",
      "Deezer - Listen to your Favorite Music & Playlists : 4677\n",
      "Sonos Controller : 48905\n",
      "NRJ Radio : 38\n",
      "radio.de - Der Radioplayer : 64\n",
      "Spotify Music : 878563\n",
      "SoundCloud - Music & Audio : 135744\n",
      "Sing Karaoke Songs Unlimited with StarMaker : 26227\n",
      "SoundHound Song Search & Music Player : 82602\n",
      "Ringtones for iPhone & Ringtone Maker : 25403\n",
      "Coach Guitar - Lessons & Easy Tabs For Beginners : 2416\n",
      "TuneIn Radio - MLB NBA Audiobooks Podcasts Music : 110420\n",
      "Magic Piano by Smule : 131695\n",
      "QQ音乐HD : 224\n",
      "The Singing Machine Mobile Karaoke App : 130\n",
      "Bandsintown Concerts : 30845\n",
      "PetitLyrics : 0\n",
      "edjing Mix:DJ turntable to remix and scratch music : 13580\n",
      "Smule Sing! : 119316\n",
      "Amazon Music : 106235\n",
      "AutoRap by Smule : 18202\n",
      "My Mixtapez Music : 26286\n",
      "Certified Mixtapes - Hip Hop Albums & Mixtapes : 9975\n",
      "Karaoke - Sing Karaoke, Unlimited Songs! : 28606\n",
      "Napster - Top Music & Radio : 14268\n",
      "Musi - Unlimited Music For YouTube : 25193\n",
      "UE BOOM : 612\n",
      "Spinrilla - Mixtapes For Free : 15053\n",
      "Google Play Music : 10118\n",
      "Piano - Play Keyboard Music Games with Magic Tiles : 1636\n",
      "Bose SoundTouch : 3687\n",
      "DatPiff : 2815\n",
      "Sounds app - Music And Friends : 5126\n",
      "Smart Music: Streaming Videos and Radio : 17\n",
      "Free Piano app by Yokee : 13016\n",
      "Simple Radio - Live AM & FM Radio Stations : 4787\n",
      "Trebel Music - Unlimited Music Downloader : 2570\n",
      "TIDAL : 7398\n",
      "Acapella from PicPlayPost : 2487\n",
      "Medly - Music Maker : 933\n",
      "Amazon Alexa : 3018\n",
      "Music Freedom - Unlimited Free MP3 Music Streaming : 1246\n",
      "PlayGround • Music At Your Fingertips : 150\n",
      "Musical Video Maker - Create Music clips lip sync : 320\n",
      "Free Music Play - Mp3 Streamer & Player : 2496\n",
      "LiveMixtapes : 555\n",
      "AmpMe - A Portable Social Party Music Speaker : 1047\n",
      "NOISE : 355\n",
      "YouTube Music : 7109\n",
      "Ringtones for iPhone with Ringtone Maker : 4013\n",
      "Music Memos : 909\n",
      "Musicloud - MP3 and FLAC Music Player for Cloud Platforms. : 2211\n",
      "Bose Connect : 915\n",
      "Cloud Music Player - Downloader & Playlist Manager : 319\n",
      "Remixlive - Remix loops with pads : 288\n",
      "Free Music -  Player & Streamer  for Dropbox, OneDrive & Google Drive : 46\n",
      "Boom: Best Equalizer & Magical Surround Sound : 1375\n",
      "MP3 Music Player & Streamer for Clouds : 329\n",
      "Nicki Minaj: The Empire : 5196\n",
      "SongFlip - Free Music Streamer : 5004\n",
      "Blocs Wave - Make & Record Music : 158\n",
      "Music and Chill : 135\n",
      "Free Music - MP3 Streamer & Playlist Manager Pro : 13443\n",
      "BOSS Tuner : 13\n"
     ]
    }
   ],
   "source": [
    "for row in Appstore_final:\n",
    "    if row[-5]=='Music':\n",
    "        print(row[2],':',row[6])"
   ]
  },
  {
   "cell_type": "markdown",
   "id": "73091528",
   "metadata": {
    "papermill": {
     "duration": 0.062308,
     "end_time": "2021-12-15T19:59:13.665135",
     "exception": false,
     "start_time": "2021-12-15T19:59:13.602827",
     "status": "completed"
    },
    "tags": []
   },
   "source": [
    "If we exclude the market of Navigation and Reference, the most popular apps are in the Social Networking and Music category. "
   ]
  },
  {
   "cell_type": "markdown",
   "id": "c1eca247",
   "metadata": {
    "papermill": {
     "duration": 0.06244,
     "end_time": "2021-12-15T19:59:13.790492",
     "exception": false,
     "start_time": "2021-12-15T19:59:13.728052",
     "status": "completed"
    },
    "tags": []
   },
   "source": [
    "## Most Popular Apps by Genre on Google Play\n",
    "- Since having the data of the number of installs, it should be easier to abtain the genre popularity. On the other hand, the numbers arent actually precise and mostly left open-ended (1,000,000+, 100,000+, 10,000+, etc..).\n",
    "- The index number for \"Category\", \"Genres\" and \"Installs\" is 1, -4 and 5\n",
    "- 2 frequency tables for Category and Genres are created: `cat_freq_table` and `genres_freq_table`"
   ]
  },
  {
   "cell_type": "code",
   "execution_count": 40,
   "id": "c7665cd0",
   "metadata": {
    "execution": {
     "iopub.execute_input": "2021-12-15T19:59:13.922221Z",
     "iopub.status.busy": "2021-12-15T19:59:13.921565Z",
     "iopub.status.idle": "2021-12-15T19:59:13.938780Z",
     "shell.execute_reply": "2021-12-15T19:59:13.938211Z",
     "shell.execute_reply.started": "2021-12-15T19:42:42.734168Z"
    },
    "papermill": {
     "duration": 0.083024,
     "end_time": "2021-12-15T19:59:13.938928",
     "exception": false,
     "start_time": "2021-12-15T19:59:13.855904",
     "status": "completed"
    },
    "tags": []
   },
   "outputs": [
    {
     "name": "stdout",
     "output_type": "stream",
     "text": [
      "1,000,000+ : 15.726534296028879\n",
      "100,000+ : 11.552346570397113\n",
      "10,000,000+ : 10.548285198555957\n",
      "10,000+ : 10.198555956678701\n",
      "1,000+ : 8.393501805054152\n",
      "100+ : 6.915613718411552\n",
      "5,000,000+ : 6.825361010830325\n",
      "500,000+ : 5.561823104693141\n",
      "50,000+ : 4.7721119133574\n",
      "5,000+ : 4.512635379061372\n",
      "10+ : 3.5424187725631766\n",
      "500+ : 3.2490974729241873\n",
      "50,000,000+ : 2.3014440433213\n",
      "100,000,000+ : 2.1322202166064983\n",
      "50+ : 1.917870036101083\n",
      "5+ : 0.78971119133574\n",
      "1+ : 0.5076714801444043\n",
      "500,000,000+ : 0.2707581227436823\n",
      "1,000,000,000+ : 0.22563176895306858\n",
      "0+ : 0.04512635379061372\n",
      "0 : 0.01128158844765343\n"
     ]
    }
   ],
   "source": [
    "display_table(Googleplay_final,5)"
   ]
  },
  {
   "cell_type": "code",
   "execution_count": 41,
   "id": "b5b84db9",
   "metadata": {
    "execution": {
     "iopub.execute_input": "2021-12-15T19:59:14.146879Z",
     "iopub.status.busy": "2021-12-15T19:59:14.141385Z",
     "iopub.status.idle": "2021-12-15T19:59:14.215996Z",
     "shell.execute_reply": "2021-12-15T19:59:14.215392Z",
     "shell.execute_reply.started": "2021-12-15T19:42:42.756985Z"
    },
    "papermill": {
     "duration": 0.19904,
     "end_time": "2021-12-15T19:59:14.216149",
     "exception": false,
     "start_time": "2021-12-15T19:59:14.017109",
     "status": "completed"
    },
    "tags": []
   },
   "outputs": [
    {
     "name": "stdout",
     "output_type": "stream",
     "text": [
      "COMMUNICATION : 38456119.167247385\n",
      "VIDEO_PLAYERS : 24727872.452830188\n",
      "SOCIAL : 23253652.127118643\n",
      "PHOTOGRAPHY : 17840110.40229885\n",
      "PRODUCTIVITY : 16787331.344927534\n",
      "GAME : 15588015.603248259\n",
      "TRAVEL_AND_LOCAL : 13984077.710144928\n",
      "ENTERTAINMENT : 11640705.88235294\n",
      "TOOLS : 10801391.298666667\n",
      "NEWS_AND_MAGAZINES : 9549178.467741935\n",
      "BOOKS_AND_REFERENCE : 8767811.894736841\n",
      "SHOPPING : 7036877.311557789\n",
      "PERSONALIZATION : 5201482.6122448975\n",
      "WEATHER : 5074486.197183099\n",
      "HEALTH_AND_FITNESS : 4188821.9853479853\n",
      "MAPS_AND_NAVIGATION : 4056941.7741935486\n",
      "FAMILY : 3695641.8198090694\n",
      "SPORTS : 3638640.1428571427\n",
      "ART_AND_DESIGN : 1986335.0877192982\n",
      "FOOD_AND_DRINK : 1924897.7363636363\n",
      "EDUCATION : 1833495.145631068\n",
      "BUSINESS : 1712290.1474201474\n",
      "LIFESTYLE : 1437816.2687861272\n",
      "FINANCE : 1387692.475609756\n",
      "HOUSE_AND_HOME : 1331540.5616438356\n",
      "DATING : 854028.8303030303\n",
      "COMICS : 817657.2727272727\n",
      "AUTO_AND_VEHICLES : 647317.8170731707\n",
      "LIBRARIES_AND_DEMO : 638503.734939759\n",
      "PARENTING : 542603.6206896552\n",
      "BEAUTY : 513151.88679245283\n",
      "EVENTS : 253542.22222222222\n",
      "MEDICAL : 120550.61980830671\n"
     ]
    }
   ],
   "source": [
    "cat_freq_table = genre_freq_table(Googleplay_final, 1)\n",
    "install_table={}\n",
    "for category in cat_freq_table:\n",
    "    \n",
    "    total = 0\n",
    "    len_category = 0\n",
    "    for app in Googleplay_final:\n",
    "        category_app = app[1]\n",
    "        if category_app == category:            \n",
    "            n_installs = app[5]\n",
    "            n_installs = n_installs.replace(',', '')\n",
    "            n_installs = n_installs.replace('+', '')\n",
    "            total += float(n_installs)\n",
    "            len_category += 1\n",
    "    avg_n_installs = total / len_category\n",
    "    install_table[category]=avg_n_installs\n",
    "    #print(category, ':', avg_n_installs)\n",
    "\n",
    "for g, val in sorted(install_table.items(),key=lambda x:x[1],reverse=True):\n",
    "    print(g,':',val)"
   ]
  },
  {
   "cell_type": "markdown",
   "id": "8fa1453a",
   "metadata": {
    "execution": {
     "iopub.execute_input": "2021-11-22T00:55:21.369871Z",
     "iopub.status.busy": "2021-11-22T00:55:21.369583Z",
     "iopub.status.idle": "2021-11-22T00:55:21.376687Z",
     "shell.execute_reply": "2021-11-22T00:55:21.375765Z",
     "shell.execute_reply.started": "2021-11-22T00:55:21.369838Z"
    },
    "papermill": {
     "duration": 0.073971,
     "end_time": "2021-12-15T19:59:14.356636",
     "exception": false,
     "start_time": "2021-12-15T19:59:14.282665",
     "status": "completed"
    },
    "tags": []
   },
   "source": [
    "The list above tells us that Communication apps has the most installs on average at 38,456,119. \n",
    "Followed by Video_Players at 24,727,872 and thirdly Social with 23,253,652 installs.\n",
    "\n",
    "Each of these three categorys of apps are heavily influenced by big players.\n",
    "\n",
    "- Communication - WhatsApp, Facebook messenger, Skype, etc...\n",
    "- Video_Players - Youtube, Google Play Movies & tv, etc...\n",
    "- Social - Facebook, Instagram, etc..."
   ]
  },
  {
   "cell_type": "markdown",
   "id": "bea6e9a6",
   "metadata": {
    "papermill": {
     "duration": 0.063535,
     "end_time": "2021-12-15T19:59:14.484212",
     "exception": false,
     "start_time": "2021-12-15T19:59:14.420677",
     "status": "completed"
    },
    "tags": []
   },
   "source": [
    "# Conclusion\n",
    "- The most popular categories are social networking, music, photograph if excluding the big players"
   ]
  }
 ],
 "metadata": {
  "kernelspec": {
   "display_name": "Python 3",
   "language": "python",
   "name": "python3"
  },
  "language_info": {
   "codemirror_mode": {
    "name": "ipython",
    "version": 3
   },
   "file_extension": ".py",
   "mimetype": "text/x-python",
   "name": "python",
   "nbconvert_exporter": "python",
   "pygments_lexer": "ipython3",
   "version": "3.7.10"
  },
  "papermill": {
   "default_parameters": {},
   "duration": 21.229018,
   "end_time": "2021-12-15T19:59:15.158015",
   "environment_variables": {},
   "exception": null,
   "input_path": "__notebook__.ipynb",
   "output_path": "__notebook__.ipynb",
   "parameters": {},
   "start_time": "2021-12-15T19:58:53.928997",
   "version": "2.3.3"
  }
 },
 "nbformat": 4,
 "nbformat_minor": 5
}
