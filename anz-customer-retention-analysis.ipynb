{
 "cells": [
  {
   "cell_type": "markdown",
   "id": "29a7851e",
   "metadata": {
    "papermill": {
     "duration": 0.050459,
     "end_time": "2021-12-03T00:09:55.057240",
     "exception": false,
     "start_time": "2021-12-03T00:09:55.006781",
     "status": "completed"
    },
    "tags": []
   },
   "source": [
    "# ANZ Customer Retention Analysis\n",
    "\n",
    "## Data Source \n",
    "Transaction records for 100 hypothetical customers of ANZ bank across a 3 month period. Includes data regarding transaction type, transaction time & date, transaction amounts, customer details including age, gender and balance and also location data for certain transactions. \n",
    "\n",
    "## Outline\n",
    "The structure of this notebook is as follows:\n",
    "\n",
    "- First, we will start off by loading and viewing the dataset.\n",
    "- We will see that the dataset has a mixture of both numerical and non-numerical features, that it contains values from different ranges, plus that it contains a number of missing entries.\n",
    "- We will have to preprocess the dataset to ensure the machine learning model we choose can make good predictions.\n",
    "- After our data is in good shape, we will do exploratory data analysis to identify potential banking business opportunities."
   ]
  },
  {
   "cell_type": "markdown",
   "id": "302da648",
   "metadata": {
    "papermill": {
     "duration": 0.048626,
     "end_time": "2021-12-03T00:09:55.155931",
     "exception": false,
     "start_time": "2021-12-03T00:09:55.107305",
     "status": "completed"
    },
    "tags": []
   },
   "source": [
    "## Data Input"
   ]
  },
  {
   "cell_type": "code",
   "execution_count": 1,
   "id": "4f33bddc",
   "metadata": {
    "_cell_guid": "b1076dfc-b9ad-4769-8c92-a6c4dae69d19",
    "_uuid": "8f2839f25d086af736a60e9eeb907d3b93b6e0e5",
    "execution": {
     "iopub.execute_input": "2021-12-03T00:09:55.258180Z",
     "iopub.status.busy": "2021-12-03T00:09:55.257017Z",
     "iopub.status.idle": "2021-12-03T00:09:55.401777Z",
     "shell.execute_reply": "2021-12-03T00:09:55.402253Z",
     "shell.execute_reply.started": "2021-12-02T08:10:06.322828Z"
    },
    "papermill": {
     "duration": 0.197292,
     "end_time": "2021-12-03T00:09:55.402559",
     "exception": false,
     "start_time": "2021-12-03T00:09:55.205267",
     "status": "completed"
    },
    "tags": []
   },
   "outputs": [
    {
     "name": "stdout",
     "output_type": "stream",
     "text": [
      "/kaggle/input/anz-synthesised-transaction-dataset/anz.csv\n"
     ]
    }
   ],
   "source": [
    "import numpy as np # linear algebra\n",
    "import pandas as pd # data processing, CSV file I/O (e.g. pd.read_csv)\n",
    "\n",
    "# read input files\n",
    "import os\n",
    "for dirname, _, filenames in os.walk('/kaggle/input'):\n",
    "    for filename in filenames:\n",
    "        print(os.path.join(dirname, filename))\n",
    "\n",
    "#Reading the excel file\n",
    "\n",
    "df=pd.read_csv('../input/anz-synthesised-transaction-dataset/anz.csv')"
   ]
  },
  {
   "cell_type": "code",
   "execution_count": 2,
   "id": "40d694c0",
   "metadata": {
    "execution": {
     "iopub.execute_input": "2021-12-03T00:09:55.510183Z",
     "iopub.status.busy": "2021-12-03T00:09:55.509542Z",
     "iopub.status.idle": "2021-12-03T00:09:55.540280Z",
     "shell.execute_reply": "2021-12-03T00:09:55.540789Z",
     "shell.execute_reply.started": "2021-12-02T08:10:06.46487Z"
    },
    "papermill": {
     "duration": 0.088805,
     "end_time": "2021-12-03T00:09:55.540970",
     "exception": false,
     "start_time": "2021-12-03T00:09:55.452165",
     "status": "completed"
    },
    "tags": []
   },
   "outputs": [
    {
     "data": {
      "text/html": [
       "<div>\n",
       "<style scoped>\n",
       "    .dataframe tbody tr th:only-of-type {\n",
       "        vertical-align: middle;\n",
       "    }\n",
       "\n",
       "    .dataframe tbody tr th {\n",
       "        vertical-align: top;\n",
       "    }\n",
       "\n",
       "    .dataframe thead th {\n",
       "        text-align: right;\n",
       "    }\n",
       "</style>\n",
       "<table border=\"1\" class=\"dataframe\">\n",
       "  <thead>\n",
       "    <tr style=\"text-align: right;\">\n",
       "      <th></th>\n",
       "      <th>status</th>\n",
       "      <th>card_present_flag</th>\n",
       "      <th>bpay_biller_code</th>\n",
       "      <th>account</th>\n",
       "      <th>currency</th>\n",
       "      <th>long_lat</th>\n",
       "      <th>txn_description</th>\n",
       "      <th>merchant_id</th>\n",
       "      <th>merchant_code</th>\n",
       "      <th>first_name</th>\n",
       "      <th>...</th>\n",
       "      <th>age</th>\n",
       "      <th>merchant_suburb</th>\n",
       "      <th>merchant_state</th>\n",
       "      <th>extraction</th>\n",
       "      <th>amount</th>\n",
       "      <th>transaction_id</th>\n",
       "      <th>country</th>\n",
       "      <th>customer_id</th>\n",
       "      <th>merchant_long_lat</th>\n",
       "      <th>movement</th>\n",
       "    </tr>\n",
       "  </thead>\n",
       "  <tbody>\n",
       "    <tr>\n",
       "      <th>0</th>\n",
       "      <td>authorized</td>\n",
       "      <td>1.0</td>\n",
       "      <td>NaN</td>\n",
       "      <td>ACC-1598451071</td>\n",
       "      <td>AUD</td>\n",
       "      <td>153.41 -27.95</td>\n",
       "      <td>POS</td>\n",
       "      <td>81c48296-73be-44a7-befa-d053f48ce7cd</td>\n",
       "      <td>NaN</td>\n",
       "      <td>Diana</td>\n",
       "      <td>...</td>\n",
       "      <td>26</td>\n",
       "      <td>Ashmore</td>\n",
       "      <td>QLD</td>\n",
       "      <td>2018-08-01T01:01:15.000+0000</td>\n",
       "      <td>16.25</td>\n",
       "      <td>a623070bfead4541a6b0fff8a09e706c</td>\n",
       "      <td>Australia</td>\n",
       "      <td>CUS-2487424745</td>\n",
       "      <td>153.38 -27.99</td>\n",
       "      <td>debit</td>\n",
       "    </tr>\n",
       "    <tr>\n",
       "      <th>1</th>\n",
       "      <td>authorized</td>\n",
       "      <td>0.0</td>\n",
       "      <td>NaN</td>\n",
       "      <td>ACC-1598451071</td>\n",
       "      <td>AUD</td>\n",
       "      <td>153.41 -27.95</td>\n",
       "      <td>SALES-POS</td>\n",
       "      <td>830a451c-316e-4a6a-bf25-e37caedca49e</td>\n",
       "      <td>NaN</td>\n",
       "      <td>Diana</td>\n",
       "      <td>...</td>\n",
       "      <td>26</td>\n",
       "      <td>Sydney</td>\n",
       "      <td>NSW</td>\n",
       "      <td>2018-08-01T01:13:45.000+0000</td>\n",
       "      <td>14.19</td>\n",
       "      <td>13270a2a902145da9db4c951e04b51b9</td>\n",
       "      <td>Australia</td>\n",
       "      <td>CUS-2487424745</td>\n",
       "      <td>151.21 -33.87</td>\n",
       "      <td>debit</td>\n",
       "    </tr>\n",
       "    <tr>\n",
       "      <th>2</th>\n",
       "      <td>authorized</td>\n",
       "      <td>1.0</td>\n",
       "      <td>NaN</td>\n",
       "      <td>ACC-1222300524</td>\n",
       "      <td>AUD</td>\n",
       "      <td>151.23 -33.94</td>\n",
       "      <td>POS</td>\n",
       "      <td>835c231d-8cdf-4e96-859d-e9d571760cf0</td>\n",
       "      <td>NaN</td>\n",
       "      <td>Michael</td>\n",
       "      <td>...</td>\n",
       "      <td>38</td>\n",
       "      <td>Sydney</td>\n",
       "      <td>NSW</td>\n",
       "      <td>2018-08-01T01:26:15.000+0000</td>\n",
       "      <td>6.42</td>\n",
       "      <td>feb79e7ecd7048a5a36ec889d1a94270</td>\n",
       "      <td>Australia</td>\n",
       "      <td>CUS-2142601169</td>\n",
       "      <td>151.21 -33.87</td>\n",
       "      <td>debit</td>\n",
       "    </tr>\n",
       "    <tr>\n",
       "      <th>3</th>\n",
       "      <td>authorized</td>\n",
       "      <td>1.0</td>\n",
       "      <td>NaN</td>\n",
       "      <td>ACC-1037050564</td>\n",
       "      <td>AUD</td>\n",
       "      <td>153.10 -27.66</td>\n",
       "      <td>SALES-POS</td>\n",
       "      <td>48514682-c78a-4a88-b0da-2d6302e64673</td>\n",
       "      <td>NaN</td>\n",
       "      <td>Rhonda</td>\n",
       "      <td>...</td>\n",
       "      <td>40</td>\n",
       "      <td>Buderim</td>\n",
       "      <td>QLD</td>\n",
       "      <td>2018-08-01T01:38:45.000+0000</td>\n",
       "      <td>40.90</td>\n",
       "      <td>2698170da3704fd981b15e64a006079e</td>\n",
       "      <td>Australia</td>\n",
       "      <td>CUS-1614226872</td>\n",
       "      <td>153.05 -26.68</td>\n",
       "      <td>debit</td>\n",
       "    </tr>\n",
       "    <tr>\n",
       "      <th>4</th>\n",
       "      <td>authorized</td>\n",
       "      <td>1.0</td>\n",
       "      <td>NaN</td>\n",
       "      <td>ACC-1598451071</td>\n",
       "      <td>AUD</td>\n",
       "      <td>153.41 -27.95</td>\n",
       "      <td>SALES-POS</td>\n",
       "      <td>b4e02c10-0852-4273-b8fd-7b3395e32eb0</td>\n",
       "      <td>NaN</td>\n",
       "      <td>Diana</td>\n",
       "      <td>...</td>\n",
       "      <td>26</td>\n",
       "      <td>Mermaid Beach</td>\n",
       "      <td>QLD</td>\n",
       "      <td>2018-08-01T01:51:15.000+0000</td>\n",
       "      <td>3.25</td>\n",
       "      <td>329adf79878c4cf0aeb4188b4691c266</td>\n",
       "      <td>Australia</td>\n",
       "      <td>CUS-2487424745</td>\n",
       "      <td>153.44 -28.06</td>\n",
       "      <td>debit</td>\n",
       "    </tr>\n",
       "  </tbody>\n",
       "</table>\n",
       "<p>5 rows × 23 columns</p>\n",
       "</div>"
      ],
      "text/plain": [
       "       status  card_present_flag bpay_biller_code         account currency  \\\n",
       "0  authorized                1.0              NaN  ACC-1598451071      AUD   \n",
       "1  authorized                0.0              NaN  ACC-1598451071      AUD   \n",
       "2  authorized                1.0              NaN  ACC-1222300524      AUD   \n",
       "3  authorized                1.0              NaN  ACC-1037050564      AUD   \n",
       "4  authorized                1.0              NaN  ACC-1598451071      AUD   \n",
       "\n",
       "        long_lat txn_description                           merchant_id  \\\n",
       "0  153.41 -27.95             POS  81c48296-73be-44a7-befa-d053f48ce7cd   \n",
       "1  153.41 -27.95       SALES-POS  830a451c-316e-4a6a-bf25-e37caedca49e   \n",
       "2  151.23 -33.94             POS  835c231d-8cdf-4e96-859d-e9d571760cf0   \n",
       "3  153.10 -27.66       SALES-POS  48514682-c78a-4a88-b0da-2d6302e64673   \n",
       "4  153.41 -27.95       SALES-POS  b4e02c10-0852-4273-b8fd-7b3395e32eb0   \n",
       "\n",
       "   merchant_code first_name  ...  age merchant_suburb merchant_state  \\\n",
       "0            NaN      Diana  ...   26         Ashmore            QLD   \n",
       "1            NaN      Diana  ...   26          Sydney            NSW   \n",
       "2            NaN    Michael  ...   38          Sydney            NSW   \n",
       "3            NaN     Rhonda  ...   40         Buderim            QLD   \n",
       "4            NaN      Diana  ...   26   Mermaid Beach            QLD   \n",
       "\n",
       "                     extraction amount                    transaction_id  \\\n",
       "0  2018-08-01T01:01:15.000+0000  16.25  a623070bfead4541a6b0fff8a09e706c   \n",
       "1  2018-08-01T01:13:45.000+0000  14.19  13270a2a902145da9db4c951e04b51b9   \n",
       "2  2018-08-01T01:26:15.000+0000   6.42  feb79e7ecd7048a5a36ec889d1a94270   \n",
       "3  2018-08-01T01:38:45.000+0000  40.90  2698170da3704fd981b15e64a006079e   \n",
       "4  2018-08-01T01:51:15.000+0000   3.25  329adf79878c4cf0aeb4188b4691c266   \n",
       "\n",
       "     country     customer_id merchant_long_lat movement  \n",
       "0  Australia  CUS-2487424745     153.38 -27.99    debit  \n",
       "1  Australia  CUS-2487424745     151.21 -33.87    debit  \n",
       "2  Australia  CUS-2142601169     151.21 -33.87    debit  \n",
       "3  Australia  CUS-1614226872     153.05 -26.68    debit  \n",
       "4  Australia  CUS-2487424745     153.44 -28.06    debit  \n",
       "\n",
       "[5 rows x 23 columns]"
      ]
     },
     "execution_count": 2,
     "metadata": {},
     "output_type": "execute_result"
    }
   ],
   "source": [
    "df.head()"
   ]
  },
  {
   "cell_type": "markdown",
   "id": "4b8c1691",
   "metadata": {
    "papermill": {
     "duration": 0.049851,
     "end_time": "2021-12-03T00:09:55.640424",
     "exception": false,
     "start_time": "2021-12-03T00:09:55.590573",
     "status": "completed"
    },
    "tags": []
   },
   "source": [
    "## Inspecting the transactions"
   ]
  },
  {
   "cell_type": "code",
   "execution_count": 3,
   "id": "467d24c5",
   "metadata": {
    "execution": {
     "iopub.execute_input": "2021-12-03T00:09:55.805632Z",
     "iopub.status.busy": "2021-12-03T00:09:55.804888Z",
     "iopub.status.idle": "2021-12-03T00:09:55.808763Z",
     "shell.execute_reply": "2021-12-03T00:09:55.808168Z",
     "shell.execute_reply.started": "2021-12-02T08:10:06.510697Z"
    },
    "papermill": {
     "duration": 0.117769,
     "end_time": "2021-12-03T00:09:55.808896",
     "exception": false,
     "start_time": "2021-12-03T00:09:55.691127",
     "status": "completed"
    },
    "tags": []
   },
   "outputs": [
    {
     "data": {
      "text/plain": [
       "(12043, 23)"
      ]
     },
     "execution_count": 3,
     "metadata": {},
     "output_type": "execute_result"
    }
   ],
   "source": [
    "df.shape"
   ]
  },
  {
   "cell_type": "code",
   "execution_count": 4,
   "id": "21ee3269",
   "metadata": {
    "execution": {
     "iopub.execute_input": "2021-12-03T00:09:55.939071Z",
     "iopub.status.busy": "2021-12-03T00:09:55.914843Z",
     "iopub.status.idle": "2021-12-03T00:09:55.959528Z",
     "shell.execute_reply": "2021-12-03T00:09:55.958837Z",
     "shell.execute_reply.started": "2021-12-02T08:10:06.518755Z"
    },
    "papermill": {
     "duration": 0.100387,
     "end_time": "2021-12-03T00:09:55.959707",
     "exception": false,
     "start_time": "2021-12-03T00:09:55.859320",
     "status": "completed"
    },
    "tags": []
   },
   "outputs": [
    {
     "name": "stdout",
     "output_type": "stream",
     "text": [
      "<class 'pandas.core.frame.DataFrame'>\n",
      "RangeIndex: 12043 entries, 0 to 12042\n",
      "Data columns (total 23 columns):\n",
      " #   Column             Non-Null Count  Dtype  \n",
      "---  ------             --------------  -----  \n",
      " 0   status             12043 non-null  object \n",
      " 1   card_present_flag  7717 non-null   float64\n",
      " 2   bpay_biller_code   885 non-null    object \n",
      " 3   account            12043 non-null  object \n",
      " 4   currency           12043 non-null  object \n",
      " 5   long_lat           12043 non-null  object \n",
      " 6   txn_description    12043 non-null  object \n",
      " 7   merchant_id        7717 non-null   object \n",
      " 8   merchant_code      883 non-null    float64\n",
      " 9   first_name         12043 non-null  object \n",
      " 10  balance            12043 non-null  float64\n",
      " 11  date               12043 non-null  object \n",
      " 12  gender             12043 non-null  object \n",
      " 13  age                12043 non-null  int64  \n",
      " 14  merchant_suburb    7717 non-null   object \n",
      " 15  merchant_state     7717 non-null   object \n",
      " 16  extraction         12043 non-null  object \n",
      " 17  amount             12043 non-null  float64\n",
      " 18  transaction_id     12043 non-null  object \n",
      " 19  country            12043 non-null  object \n",
      " 20  customer_id        12043 non-null  object \n",
      " 21  merchant_long_lat  7717 non-null   object \n",
      " 22  movement           12043 non-null  object \n",
      "dtypes: float64(4), int64(1), object(18)\n",
      "memory usage: 2.1+ MB\n"
     ]
    }
   ],
   "source": [
    "df.info()"
   ]
  },
  {
   "cell_type": "markdown",
   "id": "21d4a73b",
   "metadata": {
    "papermill": {
     "duration": 0.051072,
     "end_time": "2021-12-03T00:09:56.061635",
     "exception": false,
     "start_time": "2021-12-03T00:09:56.010563",
     "status": "completed"
    },
    "tags": []
   },
   "source": [
    "- The dataset has 12043 transations with 23 features including status, account, date, gender etc.\n",
    "- 18 non-numeric features and 5 numeric features."
   ]
  },
  {
   "cell_type": "code",
   "execution_count": 5,
   "id": "26920917",
   "metadata": {
    "execution": {
     "iopub.execute_input": "2021-12-03T00:09:56.171572Z",
     "iopub.status.busy": "2021-12-03T00:09:56.166230Z",
     "iopub.status.idle": "2021-12-03T00:09:56.193357Z",
     "shell.execute_reply": "2021-12-03T00:09:56.192839Z",
     "shell.execute_reply.started": "2021-12-02T08:10:06.561975Z"
    },
    "papermill": {
     "duration": 0.080789,
     "end_time": "2021-12-03T00:09:56.193512",
     "exception": false,
     "start_time": "2021-12-03T00:09:56.112723",
     "status": "completed"
    },
    "tags": []
   },
   "outputs": [
    {
     "data": {
      "text/html": [
       "<div>\n",
       "<style scoped>\n",
       "    .dataframe tbody tr th:only-of-type {\n",
       "        vertical-align: middle;\n",
       "    }\n",
       "\n",
       "    .dataframe tbody tr th {\n",
       "        vertical-align: top;\n",
       "    }\n",
       "\n",
       "    .dataframe thead th {\n",
       "        text-align: right;\n",
       "    }\n",
       "</style>\n",
       "<table border=\"1\" class=\"dataframe\">\n",
       "  <thead>\n",
       "    <tr style=\"text-align: right;\">\n",
       "      <th></th>\n",
       "      <th>status</th>\n",
       "      <th>card_present_flag</th>\n",
       "      <th>bpay_biller_code</th>\n",
       "      <th>account</th>\n",
       "      <th>currency</th>\n",
       "      <th>long_lat</th>\n",
       "      <th>txn_description</th>\n",
       "      <th>merchant_id</th>\n",
       "      <th>merchant_code</th>\n",
       "      <th>first_name</th>\n",
       "      <th>...</th>\n",
       "      <th>age</th>\n",
       "      <th>merchant_suburb</th>\n",
       "      <th>merchant_state</th>\n",
       "      <th>extraction</th>\n",
       "      <th>amount</th>\n",
       "      <th>transaction_id</th>\n",
       "      <th>country</th>\n",
       "      <th>customer_id</th>\n",
       "      <th>merchant_long_lat</th>\n",
       "      <th>movement</th>\n",
       "    </tr>\n",
       "  </thead>\n",
       "  <tbody>\n",
       "    <tr>\n",
       "      <th>12037</th>\n",
       "      <td>posted</td>\n",
       "      <td>NaN</td>\n",
       "      <td>NaN</td>\n",
       "      <td>ACC-240804743</td>\n",
       "      <td>AUD</td>\n",
       "      <td>121.48 -30.75</td>\n",
       "      <td>PAYMENT</td>\n",
       "      <td>NaN</td>\n",
       "      <td>NaN</td>\n",
       "      <td>Kenneth</td>\n",
       "      <td>...</td>\n",
       "      <td>29</td>\n",
       "      <td>NaN</td>\n",
       "      <td>NaN</td>\n",
       "      <td>2018-10-31T23:00:00.000+0000</td>\n",
       "      <td>39.00</td>\n",
       "      <td>c7bc398b9eb04e73933dc6d5a7beae0b</td>\n",
       "      <td>Australia</td>\n",
       "      <td>CUS-261674136</td>\n",
       "      <td>NaN</td>\n",
       "      <td>debit</td>\n",
       "    </tr>\n",
       "    <tr>\n",
       "      <th>12038</th>\n",
       "      <td>authorized</td>\n",
       "      <td>0.0</td>\n",
       "      <td>NaN</td>\n",
       "      <td>ACC-3021093232</td>\n",
       "      <td>AUD</td>\n",
       "      <td>149.83 -29.47</td>\n",
       "      <td>POS</td>\n",
       "      <td>32aa73dc-b7c2-4161-b14d-6271b96ce792</td>\n",
       "      <td>NaN</td>\n",
       "      <td>Melissa</td>\n",
       "      <td>...</td>\n",
       "      <td>30</td>\n",
       "      <td>Ringwood</td>\n",
       "      <td>VIC</td>\n",
       "      <td>2018-10-31T23:09:06.000+0000</td>\n",
       "      <td>9.79</td>\n",
       "      <td>f2e3e695c2ee4c50a4c8747f852cbe2e</td>\n",
       "      <td>Australia</td>\n",
       "      <td>CUS-55310383</td>\n",
       "      <td>145.23 -37.81</td>\n",
       "      <td>debit</td>\n",
       "    </tr>\n",
       "    <tr>\n",
       "      <th>12039</th>\n",
       "      <td>authorized</td>\n",
       "      <td>1.0</td>\n",
       "      <td>NaN</td>\n",
       "      <td>ACC-1608363396</td>\n",
       "      <td>AUD</td>\n",
       "      <td>151.22 -33.87</td>\n",
       "      <td>SALES-POS</td>\n",
       "      <td>296a0500-8552-48ac-ac81-ec37065b568e</td>\n",
       "      <td>NaN</td>\n",
       "      <td>Robert</td>\n",
       "      <td>...</td>\n",
       "      <td>20</td>\n",
       "      <td>Casula</td>\n",
       "      <td>NSW</td>\n",
       "      <td>2018-10-31T23:21:46.000+0000</td>\n",
       "      <td>63.87</td>\n",
       "      <td>56e147e5485f4683b9076fcaaed76640</td>\n",
       "      <td>Australia</td>\n",
       "      <td>CUS-2688605418</td>\n",
       "      <td>150.88 -33.96</td>\n",
       "      <td>debit</td>\n",
       "    </tr>\n",
       "    <tr>\n",
       "      <th>12040</th>\n",
       "      <td>authorized</td>\n",
       "      <td>1.0</td>\n",
       "      <td>NaN</td>\n",
       "      <td>ACC-3827517394</td>\n",
       "      <td>AUD</td>\n",
       "      <td>151.12 -33.89</td>\n",
       "      <td>POS</td>\n",
       "      <td>e5975ab4-08f7-4725-a369-24cc0e35ed6e</td>\n",
       "      <td>NaN</td>\n",
       "      <td>Craig</td>\n",
       "      <td>...</td>\n",
       "      <td>28</td>\n",
       "      <td>Kings Park</td>\n",
       "      <td>NSW</td>\n",
       "      <td>2018-10-31T23:34:25.000+0000</td>\n",
       "      <td>43.96</td>\n",
       "      <td>2fdd4681827343f6af2e6519644a684a</td>\n",
       "      <td>Australia</td>\n",
       "      <td>CUS-2663907001</td>\n",
       "      <td>150.92 -33.74</td>\n",
       "      <td>debit</td>\n",
       "    </tr>\n",
       "    <tr>\n",
       "      <th>12041</th>\n",
       "      <td>authorized</td>\n",
       "      <td>1.0</td>\n",
       "      <td>NaN</td>\n",
       "      <td>ACC-2920611728</td>\n",
       "      <td>AUD</td>\n",
       "      <td>144.96 -37.76</td>\n",
       "      <td>SALES-POS</td>\n",
       "      <td>af49051a-591d-4b08-bd3c-27730b70ed37</td>\n",
       "      <td>NaN</td>\n",
       "      <td>Tyler</td>\n",
       "      <td>...</td>\n",
       "      <td>69</td>\n",
       "      <td>Oakleigh</td>\n",
       "      <td>VIC</td>\n",
       "      <td>2018-10-31T23:47:05.000+0000</td>\n",
       "      <td>30.77</td>\n",
       "      <td>74aa9cd7e4af4c6d9cd7dbd28e9aedc9</td>\n",
       "      <td>Australia</td>\n",
       "      <td>CUS-1388323263</td>\n",
       "      <td>145.09 -37.91</td>\n",
       "      <td>debit</td>\n",
       "    </tr>\n",
       "    <tr>\n",
       "      <th>12042</th>\n",
       "      <td>authorized</td>\n",
       "      <td>1.0</td>\n",
       "      <td>NaN</td>\n",
       "      <td>ACC-1443681913</td>\n",
       "      <td>AUD</td>\n",
       "      <td>150.92 -33.77</td>\n",
       "      <td>SALES-POS</td>\n",
       "      <td>f31f4b14-2040-40ec-a120-b141bb274cbd</td>\n",
       "      <td>NaN</td>\n",
       "      <td>Ryan</td>\n",
       "      <td>...</td>\n",
       "      <td>31</td>\n",
       "      <td>Mascot</td>\n",
       "      <td>NSW</td>\n",
       "      <td>2018-10-31T23:59:44.000+0000</td>\n",
       "      <td>22.36</td>\n",
       "      <td>6d5218e04e8040b9996850ce11a19426</td>\n",
       "      <td>Australia</td>\n",
       "      <td>CUS-3129499595</td>\n",
       "      <td>151.19 -33.93</td>\n",
       "      <td>debit</td>\n",
       "    </tr>\n",
       "  </tbody>\n",
       "</table>\n",
       "<p>6 rows × 23 columns</p>\n",
       "</div>"
      ],
      "text/plain": [
       "           status  card_present_flag bpay_biller_code         account  \\\n",
       "12037      posted                NaN              NaN   ACC-240804743   \n",
       "12038  authorized                0.0              NaN  ACC-3021093232   \n",
       "12039  authorized                1.0              NaN  ACC-1608363396   \n",
       "12040  authorized                1.0              NaN  ACC-3827517394   \n",
       "12041  authorized                1.0              NaN  ACC-2920611728   \n",
       "12042  authorized                1.0              NaN  ACC-1443681913   \n",
       "\n",
       "      currency       long_lat txn_description  \\\n",
       "12037      AUD  121.48 -30.75         PAYMENT   \n",
       "12038      AUD  149.83 -29.47             POS   \n",
       "12039      AUD  151.22 -33.87       SALES-POS   \n",
       "12040      AUD  151.12 -33.89             POS   \n",
       "12041      AUD  144.96 -37.76       SALES-POS   \n",
       "12042      AUD  150.92 -33.77       SALES-POS   \n",
       "\n",
       "                                merchant_id  merchant_code first_name  ...  \\\n",
       "12037                                   NaN            NaN    Kenneth  ...   \n",
       "12038  32aa73dc-b7c2-4161-b14d-6271b96ce792            NaN    Melissa  ...   \n",
       "12039  296a0500-8552-48ac-ac81-ec37065b568e            NaN     Robert  ...   \n",
       "12040  e5975ab4-08f7-4725-a369-24cc0e35ed6e            NaN      Craig  ...   \n",
       "12041  af49051a-591d-4b08-bd3c-27730b70ed37            NaN      Tyler  ...   \n",
       "12042  f31f4b14-2040-40ec-a120-b141bb274cbd            NaN       Ryan  ...   \n",
       "\n",
       "       age merchant_suburb merchant_state                    extraction  \\\n",
       "12037   29             NaN            NaN  2018-10-31T23:00:00.000+0000   \n",
       "12038   30        Ringwood            VIC  2018-10-31T23:09:06.000+0000   \n",
       "12039   20          Casula            NSW  2018-10-31T23:21:46.000+0000   \n",
       "12040   28      Kings Park            NSW  2018-10-31T23:34:25.000+0000   \n",
       "12041   69        Oakleigh            VIC  2018-10-31T23:47:05.000+0000   \n",
       "12042   31          Mascot            NSW  2018-10-31T23:59:44.000+0000   \n",
       "\n",
       "      amount                    transaction_id    country     customer_id  \\\n",
       "12037  39.00  c7bc398b9eb04e73933dc6d5a7beae0b  Australia   CUS-261674136   \n",
       "12038   9.79  f2e3e695c2ee4c50a4c8747f852cbe2e  Australia    CUS-55310383   \n",
       "12039  63.87  56e147e5485f4683b9076fcaaed76640  Australia  CUS-2688605418   \n",
       "12040  43.96  2fdd4681827343f6af2e6519644a684a  Australia  CUS-2663907001   \n",
       "12041  30.77  74aa9cd7e4af4c6d9cd7dbd28e9aedc9  Australia  CUS-1388323263   \n",
       "12042  22.36  6d5218e04e8040b9996850ce11a19426  Australia  CUS-3129499595   \n",
       "\n",
       "      merchant_long_lat movement  \n",
       "12037               NaN    debit  \n",
       "12038     145.23 -37.81    debit  \n",
       "12039     150.88 -33.96    debit  \n",
       "12040     150.92 -33.74    debit  \n",
       "12041     145.09 -37.91    debit  \n",
       "12042     151.19 -33.93    debit  \n",
       "\n",
       "[6 rows x 23 columns]"
      ]
     },
     "execution_count": 5,
     "metadata": {},
     "output_type": "execute_result"
    }
   ],
   "source": [
    "df.tail(6)"
   ]
  },
  {
   "cell_type": "markdown",
   "id": "3db8d488",
   "metadata": {
    "papermill": {
     "duration": 0.052184,
     "end_time": "2021-12-03T00:09:56.301523",
     "exception": false,
     "start_time": "2021-12-03T00:09:56.249339",
     "status": "completed"
    },
    "tags": []
   },
   "source": [
    "## Handling the missing values"
   ]
  },
  {
   "cell_type": "code",
   "execution_count": 6,
   "id": "00a40663",
   "metadata": {
    "execution": {
     "iopub.execute_input": "2021-12-03T00:09:56.431012Z",
     "iopub.status.busy": "2021-12-03T00:09:56.407295Z",
     "iopub.status.idle": "2021-12-03T00:09:56.438607Z",
     "shell.execute_reply": "2021-12-03T00:09:56.438033Z",
     "shell.execute_reply.started": "2021-12-02T08:10:06.593915Z"
    },
    "papermill": {
     "duration": 0.085887,
     "end_time": "2021-12-03T00:09:56.438745",
     "exception": false,
     "start_time": "2021-12-03T00:09:56.352858",
     "status": "completed"
    },
    "tags": []
   },
   "outputs": [
    {
     "data": {
      "text/plain": [
       "status                   0\n",
       "card_present_flag     4326\n",
       "bpay_biller_code     11158\n",
       "account                  0\n",
       "currency                 0\n",
       "long_lat                 0\n",
       "txn_description          0\n",
       "merchant_id           4326\n",
       "merchant_code        11160\n",
       "first_name               0\n",
       "balance                  0\n",
       "date                     0\n",
       "gender                   0\n",
       "age                      0\n",
       "merchant_suburb       4326\n",
       "merchant_state        4326\n",
       "extraction               0\n",
       "amount                   0\n",
       "transaction_id           0\n",
       "country                  0\n",
       "customer_id              0\n",
       "merchant_long_lat     4326\n",
       "movement                 0\n",
       "dtype: int64"
      ]
     },
     "execution_count": 6,
     "metadata": {},
     "output_type": "execute_result"
    }
   ],
   "source": [
    "df.isnull().sum() "
   ]
  },
  {
   "cell_type": "markdown",
   "id": "e6924adf",
   "metadata": {
    "papermill": {
     "duration": 0.051776,
     "end_time": "2021-12-03T00:09:56.542402",
     "exception": false,
     "start_time": "2021-12-03T00:09:56.490626",
     "status": "completed"
    },
    "tags": []
   },
   "source": [
    "- The dataset is quite clean except some features have quite a lot of NULL values. Let's check 'card_present_flag', 'bpay_biller_code', 'merchant_id','merchant_code', 'merchant_suburb', 'merchant_state', 'merchant_long_lat'.\n",
    "- 'card_present_flag', 'merchant_state' and 'card_present_flag‘ have two third of not NULL values and by checking the value frequency we think they are still valuable for analyze.\n",
    "- We will drop the rest."
   ]
  },
  {
   "cell_type": "code",
   "execution_count": 7,
   "id": "a62384d7",
   "metadata": {
    "execution": {
     "iopub.execute_input": "2021-12-03T00:09:56.653632Z",
     "iopub.status.busy": "2021-12-03T00:09:56.653016Z",
     "iopub.status.idle": "2021-12-03T00:09:56.658097Z",
     "shell.execute_reply": "2021-12-03T00:09:56.658538Z",
     "shell.execute_reply.started": "2021-12-02T08:10:06.61958Z"
    },
    "papermill": {
     "duration": 0.064496,
     "end_time": "2021-12-03T00:09:56.658707",
     "exception": false,
     "start_time": "2021-12-03T00:09:56.594211",
     "status": "completed"
    },
    "tags": []
   },
   "outputs": [
    {
     "data": {
      "text/plain": [
       "1.0    6194\n",
       "0.0    1523\n",
       "Name: card_present_flag, dtype: int64"
      ]
     },
     "execution_count": 7,
     "metadata": {},
     "output_type": "execute_result"
    }
   ],
   "source": [
    "df['card_present_flag'].value_counts()"
   ]
  },
  {
   "cell_type": "code",
   "execution_count": 8,
   "id": "65c741c1",
   "metadata": {
    "execution": {
     "iopub.execute_input": "2021-12-03T00:09:56.771298Z",
     "iopub.status.busy": "2021-12-03T00:09:56.770636Z",
     "iopub.status.idle": "2021-12-03T00:09:56.774622Z",
     "shell.execute_reply": "2021-12-03T00:09:56.774122Z",
     "shell.execute_reply.started": "2021-12-02T08:10:06.634976Z"
    },
    "papermill": {
     "duration": 0.06389,
     "end_time": "2021-12-03T00:09:56.774763",
     "exception": false,
     "start_time": "2021-12-03T00:09:56.710873",
     "status": "completed"
    },
    "tags": []
   },
   "outputs": [
    {
     "data": {
      "text/plain": [
       "NSW    2169\n",
       "VIC    2131\n",
       "QLD    1556\n",
       "WA     1100\n",
       "SA      415\n",
       "NT      205\n",
       "ACT      73\n",
       "TAS      68\n",
       "Name: merchant_state, dtype: int64"
      ]
     },
     "execution_count": 8,
     "metadata": {},
     "output_type": "execute_result"
    }
   ],
   "source": [
    "df['merchant_state'].value_counts()"
   ]
  },
  {
   "cell_type": "code",
   "execution_count": 9,
   "id": "894c2ef4",
   "metadata": {
    "execution": {
     "iopub.execute_input": "2021-12-03T00:09:56.891020Z",
     "iopub.status.busy": "2021-12-03T00:09:56.890335Z",
     "iopub.status.idle": "2021-12-03T00:09:56.896455Z",
     "shell.execute_reply": "2021-12-03T00:09:56.897083Z",
     "shell.execute_reply.started": "2021-12-02T08:10:06.650575Z"
    },
    "papermill": {
     "duration": 0.068275,
     "end_time": "2021-12-03T00:09:56.897263",
     "exception": false,
     "start_time": "2021-12-03T00:09:56.828988",
     "status": "completed"
    },
    "tags": []
   },
   "outputs": [
    {
     "data": {
      "text/plain": [
       "106e1272-44ab-4dcb-a438-dd98e0071e51    14\n",
       "6c84c219-96ea-4c6f-9de5-0a28bcaec62f    12\n",
       "e28c426d-cbef-4e2d-aa06-1ba0b6b1902f    11\n",
       "aef30de1-c67e-4ab7-8577-2931a4bf3c7e    10\n",
       "6ddddc40-5b69-4253-8a26-167999a8bf96    10\n",
       "                                        ..\n",
       "5c011d61-fbbe-437f-9ffa-3d9910cd2c7a     1\n",
       "9eff6ea8-061d-4e88-93a5-6711962d80ed     1\n",
       "7747bd2b-e29e-486f-b6aa-ad20ec5f6971     1\n",
       "a851a118-cfad-4232-8dec-f528125fc2a1     1\n",
       "e5975ab4-08f7-4725-a369-24cc0e35ed6e     1\n",
       "Name: merchant_id, Length: 5725, dtype: int64"
      ]
     },
     "execution_count": 9,
     "metadata": {},
     "output_type": "execute_result"
    }
   ],
   "source": [
    "df['merchant_id'].value_counts()"
   ]
  },
  {
   "cell_type": "code",
   "execution_count": 10,
   "id": "d623b954",
   "metadata": {
    "execution": {
     "iopub.execute_input": "2021-12-03T00:09:57.011637Z",
     "iopub.status.busy": "2021-12-03T00:09:57.007155Z",
     "iopub.status.idle": "2021-12-03T00:09:57.014313Z",
     "shell.execute_reply": "2021-12-03T00:09:57.014825Z",
     "shell.execute_reply.started": "2021-12-02T08:10:06.669087Z"
    },
    "papermill": {
     "duration": 0.06374,
     "end_time": "2021-12-03T00:09:57.015008",
     "exception": false,
     "start_time": "2021-12-03T00:09:56.951268",
     "status": "completed"
    },
    "tags": []
   },
   "outputs": [
    {
     "data": {
      "text/plain": [
       "0.0    883\n",
       "Name: merchant_code, dtype: int64"
      ]
     },
     "execution_count": 10,
     "metadata": {},
     "output_type": "execute_result"
    }
   ],
   "source": [
    "df['merchant_code'].value_counts()"
   ]
  },
  {
   "cell_type": "code",
   "execution_count": 11,
   "id": "e7f38293",
   "metadata": {
    "execution": {
     "iopub.execute_input": "2021-12-03T00:09:57.124539Z",
     "iopub.status.busy": "2021-12-03T00:09:57.123844Z",
     "iopub.status.idle": "2021-12-03T00:09:57.131236Z",
     "shell.execute_reply": "2021-12-03T00:09:57.131776Z",
     "shell.execute_reply.started": "2021-12-02T08:10:06.68096Z"
    },
    "papermill": {
     "duration": 0.063844,
     "end_time": "2021-12-03T00:09:57.131976",
     "exception": false,
     "start_time": "2021-12-03T00:09:57.068132",
     "status": "completed"
    },
    "tags": []
   },
   "outputs": [],
   "source": [
    "df.drop(['long_lat','bpay_biller_code','merchant_id','merchant_code','merchant_suburb','merchant_long_lat'],axis=1,inplace=True)"
   ]
  },
  {
   "cell_type": "code",
   "execution_count": 12,
   "id": "9b38fc93",
   "metadata": {
    "execution": {
     "iopub.execute_input": "2021-12-03T00:09:57.244057Z",
     "iopub.status.busy": "2021-12-03T00:09:57.243334Z",
     "iopub.status.idle": "2021-12-03T00:09:57.269255Z",
     "shell.execute_reply": "2021-12-03T00:09:57.269726Z",
     "shell.execute_reply.started": "2021-12-02T08:10:06.695261Z"
    },
    "papermill": {
     "duration": 0.083439,
     "end_time": "2021-12-03T00:09:57.269904",
     "exception": false,
     "start_time": "2021-12-03T00:09:57.186465",
     "status": "completed"
    },
    "tags": []
   },
   "outputs": [
    {
     "data": {
      "text/plain": [
       "status                  0\n",
       "card_present_flag    4326\n",
       "account                 0\n",
       "currency                0\n",
       "txn_description         0\n",
       "first_name              0\n",
       "balance                 0\n",
       "date                    0\n",
       "gender                  0\n",
       "age                     0\n",
       "merchant_state       4326\n",
       "extraction              0\n",
       "amount                  0\n",
       "transaction_id          0\n",
       "country                 0\n",
       "customer_id             0\n",
       "movement                0\n",
       "dtype: int64"
      ]
     },
     "execution_count": 12,
     "metadata": {},
     "output_type": "execute_result"
    }
   ],
   "source": [
    "df.isnull().sum() "
   ]
  },
  {
   "cell_type": "markdown",
   "id": "954ed8c6",
   "metadata": {
    "papermill": {
     "duration": 0.054365,
     "end_time": "2021-12-03T00:09:57.379031",
     "exception": false,
     "start_time": "2021-12-03T00:09:57.324666",
     "status": "completed"
    },
    "tags": []
   },
   "source": [
    "## Check Duplicates"
   ]
  },
  {
   "cell_type": "code",
   "execution_count": 13,
   "id": "7732d7be",
   "metadata": {
    "execution": {
     "iopub.execute_input": "2021-12-03T00:09:57.490763Z",
     "iopub.status.busy": "2021-12-03T00:09:57.489804Z",
     "iopub.status.idle": "2021-12-03T00:09:57.520713Z",
     "shell.execute_reply": "2021-12-03T00:09:57.521246Z",
     "shell.execute_reply.started": "2021-12-02T08:10:06.716113Z"
    },
    "papermill": {
     "duration": 0.088631,
     "end_time": "2021-12-03T00:09:57.521424",
     "exception": false,
     "start_time": "2021-12-03T00:09:57.432793",
     "status": "completed"
    },
    "tags": []
   },
   "outputs": [
    {
     "data": {
      "text/plain": [
       "0"
      ]
     },
     "execution_count": 13,
     "metadata": {},
     "output_type": "execute_result"
    }
   ],
   "source": [
    "df.duplicated().sum() "
   ]
  },
  {
   "cell_type": "markdown",
   "id": "bc00e8b9",
   "metadata": {
    "papermill": {
     "duration": 0.054692,
     "end_time": "2021-12-03T00:09:57.629902",
     "exception": false,
     "start_time": "2021-12-03T00:09:57.575210",
     "status": "completed"
    },
    "tags": []
   },
   "source": [
    "## Change 'date' type to Datetime"
   ]
  },
  {
   "cell_type": "code",
   "execution_count": 14,
   "id": "27120025",
   "metadata": {
    "execution": {
     "iopub.execute_input": "2021-12-03T00:09:57.741758Z",
     "iopub.status.busy": "2021-12-03T00:09:57.740794Z",
     "iopub.status.idle": "2021-12-03T00:09:57.763605Z",
     "shell.execute_reply": "2021-12-03T00:09:57.764193Z",
     "shell.execute_reply.started": "2021-12-02T08:10:06.750779Z"
    },
    "papermill": {
     "duration": 0.080399,
     "end_time": "2021-12-03T00:09:57.764385",
     "exception": false,
     "start_time": "2021-12-03T00:09:57.683986",
     "status": "completed"
    },
    "tags": []
   },
   "outputs": [],
   "source": [
    "df[\"date\"] = pd.to_datetime(df[\"date\"])"
   ]
  },
  {
   "cell_type": "code",
   "execution_count": 15,
   "id": "fdf57f83",
   "metadata": {
    "execution": {
     "iopub.execute_input": "2021-12-03T00:09:57.877143Z",
     "iopub.status.busy": "2021-12-03T00:09:57.876145Z",
     "iopub.status.idle": "2021-12-03T00:09:57.896411Z",
     "shell.execute_reply": "2021-12-03T00:09:57.896902Z",
     "shell.execute_reply.started": "2021-12-02T08:10:06.774569Z"
    },
    "papermill": {
     "duration": 0.07807,
     "end_time": "2021-12-03T00:09:57.897112",
     "exception": false,
     "start_time": "2021-12-03T00:09:57.819042",
     "status": "completed"
    },
    "tags": []
   },
   "outputs": [
    {
     "data": {
      "text/html": [
       "<div>\n",
       "<style scoped>\n",
       "    .dataframe tbody tr th:only-of-type {\n",
       "        vertical-align: middle;\n",
       "    }\n",
       "\n",
       "    .dataframe tbody tr th {\n",
       "        vertical-align: top;\n",
       "    }\n",
       "\n",
       "    .dataframe thead th {\n",
       "        text-align: right;\n",
       "    }\n",
       "</style>\n",
       "<table border=\"1\" class=\"dataframe\">\n",
       "  <thead>\n",
       "    <tr style=\"text-align: right;\">\n",
       "      <th></th>\n",
       "      <th>status</th>\n",
       "      <th>card_present_flag</th>\n",
       "      <th>account</th>\n",
       "      <th>currency</th>\n",
       "      <th>txn_description</th>\n",
       "      <th>first_name</th>\n",
       "      <th>balance</th>\n",
       "      <th>date</th>\n",
       "      <th>gender</th>\n",
       "      <th>age</th>\n",
       "      <th>merchant_state</th>\n",
       "      <th>extraction</th>\n",
       "      <th>amount</th>\n",
       "      <th>transaction_id</th>\n",
       "      <th>country</th>\n",
       "      <th>customer_id</th>\n",
       "      <th>movement</th>\n",
       "    </tr>\n",
       "  </thead>\n",
       "  <tbody>\n",
       "    <tr>\n",
       "      <th>0</th>\n",
       "      <td>authorized</td>\n",
       "      <td>1.0</td>\n",
       "      <td>ACC-1598451071</td>\n",
       "      <td>AUD</td>\n",
       "      <td>POS</td>\n",
       "      <td>Diana</td>\n",
       "      <td>35.39</td>\n",
       "      <td>2018-08-01</td>\n",
       "      <td>F</td>\n",
       "      <td>26</td>\n",
       "      <td>QLD</td>\n",
       "      <td>2018-08-01T01:01:15.000+0000</td>\n",
       "      <td>16.25</td>\n",
       "      <td>a623070bfead4541a6b0fff8a09e706c</td>\n",
       "      <td>Australia</td>\n",
       "      <td>CUS-2487424745</td>\n",
       "      <td>debit</td>\n",
       "    </tr>\n",
       "    <tr>\n",
       "      <th>1</th>\n",
       "      <td>authorized</td>\n",
       "      <td>0.0</td>\n",
       "      <td>ACC-1598451071</td>\n",
       "      <td>AUD</td>\n",
       "      <td>SALES-POS</td>\n",
       "      <td>Diana</td>\n",
       "      <td>21.20</td>\n",
       "      <td>2018-08-01</td>\n",
       "      <td>F</td>\n",
       "      <td>26</td>\n",
       "      <td>NSW</td>\n",
       "      <td>2018-08-01T01:13:45.000+0000</td>\n",
       "      <td>14.19</td>\n",
       "      <td>13270a2a902145da9db4c951e04b51b9</td>\n",
       "      <td>Australia</td>\n",
       "      <td>CUS-2487424745</td>\n",
       "      <td>debit</td>\n",
       "    </tr>\n",
       "    <tr>\n",
       "      <th>2</th>\n",
       "      <td>authorized</td>\n",
       "      <td>1.0</td>\n",
       "      <td>ACC-1222300524</td>\n",
       "      <td>AUD</td>\n",
       "      <td>POS</td>\n",
       "      <td>Michael</td>\n",
       "      <td>5.71</td>\n",
       "      <td>2018-08-01</td>\n",
       "      <td>M</td>\n",
       "      <td>38</td>\n",
       "      <td>NSW</td>\n",
       "      <td>2018-08-01T01:26:15.000+0000</td>\n",
       "      <td>6.42</td>\n",
       "      <td>feb79e7ecd7048a5a36ec889d1a94270</td>\n",
       "      <td>Australia</td>\n",
       "      <td>CUS-2142601169</td>\n",
       "      <td>debit</td>\n",
       "    </tr>\n",
       "    <tr>\n",
       "      <th>3</th>\n",
       "      <td>authorized</td>\n",
       "      <td>1.0</td>\n",
       "      <td>ACC-1037050564</td>\n",
       "      <td>AUD</td>\n",
       "      <td>SALES-POS</td>\n",
       "      <td>Rhonda</td>\n",
       "      <td>2117.22</td>\n",
       "      <td>2018-08-01</td>\n",
       "      <td>F</td>\n",
       "      <td>40</td>\n",
       "      <td>QLD</td>\n",
       "      <td>2018-08-01T01:38:45.000+0000</td>\n",
       "      <td>40.90</td>\n",
       "      <td>2698170da3704fd981b15e64a006079e</td>\n",
       "      <td>Australia</td>\n",
       "      <td>CUS-1614226872</td>\n",
       "      <td>debit</td>\n",
       "    </tr>\n",
       "    <tr>\n",
       "      <th>4</th>\n",
       "      <td>authorized</td>\n",
       "      <td>1.0</td>\n",
       "      <td>ACC-1598451071</td>\n",
       "      <td>AUD</td>\n",
       "      <td>SALES-POS</td>\n",
       "      <td>Diana</td>\n",
       "      <td>17.95</td>\n",
       "      <td>2018-08-01</td>\n",
       "      <td>F</td>\n",
       "      <td>26</td>\n",
       "      <td>QLD</td>\n",
       "      <td>2018-08-01T01:51:15.000+0000</td>\n",
       "      <td>3.25</td>\n",
       "      <td>329adf79878c4cf0aeb4188b4691c266</td>\n",
       "      <td>Australia</td>\n",
       "      <td>CUS-2487424745</td>\n",
       "      <td>debit</td>\n",
       "    </tr>\n",
       "  </tbody>\n",
       "</table>\n",
       "</div>"
      ],
      "text/plain": [
       "       status  card_present_flag         account currency txn_description  \\\n",
       "0  authorized                1.0  ACC-1598451071      AUD             POS   \n",
       "1  authorized                0.0  ACC-1598451071      AUD       SALES-POS   \n",
       "2  authorized                1.0  ACC-1222300524      AUD             POS   \n",
       "3  authorized                1.0  ACC-1037050564      AUD       SALES-POS   \n",
       "4  authorized                1.0  ACC-1598451071      AUD       SALES-POS   \n",
       "\n",
       "  first_name  balance       date gender  age merchant_state  \\\n",
       "0      Diana    35.39 2018-08-01      F   26            QLD   \n",
       "1      Diana    21.20 2018-08-01      F   26            NSW   \n",
       "2    Michael     5.71 2018-08-01      M   38            NSW   \n",
       "3     Rhonda  2117.22 2018-08-01      F   40            QLD   \n",
       "4      Diana    17.95 2018-08-01      F   26            QLD   \n",
       "\n",
       "                     extraction  amount                    transaction_id  \\\n",
       "0  2018-08-01T01:01:15.000+0000   16.25  a623070bfead4541a6b0fff8a09e706c   \n",
       "1  2018-08-01T01:13:45.000+0000   14.19  13270a2a902145da9db4c951e04b51b9   \n",
       "2  2018-08-01T01:26:15.000+0000    6.42  feb79e7ecd7048a5a36ec889d1a94270   \n",
       "3  2018-08-01T01:38:45.000+0000   40.90  2698170da3704fd981b15e64a006079e   \n",
       "4  2018-08-01T01:51:15.000+0000    3.25  329adf79878c4cf0aeb4188b4691c266   \n",
       "\n",
       "     country     customer_id movement  \n",
       "0  Australia  CUS-2487424745    debit  \n",
       "1  Australia  CUS-2487424745    debit  \n",
       "2  Australia  CUS-2142601169    debit  \n",
       "3  Australia  CUS-1614226872    debit  \n",
       "4  Australia  CUS-2487424745    debit  "
      ]
     },
     "execution_count": 15,
     "metadata": {},
     "output_type": "execute_result"
    }
   ],
   "source": [
    "df.head()"
   ]
  },
  {
   "cell_type": "code",
   "execution_count": 16,
   "id": "90c9ffd8",
   "metadata": {
    "execution": {
     "iopub.execute_input": "2021-12-03T00:09:58.010922Z",
     "iopub.status.busy": "2021-12-03T00:09:58.009839Z",
     "iopub.status.idle": "2021-12-03T00:09:58.039368Z",
     "shell.execute_reply": "2021-12-03T00:09:58.038647Z",
     "shell.execute_reply.started": "2021-12-02T08:10:06.801465Z"
    },
    "papermill": {
     "duration": 0.08764,
     "end_time": "2021-12-03T00:09:58.039523",
     "exception": false,
     "start_time": "2021-12-03T00:09:57.951883",
     "status": "completed"
    },
    "tags": []
   },
   "outputs": [
    {
     "name": "stdout",
     "output_type": "stream",
     "text": [
      "<class 'pandas.core.frame.DataFrame'>\n",
      "RangeIndex: 12043 entries, 0 to 12042\n",
      "Data columns (total 17 columns):\n",
      " #   Column             Non-Null Count  Dtype         \n",
      "---  ------             --------------  -----         \n",
      " 0   status             12043 non-null  object        \n",
      " 1   card_present_flag  7717 non-null   float64       \n",
      " 2   account            12043 non-null  object        \n",
      " 3   currency           12043 non-null  object        \n",
      " 4   txn_description    12043 non-null  object        \n",
      " 5   first_name         12043 non-null  object        \n",
      " 6   balance            12043 non-null  float64       \n",
      " 7   date               12043 non-null  datetime64[ns]\n",
      " 8   gender             12043 non-null  object        \n",
      " 9   age                12043 non-null  int64         \n",
      " 10  merchant_state     7717 non-null   object        \n",
      " 11  extraction         12043 non-null  object        \n",
      " 12  amount             12043 non-null  float64       \n",
      " 13  transaction_id     12043 non-null  object        \n",
      " 14  country            12043 non-null  object        \n",
      " 15  customer_id        12043 non-null  object        \n",
      " 16  movement           12043 non-null  object        \n",
      "dtypes: datetime64[ns](1), float64(3), int64(1), object(12)\n",
      "memory usage: 1.6+ MB\n"
     ]
    }
   ],
   "source": [
    "df.info()"
   ]
  },
  {
   "cell_type": "markdown",
   "id": "f744cf43",
   "metadata": {
    "papermill": {
     "duration": 0.055325,
     "end_time": "2021-12-03T00:09:58.150758",
     "exception": false,
     "start_time": "2021-12-03T00:09:58.095433",
     "status": "completed"
    },
    "tags": []
   },
   "source": [
    "# Exploratory Data Analysis\n",
    "\n"
   ]
  },
  {
   "cell_type": "code",
   "execution_count": 17,
   "id": "cfa03146",
   "metadata": {
    "execution": {
     "iopub.execute_input": "2021-12-03T00:09:58.270517Z",
     "iopub.status.busy": "2021-12-03T00:09:58.269645Z",
     "iopub.status.idle": "2021-12-03T00:09:59.228188Z",
     "shell.execute_reply": "2021-12-03T00:09:59.227429Z",
     "shell.execute_reply.started": "2021-12-02T08:10:06.825922Z"
    },
    "papermill": {
     "duration": 1.021689,
     "end_time": "2021-12-03T00:09:59.228342",
     "exception": false,
     "start_time": "2021-12-03T00:09:58.206653",
     "status": "completed"
    },
    "tags": []
   },
   "outputs": [],
   "source": [
    "import matplotlib.pyplot as plt \n",
    "%matplotlib inline\n",
    "import matplotlib.ticker as ticker\n",
    "import seaborn as sns"
   ]
  },
  {
   "cell_type": "markdown",
   "id": "5128bd0a",
   "metadata": {
    "papermill": {
     "duration": 0.056182,
     "end_time": "2021-12-03T00:09:59.339587",
     "exception": false,
     "start_time": "2021-12-03T00:09:59.283405",
     "status": "completed"
    },
    "tags": []
   },
   "source": [
    "## Add new columns: Day of the week, month,day of the month"
   ]
  },
  {
   "cell_type": "code",
   "execution_count": 18,
   "id": "c21f0622",
   "metadata": {
    "execution": {
     "iopub.execute_input": "2021-12-03T00:09:59.453642Z",
     "iopub.status.busy": "2021-12-03T00:09:59.452585Z",
     "iopub.status.idle": "2021-12-03T00:09:59.721248Z",
     "shell.execute_reply": "2021-12-03T00:09:59.720616Z",
     "shell.execute_reply.started": "2021-12-02T08:10:07.84576Z"
    },
    "papermill": {
     "duration": 0.326852,
     "end_time": "2021-12-03T00:09:59.721395",
     "exception": false,
     "start_time": "2021-12-03T00:09:59.394543",
     "status": "completed"
    },
    "tags": []
   },
   "outputs": [],
   "source": [
    "#Function to get date of month\n",
    "def get_dom(date):\n",
    "    return date.day\n",
    "\n",
    "df['dom'] = df['date'].map(get_dom)\n",
    "\n",
    "def get_weekday(date):\n",
    "    return date.weekday()\n",
    "\n",
    "df['weekday'] = df['date'].map(get_weekday)\n",
    "\n",
    "month = []\n",
    "for date in df[\"date\"]:\n",
    "    if date.month == 8:\n",
    "        month.append(\"August\")\n",
    "    elif date.month == 9:\n",
    "        month.append(\"September\")\n",
    "    elif date.month == 10:\n",
    "        month.append(\"October\")\n",
    "\n",
    "df['month'] = month"
   ]
  },
  {
   "cell_type": "markdown",
   "id": "4f95b407",
   "metadata": {
    "papermill": {
     "duration": 0.055695,
     "end_time": "2021-12-03T00:09:59.832185",
     "exception": false,
     "start_time": "2021-12-03T00:09:59.776490",
     "status": "completed"
    },
    "tags": []
   },
   "source": [
    "## Categorical Analysis"
   ]
  },
  {
   "cell_type": "code",
   "execution_count": 19,
   "id": "5f6fc6c1",
   "metadata": {
    "execution": {
     "iopub.execute_input": "2021-12-03T00:09:59.947543Z",
     "iopub.status.busy": "2021-12-03T00:09:59.946559Z",
     "iopub.status.idle": "2021-12-03T00:10:00.214593Z",
     "shell.execute_reply": "2021-12-03T00:10:00.213870Z",
     "shell.execute_reply.started": "2021-12-02T08:10:08.0626Z"
    },
    "papermill": {
     "duration": 0.327306,
     "end_time": "2021-12-03T00:10:00.214753",
     "exception": false,
     "start_time": "2021-12-03T00:09:59.887447",
     "status": "completed"
    },
    "tags": []
   },
   "outputs": [
    {
     "name": "stderr",
     "output_type": "stream",
     "text": [
      "/opt/conda/lib/python3.7/site-packages/seaborn/_decorators.py:43: FutureWarning: Pass the following variable as a keyword arg: x. From version 0.12, the only valid positional argument will be `data`, and passing other arguments without an explicit keyword will result in an error or misinterpretation.\n",
      "  FutureWarning\n"
     ]
    },
    {
     "data": {
      "image/png": "[encoded data removed]",
      "text/plain": [
       "<Figure size 576x360 with 1 Axes>"
      ]
     },
     "metadata": {
      "needs_background": "light"
     },
     "output_type": "display_data"
    }
   ],
   "source": [
    "def with_hue(plot, feature, Number_of_categories, hue_categories):\n",
    "    a = [p.get_height() for p in plot.patches]\n",
    "    patch = [p for p in plot.patches]\n",
    "    for i in range(Number_of_categories):\n",
    "        total = feature.value_counts().values[i]\n",
    "        for j in range(hue_categories):\n",
    "            percentage = '{:.1f}%'.format(100 * a[(j*Number_of_categories + i)]/total)\n",
    "            x = patch[(j*Number_of_categories + i)].get_x() + patch[(j*Number_of_categories + i)].get_width() / 2 - 0.15\n",
    "            y = patch[(j*Number_of_categories + i)].get_y() + patch[(j*Number_of_categories + i)].get_height() \n",
    "            ax.annotate(percentage, (x, y), size = 12)\n",
    "    plt.show()\n",
    "\n",
    "def without_hue(plot, feature):\n",
    "    total = len(feature)\n",
    "    for p in ax.patches:\n",
    "        percentage = '{:.1f}%'.format(100 * p.get_height()/total)\n",
    "        x = p.get_x() + p.get_width() / 2 - 0.05\n",
    "        y = p.get_y() + p.get_height()\n",
    "        ax.annotate(percentage, (x, y), size = 12)\n",
    "    plt.show()\n",
    "    \n",
    "plt.figure(figsize=(8,5))\n",
    "plt.title(\"Status\")\n",
    "ax=sns.countplot(df['status'],data=df, palette='rainbow')\n",
    "without_hue(ax,df['status'])"
   ]
  },
  {
   "cell_type": "code",
   "execution_count": 20,
   "id": "865839f0",
   "metadata": {
    "execution": {
     "iopub.execute_input": "2021-12-03T00:10:00.356407Z",
     "iopub.status.busy": "2021-12-03T00:10:00.355348Z",
     "iopub.status.idle": "2021-12-03T00:10:00.535986Z",
     "shell.execute_reply": "2021-12-03T00:10:00.536813Z",
     "shell.execute_reply.started": "2021-12-02T08:10:08.317957Z"
    },
    "papermill": {
     "duration": 0.265787,
     "end_time": "2021-12-03T00:10:00.537063",
     "exception": false,
     "start_time": "2021-12-03T00:10:00.271276",
     "status": "completed"
    },
    "tags": []
   },
   "outputs": [
    {
     "name": "stderr",
     "output_type": "stream",
     "text": [
      "/opt/conda/lib/python3.7/site-packages/seaborn/_decorators.py:43: FutureWarning: Pass the following variable as a keyword arg: x. From version 0.12, the only valid positional argument will be `data`, and passing other arguments without an explicit keyword will result in an error or misinterpretation.\n",
      "  FutureWarning\n"
     ]
    },
    {
     "data": {
      "image/png": "[encoded data removed]",
      "text/plain": [
       "<Figure size 576x360 with 1 Axes>"
      ]
     },
     "metadata": {
      "needs_background": "light"
     },
     "output_type": "display_data"
    }
   ],
   "source": [
    "plt.figure(figsize=(8,5))\n",
    "plt.title(\"card_present_flag\")\n",
    "ax=sns.countplot(df['card_present_flag'],data=df)\n",
    "without_hue(ax,df['card_present_flag'])"
   ]
  },
  {
   "cell_type": "code",
   "execution_count": 21,
   "id": "5067b63c",
   "metadata": {
    "execution": {
     "iopub.execute_input": "2021-12-03T00:10:00.660670Z",
     "iopub.status.busy": "2021-12-03T00:10:00.659943Z",
     "iopub.status.idle": "2021-12-03T00:10:01.115034Z",
     "shell.execute_reply": "2021-12-03T00:10:01.114254Z",
     "shell.execute_reply.started": "2021-12-02T08:10:08.483151Z"
    },
    "papermill": {
     "duration": 0.518994,
     "end_time": "2021-12-03T00:10:01.115179",
     "exception": false,
     "start_time": "2021-12-03T00:10:00.596185",
     "status": "completed"
    },
    "tags": []
   },
   "outputs": [
    {
     "data": {
      "text/plain": [
       "Text(0.5, 1.0, 'card_present_flag VS amount')"
      ]
     },
     "execution_count": 21,
     "metadata": {},
     "output_type": "execute_result"
    },
    {
     "data": {
      "text/plain": [
       "<Figure size 576x360 with 0 Axes>"
      ]
     },
     "metadata": {},
     "output_type": "display_data"
    },
    {
     "data": {
      "image/png": "[encoded data removed]",
      "text/plain": [
       "<Figure size 360x360 with 1 Axes>"
      ]
     },
     "metadata": {
      "needs_background": "light"
     },
     "output_type": "display_data"
    }
   ],
   "source": [
    "plt.figure(figsize=(8,5))\n",
    "sns.catplot(x='card_present_flag',y='amount',data=df, palette='rainbow')\n",
    "plt.title(\"card_present_flag VS amount\")"
   ]
  },
  {
   "cell_type": "code",
   "execution_count": 22,
   "id": "b84b2e07",
   "metadata": {
    "execution": {
     "iopub.execute_input": "2021-12-03T00:10:01.237446Z",
     "iopub.status.busy": "2021-12-03T00:10:01.236739Z",
     "iopub.status.idle": "2021-12-03T00:10:01.436726Z",
     "shell.execute_reply": "2021-12-03T00:10:01.436189Z",
     "shell.execute_reply.started": "2021-12-02T08:10:08.910464Z"
    },
    "papermill": {
     "duration": 0.262443,
     "end_time": "2021-12-03T00:10:01.436869",
     "exception": false,
     "start_time": "2021-12-03T00:10:01.174426",
     "status": "completed"
    },
    "tags": []
   },
   "outputs": [
    {
     "name": "stderr",
     "output_type": "stream",
     "text": [
      "/opt/conda/lib/python3.7/site-packages/seaborn/_decorators.py:43: FutureWarning: Pass the following variable as a keyword arg: x. From version 0.12, the only valid positional argument will be `data`, and passing other arguments without an explicit keyword will result in an error or misinterpretation.\n",
      "  FutureWarning\n"
     ]
    },
    {
     "data": {
      "image/png": "[encoded data removed]",
      "text/plain": [
       "<Figure size 576x360 with 1 Axes>"
      ]
     },
     "metadata": {
      "needs_background": "light"
     },
     "output_type": "display_data"
    }
   ],
   "source": [
    "plt.figure(figsize=(8,5))\n",
    "plt.title(\"Movement\")\n",
    "ax=sns.countplot(df['movement'],data=df)\n",
    "without_hue(ax,df['movement'])"
   ]
  },
  {
   "cell_type": "code",
   "execution_count": 23,
   "id": "8e5a8748",
   "metadata": {
    "execution": {
     "iopub.execute_input": "2021-12-03T00:10:01.561054Z",
     "iopub.status.busy": "2021-12-03T00:10:01.560353Z",
     "iopub.status.idle": "2021-12-03T00:10:01.838410Z",
     "shell.execute_reply": "2021-12-03T00:10:01.837037Z",
     "shell.execute_reply.started": "2021-12-02T08:10:09.102773Z"
    },
    "papermill": {
     "duration": 0.341189,
     "end_time": "2021-12-03T00:10:01.838637",
     "exception": false,
     "start_time": "2021-12-03T00:10:01.497448",
     "status": "completed"
    },
    "tags": []
   },
   "outputs": [
    {
     "name": "stderr",
     "output_type": "stream",
     "text": [
      "/opt/conda/lib/python3.7/site-packages/seaborn/_decorators.py:43: FutureWarning: Pass the following variable as a keyword arg: x. From version 0.12, the only valid positional argument will be `data`, and passing other arguments without an explicit keyword will result in an error or misinterpretation.\n",
      "  FutureWarning\n"
     ]
    },
    {
     "data": {
      "image/png": "[encoded data removed]",
      "text/plain": [
       "<Figure size 576x360 with 1 Axes>"
      ]
     },
     "metadata": {
      "needs_background": "light"
     },
     "output_type": "display_data"
    }
   ],
   "source": [
    "plt.figure(figsize=(8,5))\n",
    "plt.title(\"Merchant Distribution\")\n",
    "ax = sns.countplot(df['merchant_state'],data=df,order=df['merchant_state'].value_counts().index)\n",
    "without_hue(ax,df['merchant_state'])"
   ]
  },
  {
   "cell_type": "code",
   "execution_count": 24,
   "id": "43d4f6e5",
   "metadata": {
    "execution": {
     "iopub.execute_input": "2021-12-03T00:10:01.986218Z",
     "iopub.status.busy": "2021-12-03T00:10:01.985182Z",
     "iopub.status.idle": "2021-12-03T00:10:02.258742Z",
     "shell.execute_reply": "2021-12-03T00:10:02.259278Z",
     "shell.execute_reply.started": "2021-12-02T08:10:09.352158Z"
    },
    "papermill": {
     "duration": 0.347865,
     "end_time": "2021-12-03T00:10:02.259463",
     "exception": false,
     "start_time": "2021-12-03T00:10:01.911598",
     "status": "completed"
    },
    "tags": []
   },
   "outputs": [
    {
     "name": "stderr",
     "output_type": "stream",
     "text": [
      "/opt/conda/lib/python3.7/site-packages/seaborn/_decorators.py:43: FutureWarning: Pass the following variable as a keyword arg: x. From version 0.12, the only valid positional argument will be `data`, and passing other arguments without an explicit keyword will result in an error or misinterpretation.\n",
      "  FutureWarning\n"
     ]
    },
    {
     "data": {
      "image/png": "[encoded data removed]",
      "text/plain": [
       "<Figure size 576x360 with 1 Axes>"
      ]
     },
     "metadata": {
      "needs_background": "light"
     },
     "output_type": "display_data"
    }
   ],
   "source": [
    "plt.figure(figsize=(8,5))\n",
    "plt.title(\"txn_description\")\n",
    "ax = sns.countplot(df['txn_description'], data=df, order = df['txn_description'].value_counts().index)\n",
    "without_hue(ax,df['txn_description'])"
   ]
  },
  {
   "cell_type": "code",
   "execution_count": 25,
   "id": "9a63bbf9",
   "metadata": {
    "execution": {
     "iopub.execute_input": "2021-12-03T00:10:02.403133Z",
     "iopub.status.busy": "2021-12-03T00:10:02.391221Z",
     "iopub.status.idle": "2021-12-03T00:10:02.936613Z",
     "shell.execute_reply": "2021-12-03T00:10:02.936070Z",
     "shell.execute_reply.started": "2021-12-02T08:10:09.595149Z"
    },
    "papermill": {
     "duration": 0.613886,
     "end_time": "2021-12-03T00:10:02.936764",
     "exception": false,
     "start_time": "2021-12-03T00:10:02.322878",
     "status": "completed"
    },
    "tags": []
   },
   "outputs": [
    {
     "data": {
      "text/plain": [
       "Text(0.5, 1.0, 'txn_description by Age')"
      ]
     },
     "execution_count": 25,
     "metadata": {},
     "output_type": "execute_result"
    },
    {
     "data": {
      "image/png": "[encoded data removed]",
      "text/plain": [
       "<Figure size 576x360 with 1 Axes>"
      ]
     },
     "metadata": {
      "needs_background": "light"
     },
     "output_type": "display_data"
    }
   ],
   "source": [
    "plt.figure(figsize=(8,5))\n",
    "sns.boxplot(x='txn_description',y='age',data=df, palette='rainbow',hue='gender')\n",
    "plt.title(\"txn_description by Age\")"
   ]
  },
  {
   "cell_type": "code",
   "execution_count": 26,
   "id": "ea84e555",
   "metadata": {
    "execution": {
     "iopub.execute_input": "2021-12-03T00:10:03.113258Z",
     "iopub.status.busy": "2021-12-03T00:10:03.076474Z",
     "iopub.status.idle": "2021-12-03T00:10:03.275814Z",
     "shell.execute_reply": "2021-12-03T00:10:03.276349Z",
     "shell.execute_reply.started": "2021-12-02T08:10:10.068297Z"
    },
    "papermill": {
     "duration": 0.274374,
     "end_time": "2021-12-03T00:10:03.276533",
     "exception": false,
     "start_time": "2021-12-03T00:10:03.002159",
     "status": "completed"
    },
    "tags": []
   },
   "outputs": [
    {
     "name": "stderr",
     "output_type": "stream",
     "text": [
      "/opt/conda/lib/python3.7/site-packages/seaborn/_decorators.py:43: FutureWarning: Pass the following variable as a keyword arg: x. From version 0.12, the only valid positional argument will be `data`, and passing other arguments without an explicit keyword will result in an error or misinterpretation.\n",
      "  FutureWarning\n"
     ]
    },
    {
     "data": {
      "image/png": "[encoded data removed]",
      "text/plain": [
       "<Figure size 576x360 with 1 Axes>"
      ]
     },
     "metadata": {
      "needs_background": "light"
     },
     "output_type": "display_data"
    }
   ],
   "source": [
    "plt.figure(figsize=(8,5))\n",
    "plt.title(\"Gender\")\n",
    "ax = sns.countplot(df['gender'], data=df)\n",
    "without_hue(ax,df['gender'])"
   ]
  },
  {
   "cell_type": "markdown",
   "id": "d527cece",
   "metadata": {
    "papermill": {
     "duration": 0.064513,
     "end_time": "2021-12-03T00:10:03.406588",
     "exception": false,
     "start_time": "2021-12-03T00:10:03.342075",
     "status": "completed"
    },
    "tags": []
   },
   "source": [
    "## Observation\n",
    "- Status: Authorized is 64.1% and posted is 35.9%\n",
    "- Card_present_flag: 51.4% is 1 and 12.6% is 0. Flag 1 has higher average amount\n",
    "- Movement: Debit transaction is dominant with 92.7% compared to 7.3% of credit transaction\n",
    "- Txn_description: Sales POS and POS are the most common transaction type(64%) while phone banking is the least(1%). Majority customers are between the age of 20 to 40\n",
    "- Gender: Male has slightly more transactions than female with 4% higher\n",
    "- Merchant_state: NSW has the most merchants followed by VIC"
   ]
  },
  {
   "cell_type": "markdown",
   "id": "84a8bd5a",
   "metadata": {
    "papermill": {
     "duration": 0.064894,
     "end_time": "2021-12-03T00:10:03.536576",
     "exception": false,
     "start_time": "2021-12-03T00:10:03.471682",
     "status": "completed"
    },
    "tags": []
   },
   "source": [
    "## Purchase Pattern Analysis"
   ]
  },
  {
   "cell_type": "markdown",
   "id": "5d95c84f",
   "metadata": {
    "papermill": {
     "duration": 0.064617,
     "end_time": "2021-12-03T00:10:03.666277",
     "exception": false,
     "start_time": "2021-12-03T00:10:03.601660",
     "status": "completed"
    },
    "tags": []
   },
   "source": [
    "- Transaction has 2 types in terms of movement: credit and debit.\n",
    "- We can see all the credit is for incoming salary. We assume all the outgoing(debit) is for the purchase transaction\n",
    "- We are interested in purchase transaction to analyzing spending or purchase pattern "
   ]
  },
  {
   "cell_type": "code",
   "execution_count": 27,
   "id": "7f6fa0b3",
   "metadata": {
    "execution": {
     "iopub.execute_input": "2021-12-03T00:10:03.803024Z",
     "iopub.status.busy": "2021-12-03T00:10:03.799065Z",
     "iopub.status.idle": "2021-12-03T00:10:03.806305Z",
     "shell.execute_reply": "2021-12-03T00:10:03.806786Z",
     "shell.execute_reply.started": "2021-12-02T08:10:10.263705Z"
    },
    "papermill": {
     "duration": 0.075745,
     "end_time": "2021-12-03T00:10:03.806983",
     "exception": false,
     "start_time": "2021-12-03T00:10:03.731238",
     "status": "completed"
    },
    "tags": []
   },
   "outputs": [],
   "source": [
    "df_credit=df[df['movement']=='credit']"
   ]
  },
  {
   "cell_type": "code",
   "execution_count": 28,
   "id": "55ac26db",
   "metadata": {
    "execution": {
     "iopub.execute_input": "2021-12-03T00:10:03.940399Z",
     "iopub.status.busy": "2021-12-03T00:10:03.939690Z",
     "iopub.status.idle": "2021-12-03T00:10:03.945941Z",
     "shell.execute_reply": "2021-12-03T00:10:03.946563Z",
     "shell.execute_reply.started": "2021-12-02T08:10:10.276251Z"
    },
    "papermill": {
     "duration": 0.074749,
     "end_time": "2021-12-03T00:10:03.946732",
     "exception": false,
     "start_time": "2021-12-03T00:10:03.871983",
     "status": "completed"
    },
    "tags": []
   },
   "outputs": [
    {
     "data": {
      "text/plain": [
       "PAY/SALARY    883\n",
       "Name: txn_description, dtype: int64"
      ]
     },
     "execution_count": 28,
     "metadata": {},
     "output_type": "execute_result"
    }
   ],
   "source": [
    "df_credit['txn_description'].value_counts()"
   ]
  },
  {
   "cell_type": "code",
   "execution_count": 29,
   "id": "8de506fc",
   "metadata": {
    "execution": {
     "iopub.execute_input": "2021-12-03T00:10:04.081740Z",
     "iopub.status.busy": "2021-12-03T00:10:04.081011Z",
     "iopub.status.idle": "2021-12-03T00:10:04.089738Z",
     "shell.execute_reply": "2021-12-03T00:10:04.090296Z",
     "shell.execute_reply.started": "2021-12-02T08:10:10.288452Z"
    },
    "papermill": {
     "duration": 0.077821,
     "end_time": "2021-12-03T00:10:04.090475",
     "exception": false,
     "start_time": "2021-12-03T00:10:04.012654",
     "status": "completed"
    },
    "tags": []
   },
   "outputs": [],
   "source": [
    "df_debit=df[df['movement']=='debit']"
   ]
  },
  {
   "cell_type": "code",
   "execution_count": 30,
   "id": "c49a07f9",
   "metadata": {
    "execution": {
     "iopub.execute_input": "2021-12-03T00:10:04.227297Z",
     "iopub.status.busy": "2021-12-03T00:10:04.226586Z",
     "iopub.status.idle": "2021-12-03T00:10:26.170135Z",
     "shell.execute_reply": "2021-12-03T00:10:26.170677Z",
     "shell.execute_reply.started": "2021-12-02T08:10:10.306296Z"
    },
    "papermill": {
     "duration": 22.012124,
     "end_time": "2021-12-03T00:10:26.170852",
     "exception": false,
     "start_time": "2021-12-03T00:10:04.158728",
     "status": "completed"
    },
    "tags": []
   },
   "outputs": [
    {
     "data": {
      "image/png": "[encoded data removed]",
      "text/plain": [
       "<Figure size 576x360 with 1 Axes>"
      ]
     },
     "metadata": {
      "needs_background": "light"
     },
     "output_type": "display_data"
    }
   ],
   "source": [
    "plt.figure(figsize=(8,5))\n",
    "plt.bar(df_debit['age'], df_debit['amount'])\n",
    "plt.title('Purchase amount VS Age')\n",
    "plt.xlabel('Age')\n",
    "plt.ylabel('Amount')\n",
    "plt.grid(True)\n",
    "plt.show()"
   ]
  },
  {
   "cell_type": "markdown",
   "id": "32dc4562",
   "metadata": {
    "papermill": {
     "duration": 0.06622,
     "end_time": "2021-12-03T00:10:26.302793",
     "exception": false,
     "start_time": "2021-12-03T00:10:26.236573",
     "status": "completed"
    },
    "tags": []
   },
   "source": [
    "## Transaction Pattern Analysis"
   ]
  },
  {
   "cell_type": "code",
   "execution_count": 31,
   "id": "a8ba5303",
   "metadata": {
    "execution": {
     "iopub.execute_input": "2021-12-03T00:10:26.453937Z",
     "iopub.status.busy": "2021-12-03T00:10:26.452909Z",
     "iopub.status.idle": "2021-12-03T00:10:27.665293Z",
     "shell.execute_reply": "2021-12-03T00:10:27.665876Z",
     "shell.execute_reply.started": "2021-12-02T08:10:30.010605Z"
    },
    "papermill": {
     "duration": 1.296796,
     "end_time": "2021-12-03T00:10:27.666118",
     "exception": false,
     "start_time": "2021-12-03T00:10:26.369322",
     "status": "completed"
    },
    "tags": []
   },
   "outputs": [
    {
     "data": {
      "text/plain": [
       "Text(0.5, 1.0, 'Transcation Frequency VS Amount')"
      ]
     },
     "execution_count": 31,
     "metadata": {},
     "output_type": "execute_result"
    },
    {
     "data": {
      "image/png": "[encoded data removed]",
      "text/plain": [
       "<Figure size 576x360 with 1 Axes>"
      ]
     },
     "metadata": {
      "needs_background": "light"
     },
     "output_type": "display_data"
    }
   ],
   "source": [
    "plt.figure(figsize=(8,5))\n",
    "plt.hist(df_debit['amount'], bins = 500,rwidth=0.8)\n",
    "plt.xlim(0,200)\n",
    "plt.xlabel(\"amount\")                         \n",
    "plt.ylabel(\"Frequency\")\n",
    "plt.title(\"Transcation Frequency VS Amount\")"
   ]
  },
  {
   "cell_type": "code",
   "execution_count": 32,
   "id": "8b9ac71e",
   "metadata": {
    "execution": {
     "iopub.execute_input": "2021-12-03T00:10:27.812873Z",
     "iopub.status.busy": "2021-12-03T00:10:27.812221Z",
     "iopub.status.idle": "2021-12-03T00:10:28.110640Z",
     "shell.execute_reply": "2021-12-03T00:10:28.109926Z",
     "shell.execute_reply.started": "2021-12-02T08:18:48.351317Z"
    },
    "papermill": {
     "duration": 0.37207,
     "end_time": "2021-12-03T00:10:28.110800",
     "exception": false,
     "start_time": "2021-12-03T00:10:27.738730",
     "status": "completed"
    },
    "tags": []
   },
   "outputs": [
    {
     "data": {
      "text/plain": [
       "Text(0.5, 1.0, 'Number of Transcations VS. Date of Month')"
      ]
     },
     "execution_count": 32,
     "metadata": {},
     "output_type": "execute_result"
    },
    {
     "data": {
      "image/png": "[encoded data removed]",
      "text/plain": [
       "<Figure size 576x360 with 1 Axes>"
      ]
     },
     "metadata": {
      "needs_background": "light"
     },
     "output_type": "display_data"
    }
   ],
   "source": [
    "plt.figure(figsize=(8,5))\n",
    "plt.hist(df_debit.dom, bins = 31,rwidth=0.8)\n",
    "plt.xlabel(\"Date of Month\")                         # Less number of transaction during month's end\n",
    "plt.ylabel(\"Frequency\")\n",
    "plt.title(\"Number of Transcations VS. Date of Month\")"
   ]
  },
  {
   "cell_type": "code",
   "execution_count": 33,
   "id": "8c648507",
   "metadata": {
    "execution": {
     "iopub.execute_input": "2021-12-03T00:10:28.258303Z",
     "iopub.status.busy": "2021-12-03T00:10:28.257545Z",
     "iopub.status.idle": "2021-12-03T00:10:28.487939Z",
     "shell.execute_reply": "2021-12-03T00:10:28.487391Z",
     "shell.execute_reply.started": "2021-12-02T08:18:56.527982Z"
    },
    "papermill": {
     "duration": 0.307348,
     "end_time": "2021-12-03T00:10:28.488104",
     "exception": false,
     "start_time": "2021-12-03T00:10:28.180756",
     "status": "completed"
    },
    "tags": []
   },
   "outputs": [
    {
     "data": {
      "text/plain": [
       "Text(0.5, 1.0, 'Number of Transcations VS. Day of the Week')"
      ]
     },
     "execution_count": 33,
     "metadata": {},
     "output_type": "execute_result"
    },
    {
     "data": {
      "image/png": "[encoded data removed]",
      "text/plain": [
       "<Figure size 576x360 with 1 Axes>"
      ]
     },
     "metadata": {
      "needs_background": "light"
     },
     "output_type": "display_data"
    }
   ],
   "source": [
    "plt.figure(figsize=(8,5))\n",
    "plt.hist(df_debit.weekday, bins=7, range=(-0.5,6.5), rwidth=0.8)\n",
    "plt.xticks(range(7), 'Mon Tue Wed Thr Fri Sat Sun'.split())\n",
    "plt.xlabel('Weekday')\n",
    "plt.ylabel('Frequency')                                   \n",
    "plt.title('Number of Transcations VS. Day of the Week')"
   ]
  },
  {
   "cell_type": "code",
   "execution_count": 34,
   "id": "af550cd0",
   "metadata": {
    "execution": {
     "iopub.execute_input": "2021-12-03T00:10:28.636252Z",
     "iopub.status.busy": "2021-12-03T00:10:28.635544Z",
     "iopub.status.idle": "2021-12-03T00:10:28.853173Z",
     "shell.execute_reply": "2021-12-03T00:10:28.852639Z",
     "shell.execute_reply.started": "2021-12-02T08:18:11.056495Z"
    },
    "papermill": {
     "duration": 0.295327,
     "end_time": "2021-12-03T00:10:28.853334",
     "exception": false,
     "start_time": "2021-12-03T00:10:28.558007",
     "status": "completed"
    },
    "tags": []
   },
   "outputs": [
    {
     "data": {
      "text/plain": [
       "Text(0.5, 1.0, 'Transaction Volume VS. Day of the Week')"
      ]
     },
     "execution_count": 34,
     "metadata": {},
     "output_type": "execute_result"
    },
    {
     "data": {
      "image/png": "[encoded data removed]",
      "text/plain": [
       "<Figure size 576x360 with 1 Axes>"
      ]
     },
     "metadata": {
      "needs_background": "light"
     },
     "output_type": "display_data"
    }
   ],
   "source": [
    "x=['Mon','Tue', 'Wed', 'Thr', 'Fri', 'Sat', 'Sun']\n",
    "df1=df_debit.groupby('weekday')['amount'].sum()\n",
    "plt.figure(figsize=(8,5))\n",
    "plt.bar(x,df1,width=0.5)\n",
    "plt.xticks(range(7), 'Mon Tue Wed Thr Fri Sat Sun'.split())\n",
    "plt.xlabel('Weekday')\n",
    "plt.ylabel('Amount')                                                   \n",
    "plt.title('Transaction Volume VS. Day of the Week')"
   ]
  },
  {
   "cell_type": "markdown",
   "id": "62a18057",
   "metadata": {
    "papermill": {
     "duration": 0.070692,
     "end_time": "2021-12-03T00:10:28.995147",
     "exception": false,
     "start_time": "2021-12-03T00:10:28.924455",
     "status": "completed"
    },
    "tags": []
   },
   "source": [
    "## Transaction Pattern Analysis"
   ]
  },
  {
   "cell_type": "code",
   "execution_count": 35,
   "id": "0ac56cf8",
   "metadata": {
    "execution": {
     "iopub.execute_input": "2021-12-03T00:10:29.140335Z",
     "iopub.status.busy": "2021-12-03T00:10:29.139675Z",
     "iopub.status.idle": "2021-12-03T00:10:29.382759Z",
     "shell.execute_reply": "2021-12-03T00:10:29.381967Z",
     "shell.execute_reply.started": "2021-12-02T08:20:36.105285Z"
    },
    "papermill": {
     "duration": 0.316137,
     "end_time": "2021-12-03T00:10:29.382905",
     "exception": false,
     "start_time": "2021-12-03T00:10:29.066768",
     "status": "completed"
    },
    "tags": []
   },
   "outputs": [
    {
     "data": {
      "text/plain": [
       "Text(0.5, 1.0, 'Average Transaction Amount VS. Day of the Week')"
      ]
     },
     "execution_count": 35,
     "metadata": {},
     "output_type": "execute_result"
    },
    {
     "data": {
      "image/png": "[encoded data removed]",
      "text/plain": [
       "<Figure size 576x360 with 1 Axes>"
      ]
     },
     "metadata": {
      "needs_background": "light"
     },
     "output_type": "display_data"
    }
   ],
   "source": [
    "x=['Mon','Tue', 'Wed', 'Thr', 'Fri', 'Sat', 'Sun']\n",
    "df_mean=df.groupby('weekday')['amount'].mean()\n",
    "plt.figure(figsize=(8,5))\n",
    "plt.bar(x,df_mean,width=0.5)\n",
    "plt.xticks(range(7), 'Mon Tue Wed Thr Fri Sat Sun'.split())\n",
    "plt.xlabel('Weekday')\n",
    "plt.ylabel('Amount')                                                   \n",
    "plt.title('Average Transaction Amount VS. Day of the Week')"
   ]
  },
  {
   "cell_type": "code",
   "execution_count": 36,
   "id": "9172904f",
   "metadata": {
    "execution": {
     "iopub.execute_input": "2021-12-03T00:10:29.535880Z",
     "iopub.status.busy": "2021-12-03T00:10:29.535225Z",
     "iopub.status.idle": "2021-12-03T00:10:29.905654Z",
     "shell.execute_reply": "2021-12-03T00:10:29.905102Z",
     "shell.execute_reply.started": "2021-12-02T08:19:44.966971Z"
    },
    "papermill": {
     "duration": 0.450794,
     "end_time": "2021-12-03T00:10:29.905815",
     "exception": false,
     "start_time": "2021-12-03T00:10:29.455021",
     "status": "completed"
    },
    "tags": []
   },
   "outputs": [
    {
     "data": {
      "image/png": "[encoded data removed]",
      "text/plain": [
       "<Figure size 720x360 with 1 Axes>"
      ]
     },
     "metadata": {
      "needs_background": "light"
     },
     "output_type": "display_data"
    }
   ],
   "source": [
    "plt.figure(figsize=(10,5))\n",
    "volume_by_day = df.groupby('date').sum()\n",
    "plt.bar(volume_by_day.index, volume_by_day['amount'])\n",
    "plt.title('Transaction Volume Per Day')\n",
    "plt.xlabel('Date')\n",
    "plt.ylabel('Transaction Volume')\n",
    "plt.grid(True)\n",
    "plt.show()"
   ]
  },
  {
   "cell_type": "code",
   "execution_count": 37,
   "id": "ee08fb4c",
   "metadata": {
    "execution": {
     "iopub.execute_input": "2021-12-03T00:10:30.056270Z",
     "iopub.status.busy": "2021-12-03T00:10:30.055548Z",
     "iopub.status.idle": "2021-12-03T00:10:30.214208Z",
     "shell.execute_reply": "2021-12-03T00:10:30.215081Z",
     "shell.execute_reply.started": "2021-12-02T08:10:32.448688Z"
    },
    "papermill": {
     "duration": 0.236253,
     "end_time": "2021-12-03T00:10:30.215362",
     "exception": false,
     "start_time": "2021-12-03T00:10:29.979109",
     "status": "completed"
    },
    "tags": []
   },
   "outputs": [
    {
     "data": {
      "image/png": "[encoded data removed]",
      "text/plain": [
       "<Figure size 576x432 with 1 Axes>"
      ]
     },
     "metadata": {
      "needs_background": "light"
     },
     "output_type": "display_data"
    }
   ],
   "source": [
    "plt.figure(figsize=(8,6))\n",
    "volume_by_day = df.groupby('month').sum()\n",
    "plt.bar(volume_by_day.index, volume_by_day['amount'])\n",
    "plt.title('Transaction Volume each Month')\n",
    "plt.xlabel('Date')\n",
    "plt.ylabel('Transaction Volume')\n",
    "plt.grid(True)\n",
    "plt.show()"
   ]
  },
  {
   "cell_type": "code",
   "execution_count": 38,
   "id": "970f0ae1",
   "metadata": {
    "execution": {
     "iopub.execute_input": "2021-12-03T00:10:30.366711Z",
     "iopub.status.busy": "2021-12-03T00:10:30.366023Z",
     "iopub.status.idle": "2021-12-03T00:10:30.383874Z",
     "shell.execute_reply": "2021-12-03T00:10:30.384431Z",
     "shell.execute_reply.started": "2021-12-02T08:10:32.659638Z"
    },
    "papermill": {
     "duration": 0.096023,
     "end_time": "2021-12-03T00:10:30.384604",
     "exception": false,
     "start_time": "2021-12-03T00:10:30.288581",
     "status": "completed"
    },
    "tags": []
   },
   "outputs": [],
   "source": [
    "df_cus_aug = df[df['month'] == \"August\"].groupby(\"customer_id\").mean()\n",
    "df_gen_aug = df[df['month'] == \"August\"].groupby(\"gender\").mean()\n",
    "\n",
    "mean_f_bal_aug = df_gen_aug[\"balance\"].iloc[0]\n",
    "mean_m_bal_aug = df_gen_aug[\"balance\"].iloc[1]\n",
    "n_points = len(df_cus_aug[\"age\"])"
   ]
  },
  {
   "cell_type": "code",
   "execution_count": 39,
   "id": "73ab181c",
   "metadata": {
    "execution": {
     "iopub.execute_input": "2021-12-03T00:10:30.534261Z",
     "iopub.status.busy": "2021-12-03T00:10:30.533531Z",
     "iopub.status.idle": "2021-12-03T00:10:30.901331Z",
     "shell.execute_reply": "2021-12-03T00:10:30.900776Z",
     "shell.execute_reply.started": "2021-12-02T08:10:32.67843Z"
    },
    "papermill": {
     "duration": 0.443811,
     "end_time": "2021-12-03T00:10:30.901472",
     "exception": false,
     "start_time": "2021-12-03T00:10:30.457661",
     "status": "completed"
    },
    "tags": []
   },
   "outputs": [
    {
     "data": {
      "image/png": "[encoded data removed]",
      "text/plain": [
       "<Figure size 576x360 with 1 Axes>"
      ]
     },
     "metadata": {
      "needs_background": "light"
     },
     "output_type": "display_data"
    }
   ],
   "source": [
    "plt.figure(figsize=(8,5))\n",
    "plt.scatter(df_cus_aug[\"age\"], df_cus_aug[\"balance\"], c=\"black\", label=\"Balance\")\n",
    "plt.plot(df_cus_aug[\"age\"], np.linspace(mean_f_bal_aug,mean_f_bal_aug,n_points), c=\"r\", label = \"Mean female balance\")\n",
    "plt.plot(df_cus_aug[\"age\"], np.linspace(mean_m_bal_aug,mean_m_bal_aug,n_points), c=\"b\", label = \"Mean male balance\")\n",
    "plt.title(\"ANZ Customer Balance VS. Age in August\")\n",
    "plt.xlabel(\"Age (years)\")\n",
    "plt.ylabel(\"Balance ($)\")\n",
    "plt.legend()\n",
    "plt.tight_layout()"
   ]
  },
  {
   "cell_type": "code",
   "execution_count": 40,
   "id": "8f41f226",
   "metadata": {
    "execution": {
     "iopub.execute_input": "2021-12-03T00:10:31.057569Z",
     "iopub.status.busy": "2021-12-03T00:10:31.056841Z",
     "iopub.status.idle": "2021-12-03T00:10:31.435911Z",
     "shell.execute_reply": "2021-12-03T00:10:31.435336Z",
     "shell.execute_reply.started": "2021-12-02T08:10:33.061607Z"
    },
    "papermill": {
     "duration": 0.458994,
     "end_time": "2021-12-03T00:10:31.436102",
     "exception": false,
     "start_time": "2021-12-03T00:10:30.977108",
     "status": "completed"
    },
    "tags": []
   },
   "outputs": [
    {
     "data": {
      "image/png": "[encoded data removed]",
      "text/plain": [
       "<Figure size 576x360 with 1 Axes>"
      ]
     },
     "metadata": {
      "needs_background": "light"
     },
     "output_type": "display_data"
    }
   ],
   "source": [
    "df_cus_sep = df[df['month'] == \"September\"].groupby(\"customer_id\").mean()\n",
    "df_gen_sep = df[df['month'] == \"September\"].groupby(\"gender\").mean()\n",
    "\n",
    "mean_f_bal_sep = df_gen_sep[\"balance\"].iloc[0]\n",
    "mean_m_bal_sep = df_gen_sep[\"balance\"].iloc[1]\n",
    "n_points = len(df_cus_sep[\"age\"])\n",
    "\n",
    "plt.figure(figsize=(8,5))\n",
    "plt.scatter(df_cus_sep[\"age\"], df_cus_sep[\"balance\"], c=\"black\", label=\"Balance\")\n",
    "plt.plot(df_cus_sep[\"age\"], np.linspace(mean_f_bal_sep,mean_f_bal_sep,n_points), c=\"r\", label = \"Mean female balance\")\n",
    "plt.plot(df_cus_sep[\"age\"], np.linspace(mean_m_bal_sep,mean_m_bal_sep,n_points), c=\"b\", label = \"Mean male balance\")\n",
    "plt.title(\"ANZ Customer Balance VS. Age in September\")\n",
    "plt.xlabel(\"Age (years)\")\n",
    "plt.ylabel(\"Balance ($)\")\n",
    "plt.legend()\n",
    "plt.tight_layout()"
   ]
  },
  {
   "cell_type": "code",
   "execution_count": 41,
   "id": "408256ef",
   "metadata": {
    "execution": {
     "iopub.execute_input": "2021-12-03T00:10:31.601383Z",
     "iopub.status.busy": "2021-12-03T00:10:31.600637Z",
     "iopub.status.idle": "2021-12-03T00:10:31.967640Z",
     "shell.execute_reply": "2021-12-03T00:10:31.967143Z",
     "shell.execute_reply.started": "2021-12-02T08:10:33.467705Z"
    },
    "papermill": {
     "duration": 0.454392,
     "end_time": "2021-12-03T00:10:31.967782",
     "exception": false,
     "start_time": "2021-12-03T00:10:31.513390",
     "status": "completed"
    },
    "tags": []
   },
   "outputs": [
    {
     "data": {
      "image/png": "[encoded data removed]",
      "text/plain": [
       "<Figure size 576x360 with 1 Axes>"
      ]
     },
     "metadata": {
      "needs_background": "light"
     },
     "output_type": "display_data"
    }
   ],
   "source": [
    "df_cus_oct = df[df['month'] == \"October\"].groupby(\"customer_id\").mean()\n",
    "df_gen_oct = df[df['month'] == \"October\"].groupby(\"gender\").mean()\n",
    "\n",
    "mean_f_bal_oct = df_gen_oct[\"balance\"].iloc[0]\n",
    "mean_m_bal_oct = df_gen_oct[\"balance\"].iloc[1]\n",
    "n_points = len(df_cus_oct[\"age\"])\n",
    "\n",
    "plt.figure(figsize=(8,5))\n",
    "plt.scatter(df_cus_oct[\"age\"], df_cus_oct[\"balance\"], c=\"black\", label=\"Balance\")\n",
    "plt.plot(df_cus_oct[\"age\"], np.linspace(mean_f_bal_oct,mean_f_bal_oct,n_points), c=\"r\", label = \"Mean female balance\")\n",
    "plt.plot(df_cus_oct[\"age\"], np.linspace(mean_m_bal_oct,mean_m_bal_oct,n_points), c=\"b\", label = \"Mean male balance\")\n",
    "plt.title(\"ANZ Customer Balance VS. Age in October\")\n",
    "plt.xlabel(\"Age (years)\")\n",
    "plt.ylabel(\"Balance ($)\")\n",
    "plt.legend()\n",
    "plt.tight_layout()"
   ]
  },
  {
   "cell_type": "markdown",
   "id": "64ee7bd0",
   "metadata": {
    "papermill": {
     "duration": 0.077214,
     "end_time": "2021-12-03T00:10:32.121851",
     "exception": false,
     "start_time": "2021-12-03T00:10:32.044637",
     "status": "completed"
    },
    "tags": []
   },
   "source": [
    "## Salary Analysis"
   ]
  },
  {
   "cell_type": "code",
   "execution_count": 42,
   "id": "28745820",
   "metadata": {
    "execution": {
     "iopub.execute_input": "2021-12-03T00:10:32.280977Z",
     "iopub.status.busy": "2021-12-03T00:10:32.280309Z",
     "iopub.status.idle": "2021-12-03T00:10:32.297108Z",
     "shell.execute_reply": "2021-12-03T00:10:32.297690Z",
     "shell.execute_reply.started": "2021-12-02T08:10:33.856687Z"
    },
    "papermill": {
     "duration": 0.099742,
     "end_time": "2021-12-03T00:10:32.297856",
     "exception": false,
     "start_time": "2021-12-03T00:10:32.198114",
     "status": "completed"
    },
    "tags": []
   },
   "outputs": [
    {
     "data": {
      "text/html": [
       "<div>\n",
       "<style scoped>\n",
       "    .dataframe tbody tr th:only-of-type {\n",
       "        vertical-align: middle;\n",
       "    }\n",
       "\n",
       "    .dataframe tbody tr th {\n",
       "        vertical-align: top;\n",
       "    }\n",
       "\n",
       "    .dataframe thead th {\n",
       "        text-align: right;\n",
       "    }\n",
       "</style>\n",
       "<table border=\"1\" class=\"dataframe\">\n",
       "  <thead>\n",
       "    <tr style=\"text-align: right;\">\n",
       "      <th></th>\n",
       "      <th>customer_id</th>\n",
       "      <th>month</th>\n",
       "      <th>card_present_flag</th>\n",
       "      <th>balance</th>\n",
       "      <th>monthly_salary</th>\n",
       "      <th>weekday</th>\n",
       "    </tr>\n",
       "  </thead>\n",
       "  <tbody>\n",
       "    <tr>\n",
       "      <th>0</th>\n",
       "      <td>CUS-1005756958</td>\n",
       "      <td>August</td>\n",
       "      <td>0.0</td>\n",
       "      <td>6363.18</td>\n",
       "      <td>3881.88</td>\n",
       "      <td>4</td>\n",
       "    </tr>\n",
       "    <tr>\n",
       "      <th>1</th>\n",
       "      <td>CUS-1005756958</td>\n",
       "      <td>October</td>\n",
       "      <td>0.0</td>\n",
       "      <td>38701.45</td>\n",
       "      <td>4852.35</td>\n",
       "      <td>5</td>\n",
       "    </tr>\n",
       "    <tr>\n",
       "      <th>2</th>\n",
       "      <td>CUS-1005756958</td>\n",
       "      <td>September</td>\n",
       "      <td>0.0</td>\n",
       "      <td>16278.02</td>\n",
       "      <td>3881.88</td>\n",
       "      <td>4</td>\n",
       "    </tr>\n",
       "    <tr>\n",
       "      <th>3</th>\n",
       "      <td>CUS-1117979751</td>\n",
       "      <td>August</td>\n",
       "      <td>0.0</td>\n",
       "      <td>14693.52</td>\n",
       "      <td>7157.30</td>\n",
       "      <td>0</td>\n",
       "    </tr>\n",
       "    <tr>\n",
       "      <th>4</th>\n",
       "      <td>CUS-1117979751</td>\n",
       "      <td>October</td>\n",
       "      <td>0.0</td>\n",
       "      <td>46695.90</td>\n",
       "      <td>10735.95</td>\n",
       "      <td>0</td>\n",
       "    </tr>\n",
       "    <tr>\n",
       "      <th>5</th>\n",
       "      <td>CUS-1117979751</td>\n",
       "      <td>September</td>\n",
       "      <td>0.0</td>\n",
       "      <td>22311.00</td>\n",
       "      <td>7157.30</td>\n",
       "      <td>0</td>\n",
       "    </tr>\n",
       "  </tbody>\n",
       "</table>\n",
       "</div>"
      ],
      "text/plain": [
       "      customer_id      month  card_present_flag   balance  monthly_salary  \\\n",
       "0  CUS-1005756958     August                0.0   6363.18         3881.88   \n",
       "1  CUS-1005756958    October                0.0  38701.45         4852.35   \n",
       "2  CUS-1005756958  September                0.0  16278.02         3881.88   \n",
       "3  CUS-1117979751     August                0.0  14693.52         7157.30   \n",
       "4  CUS-1117979751    October                0.0  46695.90        10735.95   \n",
       "5  CUS-1117979751  September                0.0  22311.00         7157.30   \n",
       "\n",
       "   weekday  \n",
       "0        4  \n",
       "1        5  \n",
       "2        4  \n",
       "3        0  \n",
       "4        0  \n",
       "5        0  "
      ]
     },
     "execution_count": 42,
     "metadata": {},
     "output_type": "execute_result"
    }
   ],
   "source": [
    "# Calculate customer salary payment per month\n",
    "df_salary = df_credit.groupby(by=['customer_id', 'month'], as_index = False).sum()\n",
    "df_salary.rename(columns={'amount': 'monthly_salary'}, inplace=True)\n",
    "df_salary.drop(['age','dom'], axis=1,inplace=True)\n",
    "df_salary.head(6)"
   ]
  },
  {
   "cell_type": "code",
   "execution_count": 43,
   "id": "55c022d0",
   "metadata": {
    "execution": {
     "iopub.execute_input": "2021-12-03T00:10:32.454659Z",
     "iopub.status.busy": "2021-12-03T00:10:32.453942Z",
     "iopub.status.idle": "2021-12-03T00:10:32.471817Z",
     "shell.execute_reply": "2021-12-03T00:10:32.472428Z",
     "shell.execute_reply.started": "2021-12-02T08:10:33.882775Z"
    },
    "papermill": {
     "duration": 0.097971,
     "end_time": "2021-12-03T00:10:32.472592",
     "exception": false,
     "start_time": "2021-12-03T00:10:32.374621",
     "status": "completed"
    },
    "tags": []
   },
   "outputs": [
    {
     "data": {
      "text/html": [
       "<div>\n",
       "<style scoped>\n",
       "    .dataframe tbody tr th:only-of-type {\n",
       "        vertical-align: middle;\n",
       "    }\n",
       "\n",
       "    .dataframe tbody tr th {\n",
       "        vertical-align: top;\n",
       "    }\n",
       "\n",
       "    .dataframe thead th {\n",
       "        text-align: right;\n",
       "    }\n",
       "</style>\n",
       "<table border=\"1\" class=\"dataframe\">\n",
       "  <thead>\n",
       "    <tr style=\"text-align: right;\">\n",
       "      <th></th>\n",
       "      <th>customer_id</th>\n",
       "      <th>card_present_flag</th>\n",
       "      <th>three_month_salary</th>\n",
       "      <th>annual_salary</th>\n",
       "    </tr>\n",
       "  </thead>\n",
       "  <tbody>\n",
       "    <tr>\n",
       "      <th>0</th>\n",
       "      <td>CUS-1005756958</td>\n",
       "      <td>0.0</td>\n",
       "      <td>12616.11</td>\n",
       "      <td>50464.44</td>\n",
       "    </tr>\n",
       "    <tr>\n",
       "      <th>1</th>\n",
       "      <td>CUS-1117979751</td>\n",
       "      <td>0.0</td>\n",
       "      <td>25050.55</td>\n",
       "      <td>100202.20</td>\n",
       "    </tr>\n",
       "    <tr>\n",
       "      <th>2</th>\n",
       "      <td>CUS-1140341822</td>\n",
       "      <td>0.0</td>\n",
       "      <td>11499.06</td>\n",
       "      <td>45996.24</td>\n",
       "    </tr>\n",
       "    <tr>\n",
       "      <th>3</th>\n",
       "      <td>CUS-1147642491</td>\n",
       "      <td>0.0</td>\n",
       "      <td>22248.07</td>\n",
       "      <td>88992.28</td>\n",
       "    </tr>\n",
       "    <tr>\n",
       "      <th>4</th>\n",
       "      <td>CUS-1196156254</td>\n",
       "      <td>0.0</td>\n",
       "      <td>27326.11</td>\n",
       "      <td>109304.44</td>\n",
       "    </tr>\n",
       "    <tr>\n",
       "      <th>5</th>\n",
       "      <td>CUS-1220154422</td>\n",
       "      <td>0.0</td>\n",
       "      <td>15976.52</td>\n",
       "      <td>63906.08</td>\n",
       "    </tr>\n",
       "  </tbody>\n",
       "</table>\n",
       "</div>"
      ],
      "text/plain": [
       "      customer_id  card_present_flag  three_month_salary  annual_salary\n",
       "0  CUS-1005756958                0.0            12616.11       50464.44\n",
       "1  CUS-1117979751                0.0            25050.55      100202.20\n",
       "2  CUS-1140341822                0.0            11499.06       45996.24\n",
       "3  CUS-1147642491                0.0            22248.07       88992.28\n",
       "4  CUS-1196156254                0.0            27326.11      109304.44\n",
       "5  CUS-1220154422                0.0            15976.52       63906.08"
      ]
     },
     "execution_count": 43,
     "metadata": {},
     "output_type": "execute_result"
    }
   ],
   "source": [
    "df_annual_salary = df_credit.groupby(by=['customer_id'], as_index = False).sum()\n",
    "df_annual_salary.drop(['age','dom','balance','weekday'], axis=1,inplace=True)\n",
    "df_annual_salary['annual_salary']=df_annual_salary['amount']*4\n",
    "df_annual_salary.rename(columns={'amount': 'three_month_salary'}, inplace=True)\n",
    "df_annual_salary.head(6)"
   ]
  },
  {
   "cell_type": "markdown",
   "id": "a6ca54b2",
   "metadata": {
    "papermill": {
     "duration": 0.080828,
     "end_time": "2021-12-03T00:10:32.630603",
     "exception": false,
     "start_time": "2021-12-03T00:10:32.549775",
     "status": "completed"
    },
    "tags": []
   },
   "source": [
    "## Predict annual salary for each customer"
   ]
  },
  {
   "cell_type": "code",
   "execution_count": 44,
   "id": "7000b367",
   "metadata": {
    "execution": {
     "iopub.execute_input": "2021-12-03T00:10:32.787671Z",
     "iopub.status.busy": "2021-12-03T00:10:32.787065Z",
     "iopub.status.idle": "2021-12-03T00:10:32.811229Z",
     "shell.execute_reply": "2021-12-03T00:10:32.811914Z",
     "shell.execute_reply.started": "2021-12-02T08:10:33.901961Z"
    },
    "papermill": {
     "duration": 0.104802,
     "end_time": "2021-12-03T00:10:32.812127",
     "exception": false,
     "start_time": "2021-12-03T00:10:32.707325",
     "status": "completed"
    },
    "tags": []
   },
   "outputs": [],
   "source": [
    "#relevant feature selection from consumption dataframe\n",
    "data_feature= df_debit[['customer_id', 'age','balance','gender','amount']]\n",
    "\n",
    "# one hot encoding for gender( 1= male, 0= female)\n",
    "customer_data = pd.get_dummies(data_feature, columns = ['gender'], drop_first = True)\n",
    "\n",
    "df_final_temp=pd.merge(df_annual_salary,customer_data,on='customer_id')\n",
    "df_final=df_final_temp.groupby(['customer_id']).mean().reset_index()"
   ]
  },
  {
   "cell_type": "code",
   "execution_count": 45,
   "id": "53150056",
   "metadata": {
    "execution": {
     "iopub.execute_input": "2021-12-03T00:10:32.970932Z",
     "iopub.status.busy": "2021-12-03T00:10:32.970284Z",
     "iopub.status.idle": "2021-12-03T00:10:32.978000Z",
     "shell.execute_reply": "2021-12-03T00:10:32.978595Z",
     "shell.execute_reply.started": "2021-12-02T08:10:33.930133Z"
    },
    "papermill": {
     "duration": 0.088283,
     "end_time": "2021-12-03T00:10:32.978767",
     "exception": false,
     "start_time": "2021-12-03T00:10:32.890484",
     "status": "completed"
    },
    "tags": []
   },
   "outputs": [],
   "source": [
    "df_final.to_csv('./ANZ_pred.csv')"
   ]
  },
  {
   "cell_type": "code",
   "execution_count": 46,
   "id": "76eeccdf",
   "metadata": {
    "execution": {
     "iopub.execute_input": "2021-12-03T00:10:33.147320Z",
     "iopub.status.busy": "2021-12-03T00:10:33.146269Z",
     "iopub.status.idle": "2021-12-03T00:10:33.362548Z",
     "shell.execute_reply": "2021-12-03T00:10:33.361822Z",
     "shell.execute_reply.started": "2021-12-02T08:10:33.940635Z"
    },
    "papermill": {
     "duration": 0.306302,
     "end_time": "2021-12-03T00:10:33.362697",
     "exception": false,
     "start_time": "2021-12-03T00:10:33.056395",
     "status": "completed"
    },
    "tags": []
   },
   "outputs": [
    {
     "data": {
      "image/png": "[encoded data removed]",
      "text/plain": [
       "<Figure size 576x432 with 1 Axes>"
      ]
     },
     "metadata": {
      "needs_background": "light"
     },
     "output_type": "display_data"
    }
   ],
   "source": [
    "plt.figure(figsize=(8,6))\n",
    "plt.scatter(df_final['balance'], df_final['annual_salary'])\n",
    "plt.xlim(0,50000)\n",
    "plt.title('Annual Salary vs Balance')\n",
    "plt.xlabel('Balance')\n",
    "plt.ylabel('Annual Salary')\n",
    "plt.show()"
   ]
  },
  {
   "cell_type": "markdown",
   "id": "ba2cf477",
   "metadata": {
    "papermill": {
     "duration": 0.097894,
     "end_time": "2021-12-03T00:10:33.550921",
     "exception": false,
     "start_time": "2021-12-03T00:10:33.453027",
     "status": "completed"
    },
    "tags": []
   },
   "source": [
    "- For balance over 20,000, there is no obvious correlation to the annual salary.\n",
    "- We can focus on the balance below 16,000\n",
    "- There is positive correlation between balance and annual salary for the balance below 16,000\n",
    "- Therefore if the outliers are exluded, the balance is a good indicator of the annual salary"
   ]
  },
  {
   "cell_type": "code",
   "execution_count": 47,
   "id": "fe9da334",
   "metadata": {
    "execution": {
     "iopub.execute_input": "2021-12-03T00:10:33.721807Z",
     "iopub.status.busy": "2021-12-03T00:10:33.720927Z",
     "iopub.status.idle": "2021-12-03T00:10:33.974716Z",
     "shell.execute_reply": "2021-12-03T00:10:33.975334Z",
     "shell.execute_reply.started": "2021-12-02T08:10:34.097867Z"
    },
    "papermill": {
     "duration": 0.340411,
     "end_time": "2021-12-03T00:10:33.975534",
     "exception": false,
     "start_time": "2021-12-03T00:10:33.635123",
     "status": "completed"
    },
    "tags": []
   },
   "outputs": [
    {
     "data": {
      "image/png": "[encoded data removed]",
      "text/plain": [
       "<Figure size 576x432 with 1 Axes>"
      ]
     },
     "metadata": {
      "needs_background": "light"
     },
     "output_type": "display_data"
    }
   ],
   "source": [
    "plt.figure(figsize=(8,6))\n",
    "plt.scatter(df_final['balance'], df_final['annual_salary'])\n",
    "plt.xlim(0,16000)\n",
    "plt.title('Annual Salary vs Balance')\n",
    "plt.xlabel('Balance')\n",
    "plt.ylabel('Annual Salary')\n",
    "plt.show()"
   ]
  },
  {
   "cell_type": "code",
   "execution_count": 48,
   "id": "552c0b2a",
   "metadata": {
    "execution": {
     "iopub.execute_input": "2021-12-03T00:10:34.189913Z",
     "iopub.status.busy": "2021-12-03T00:10:34.176678Z",
     "iopub.status.idle": "2021-12-03T00:10:34.379391Z",
     "shell.execute_reply": "2021-12-03T00:10:34.378550Z",
     "shell.execute_reply.started": "2021-12-02T08:10:55.909001Z"
    },
    "papermill": {
     "duration": 0.314778,
     "end_time": "2021-12-03T00:10:34.379545",
     "exception": false,
     "start_time": "2021-12-03T00:10:34.064767",
     "status": "completed"
    },
    "tags": []
   },
   "outputs": [
    {
     "data": {
      "image/png": "[encoded data removed]",
      "text/plain": [
       "<Figure size 576x432 with 1 Axes>"
      ]
     },
     "metadata": {
      "needs_background": "light"
     },
     "output_type": "display_data"
    }
   ],
   "source": [
    "plt.figure(figsize=(8,6))\n",
    "plt.scatter(df_final['age'], df_final['annual_salary'])\n",
    "plt.title('Annual Salary vs Age')\n",
    "plt.xlabel('Age')\n",
    "plt.ylabel('Annual Salary')\n",
    "plt.show()"
   ]
  },
  {
   "cell_type": "code",
   "execution_count": 49,
   "id": "c1ed822e",
   "metadata": {
    "execution": {
     "iopub.execute_input": "2021-12-03T00:10:34.553446Z",
     "iopub.status.busy": "2021-12-03T00:10:34.552405Z",
     "iopub.status.idle": "2021-12-03T00:10:34.777139Z",
     "shell.execute_reply": "2021-12-03T00:10:34.776484Z",
     "shell.execute_reply.started": "2021-12-02T08:10:34.437319Z"
    },
    "papermill": {
     "duration": 0.315316,
     "end_time": "2021-12-03T00:10:34.777283",
     "exception": false,
     "start_time": "2021-12-03T00:10:34.461967",
     "status": "completed"
    },
    "tags": []
   },
   "outputs": [
    {
     "data": {
      "image/png": "[encoded data removed]",
      "text/plain": [
       "<Figure size 576x432 with 1 Axes>"
      ]
     },
     "metadata": {
      "needs_background": "light"
     },
     "output_type": "display_data"
    }
   ],
   "source": [
    "plt.figure(figsize=(8,6))\n",
    "plt.scatter(df_final['amount'], df_final['annual_salary'])\n",
    "plt.title('Annual Salary vs Avg Purchase Amount')\n",
    "plt.xlabel('Avg amount')\n",
    "plt.ylabel('Annual Salary')\n",
    "plt.show()"
   ]
  },
  {
   "cell_type": "markdown",
   "id": "fed75f1b",
   "metadata": {
    "execution": {
     "iopub.execute_input": "2021-12-02T06:48:35.858506Z",
     "iopub.status.busy": "2021-12-02T06:48:35.858133Z",
     "iopub.status.idle": "2021-12-02T06:48:35.865334Z",
     "shell.execute_reply": "2021-12-02T06:48:35.864139Z",
     "shell.execute_reply.started": "2021-12-02T06:48:35.858471Z"
    },
    "papermill": {
     "duration": 0.08078,
     "end_time": "2021-12-03T00:10:34.939596",
     "exception": false,
     "start_time": "2021-12-03T00:10:34.858816",
     "status": "completed"
    },
    "tags": []
   },
   "source": [
    "# Conclusions and Recommendations\n",
    "\n",
    "- Purchase amount distribution shows that customers aged 30 to 40 have the most spending power. They are the target customers for financial products like credit cards and debit cards.\n",
    "- Some customers with lower salary still have large amount of balance. Their salary is not the main income source. They are not the target for loan products but it is good to introduce investing products like ANZ Share Investing or Superannuation.\n",
    "- The customers with annual salary over AUD100,000 usually have balance over AUD10,000. They are the target customers for personal loans and home loans.\n",
    "- The largest number of purchases, the largest amount of purchases and the largest average amount per transaction are all happened on Wednesday and afterwards. Less purchase activities happened on Monday and Tuesday. The promotions could be arranged from Wednesday to Sunday to encourage customers use credit or debit cards. The stimulation plan include triple-points, cash back or discount. "
   ]
  }
 ],
 "metadata": {
  "kernelspec": {
   "display_name": "Python 3",
   "language": "python",
   "name": "python3"
  },
  "language_info": {
   "codemirror_mode": {
    "name": "ipython",
    "version": 3
   },
   "file_extension": ".py",
   "mimetype": "text/x-python",
   "name": "python",
   "nbconvert_exporter": "python",
   "pygments_lexer": "ipython3",
   "version": "3.7.10"
  },
  "papermill": {
   "default_parameters": {},
   "duration": 51.07992,
   "end_time": "2021-12-03T00:10:36.637444",
   "environment_variables": {},
   "exception": null,
   "input_path": "__notebook__.ipynb",
   "output_path": "__notebook__.ipynb",
   "parameters": {},
   "start_time": "2021-12-03T00:09:45.557524",
   "version": "2.3.3"
  }
 },
 "nbformat": 4,
 "nbformat_minor": 5
}
